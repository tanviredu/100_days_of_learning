{
 "cells": [
  {
   "cell_type": "markdown",
   "id": "326f2e7d",
   "metadata": {},
   "source": [
    "# DATETIME FUNCTION"
   ]
  },
  {
   "cell_type": "code",
   "execution_count": 3,
   "id": "9a636f8b",
   "metadata": {},
   "outputs": [],
   "source": [
    "import mysql.connector as connector\n",
    "connection = connector.connect(user=\"root\",password=\"\",host=\"127.0.0.1\")\n",
    "cursor = connection.cursor()\n",
    "cursor.execute(\"USE little_lemon\")"
   ]
  },
  {
   "cell_type": "code",
   "execution_count": 13,
   "id": "0ef271db",
   "metadata": {},
   "outputs": [
    {
     "name": "stdout",
     "output_type": "stream",
     "text": [
      "2023-01-05 06:44:15.356165\n",
      "2023-01-05\n",
      "06:44:15.356165\n",
      "7 days, 0:00:00\n",
      "2023-01-12\n",
      "2023-01-12 06:44:15.356165\n"
     ]
    }
   ],
   "source": [
    "## datetime functions \n",
    "import datetime as dt\n",
    "current_time = dt.datetime.now() #Year-Month-Day Hour:Munite:Second\n",
    "print(current_time)\n",
    "print(current_time.date())\n",
    "print(current_time.time())\n",
    "\n",
    "## find the difference of time is time delta\n",
    "## whats was the date after one week\n",
    "week = dt.timedelta(days=7)\n",
    "print(week)\n",
    "\n",
    "date_after_1_week = current_time.date()+week\n",
    "print(date_after_1_week)\n",
    "date_after_1_week = current_time+week\n",
    "print(date_after_1_week)"
   ]
  },
  {
   "cell_type": "code",
   "execution_count": 14,
   "id": "4acb65f2",
   "metadata": {},
   "outputs": [],
   "source": [
    "## changing the booking slot to 1 hour \n",
    "query1 = \"\"\"SELECT * FROM bookings;\"\"\"\n",
    "cursor.execute(query1)"
   ]
  },
  {
   "cell_type": "code",
   "execution_count": 15,
   "id": "6f9abe12",
   "metadata": {},
   "outputs": [
    {
     "name": "stdout",
     "output_type": "stream",
     "text": [
      "('BookingID', 'TableNo', 'GuestFirstName', 'GuestLastName', 'BookingSlot', 'EmployeeID')\n"
     ]
    }
   ],
   "source": [
    "col = cursor.column_names\n",
    "print(col)"
   ]
  },
  {
   "cell_type": "code",
   "execution_count": 16,
   "id": "7016e048",
   "metadata": {},
   "outputs": [],
   "source": [
    "results = cursor.fetchall()"
   ]
  },
  {
   "cell_type": "code",
   "execution_count": 20,
   "id": "60684c73",
   "metadata": {},
   "outputs": [
    {
     "name": "stdout",
     "output_type": "stream",
     "text": [
      "(1, 12, 'Anna', 'Iversen', datetime.timedelta(seconds=68400), 1)\n",
      "(2, 11, 'Joakim', 'Iversen', datetime.timedelta(seconds=68400), 6)\n",
      "(3, 19, 'Vanessa', 'McCarthy', datetime.timedelta(seconds=54000), 3)\n",
      "(4, 15, 'Marcos', 'Romero', datetime.timedelta(seconds=63000), 4)\n",
      "(5, 5, 'Hiroki', 'Yamane', datetime.timedelta(seconds=66600), 2)\n",
      "(6, 10, 'Diana', 'Pinto', datetime.timedelta(seconds=72000), 5)\n"
     ]
    }
   ],
   "source": [
    "for item in results:\n",
    "    print(item)"
   ]
  },
  {
   "cell_type": "code",
   "execution_count": 24,
   "id": "d89bde69",
   "metadata": {},
   "outputs": [
    {
     "name": "stdout",
     "output_type": "stream",
     "text": [
      "BookingID 1 is moved from 19:00:00 to 20:00:00\n",
      "BookingID 2 is moved from 19:00:00 to 20:00:00\n",
      "BookingID 3 is moved from 15:00:00 to 16:00:00\n",
      "BookingID 4 is moved from 17:30:00 to 18:30:00\n",
      "BookingID 5 is moved from 18:30:00 to 19:30:00\n",
      "BookingID 6 is moved from 20:00:00 to 21:00:00\n"
     ]
    }
   ],
   "source": [
    "for result in results:\n",
    "    booking_id       = result[0]\n",
    "    booking_slot     = result[4]\n",
    "    new_booking_slot = booking_slot+dt.timedelta(hours=1)\n",
    "    print(\"BookingID {} is moved from {} to {}\".format(booking_id,booking_slot,new_booking_slot))\n",
    "    "
   ]
  },
  {
   "cell_type": "code",
   "execution_count": 25,
   "id": "aa28e062",
   "metadata": {},
   "outputs": [
    {
     "name": "stdout",
     "output_type": "stream",
     "text": [
      "SELECT SUM(BillAmount) AS Total_Sale FROM orders;\n"
     ]
    }
   ],
   "source": [
    "## total amount of different order\n",
    "sql_query2 = \"\"\"SELECT SUM(BillAmount) AS Total_Sale FROM orders;\"\"\"\n",
    "print(sql_query2)"
   ]
  },
  {
   "cell_type": "code",
   "execution_count": 26,
   "id": "caacfd84",
   "metadata": {},
   "outputs": [
    {
     "name": "stdout",
     "output_type": "stream",
     "text": [
      "('Total_Sale',)\n",
      "(Decimal('243'),)\n"
     ]
    }
   ],
   "source": [
    "cursor.execute(sql_query2)\n",
    "col = cursor.column_names\n",
    "data = cursor.fetchall()\n",
    "print(col)\n",
    "for item in data:\n",
    "    print(item)"
   ]
  },
  {
   "cell_type": "code",
   "execution_count": 27,
   "id": "5db93975",
   "metadata": {},
   "outputs": [
    {
     "name": "stdout",
     "output_type": "stream",
     "text": [
      "SELECT BookingSlot AS Slot FROM bookings;\n"
     ]
    }
   ],
   "source": [
    "sql_query3 = \"\"\"SELECT BookingSlot AS Slot FROM bookings;\"\"\"\n",
    "print(sql_query3)"
   ]
  },
  {
   "cell_type": "code",
   "execution_count": 30,
   "id": "1a5782de",
   "metadata": {},
   "outputs": [
    {
     "name": "stdout",
     "output_type": "stream",
     "text": [
      "('Slot',)\n",
      "19:00:00\n",
      "19:00:00\n",
      "15:00:00\n",
      "17:30:00\n",
      "18:30:00\n",
      "20:00:00\n"
     ]
    }
   ],
   "source": [
    "cursor.execute(sql_query3)\n",
    "col = cursor.column_names\n",
    "data = cursor.fetchall()\n",
    "print(col)\n",
    "for item in data:\n",
    "    print(item[0])"
   ]
  },
  {
   "cell_type": "code",
   "execution_count": 31,
   "id": "39c80725",
   "metadata": {},
   "outputs": [
    {
     "name": "stdout",
     "output_type": "stream",
     "text": [
      "SELECT HOUR(BookingSlot) AS HOUR_SLOT FROM bookings;\n"
     ]
    }
   ],
   "source": [
    "sql_query4 = \"\"\"SELECT HOUR(BookingSlot) AS HOUR_SLOT FROM bookings;\"\"\"\n",
    "print(sql_query4)"
   ]
  },
  {
   "cell_type": "code",
   "execution_count": 32,
   "id": "bc26ae89",
   "metadata": {},
   "outputs": [
    {
     "name": "stdout",
     "output_type": "stream",
     "text": [
      "('HOUR_SLOT',)\n",
      "19\n",
      "19\n",
      "15\n",
      "17\n",
      "18\n",
      "20\n"
     ]
    }
   ],
   "source": [
    "cursor.execute(sql_query4)\n",
    "col = cursor.column_names\n",
    "data = cursor.fetchall()\n",
    "print(col)\n",
    "for item in data:\n",
    "    print(item[0])"
   ]
  },
  {
   "cell_type": "markdown",
   "id": "e20e98d7",
   "metadata": {},
   "source": [
    "# TASK 1\n",
    "Along with the booking ID, little lemon needs to add the full name of the guests in upper case on their invoices. Help little lemon to extract the data in the required format.\n",
    "TIP: Target GuestFistName, GuestLastName and combine them to get GuestFullName."
   ]
  },
  {
   "cell_type": "code",
   "execution_count": 33,
   "id": "dc991ae6",
   "metadata": {},
   "outputs": [
    {
     "name": "stdout",
     "output_type": "stream",
     "text": [
      "SELECT BookingID AS ID,CONCAT(GuestFirstName,\" \",GuestLastName) AS GuestFullName FROM bookings;\n"
     ]
    }
   ],
   "source": [
    "sql_query5 = \"\"\"SELECT BookingID AS ID,CONCAT(GuestFirstName,\" \",GuestLastName) AS GuestFullName FROM bookings;\"\"\"\n",
    "print(sql_query5)"
   ]
  },
  {
   "cell_type": "code",
   "execution_count": 34,
   "id": "07c3d438",
   "metadata": {},
   "outputs": [],
   "source": [
    "cursor.execute(sql_query5)"
   ]
  },
  {
   "cell_type": "code",
   "execution_count": 35,
   "id": "e43e8eca",
   "metadata": {},
   "outputs": [
    {
     "name": "stdout",
     "output_type": "stream",
     "text": [
      "('ID', 'GuestFullName')\n",
      "(1, 'Anna Iversen')\n",
      "(2, 'Joakim Iversen')\n",
      "(3, 'Vanessa McCarthy')\n",
      "(4, 'Marcos Romero')\n",
      "(5, 'Hiroki Yamane')\n",
      "(6, 'Diana Pinto')\n"
     ]
    }
   ],
   "source": [
    "col  = cursor.column_names\n",
    "data = cursor.fetchall()\n",
    "print(col)\n",
    "for item in data:\n",
    "    print(item)"
   ]
  },
  {
   "cell_type": "code",
   "execution_count": null,
   "id": "c11d3f7f",
   "metadata": {},
   "outputs": [],
   "source": []
  }
 ],
 "metadata": {
  "kernelspec": {
   "display_name": "Python 3 (ipykernel)",
   "language": "python",
   "name": "python3"
  },
  "language_info": {
   "codemirror_mode": {
    "name": "ipython",
    "version": 3
   },
   "file_extension": ".py",
   "mimetype": "text/x-python",
   "name": "python",
   "nbconvert_exporter": "python",
   "pygments_lexer": "ipython3",
   "version": "3.11.0"
  }
 },
 "nbformat": 4,
 "nbformat_minor": 5
}
