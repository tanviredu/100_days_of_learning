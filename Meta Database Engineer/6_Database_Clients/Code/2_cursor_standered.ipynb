{
 "cells": [
  {
   "cell_type": "code",
   "execution_count": 19,
   "id": "5655b2ca",
   "metadata": {},
   "outputs": [],
   "source": [
    "import mysql.connector as connector"
   ]
  },
  {
   "cell_type": "code",
   "execution_count": 20,
   "id": "707ccab2",
   "metadata": {},
   "outputs": [],
   "source": [
    "connection = connector.connect(user = \"root\",password=\"\",host=\"127.0.0.1\")"
   ]
  },
  {
   "cell_type": "code",
   "execution_count": 21,
   "id": "591e42bb",
   "metadata": {},
   "outputs": [],
   "source": [
    "cursor = connection.cursor()"
   ]
  },
  {
   "cell_type": "code",
   "execution_count": 22,
   "id": "d5f03c4d",
   "metadata": {},
   "outputs": [],
   "source": [
    "cursor.execute(\"\"\"USE little_lemon\"\"\")"
   ]
  },
  {
   "cell_type": "code",
   "execution_count": 23,
   "id": "8880ef06",
   "metadata": {},
   "outputs": [],
   "source": [
    "cursor.execute(\"\"\"SHOW TABLES\"\"\");\n",
    "\n",
    "data = cursor.fetchall() ## you have to fetch the data after you execute\n",
    "                         ## if you dont fetch the data the next time you \n",
    "                         ## you execute any query it will throw an unread\n",
    "                         ## result error"
   ]
  },
  {
   "cell_type": "code",
   "execution_count": 24,
   "id": "855d95b4",
   "metadata": {},
   "outputs": [
    {
     "name": "stdout",
     "output_type": "stream",
     "text": [
      "('bookings',)\n",
      "('menuitems',)\n",
      "('menus',)\n",
      "('orders',)\n"
     ]
    }
   ],
   "source": [
    "for table in data:\n",
    "    print(table)"
   ]
  },
  {
   "cell_type": "code",
   "execution_count": 25,
   "id": "d9ac0f89",
   "metadata": {},
   "outputs": [],
   "source": [
    "cursor2 = connection.cursor()"
   ]
  },
  {
   "cell_type": "code",
   "execution_count": 28,
   "id": "8d0adf54",
   "metadata": {},
   "outputs": [
    {
     "ename": "InternalError",
     "evalue": "Unread result found",
     "output_type": "error",
     "traceback": [
      "\u001b[1;31m---------------------------------------------------------------------------\u001b[0m",
      "\u001b[1;31mInternalError\u001b[0m                             Traceback (most recent call last)",
      "Cell \u001b[1;32mIn[28], line 3\u001b[0m\n\u001b[0;32m      1\u001b[0m cursor2\u001b[38;5;241m.\u001b[39mexecute(\u001b[38;5;124m\"\u001b[39m\u001b[38;5;124mUSE little_lemon\u001b[39m\u001b[38;5;124m\"\u001b[39m)\n\u001b[0;32m      2\u001b[0m cursor2\u001b[38;5;241m.\u001b[39mexecute(\u001b[38;5;124m\"\u001b[39m\u001b[38;5;124mSELECT * FROM bookings\u001b[39m\u001b[38;5;124m\"\u001b[39m)\n\u001b[1;32m----> 3\u001b[0m \u001b[43mcursor2\u001b[49m\u001b[38;5;241;43m.\u001b[39;49m\u001b[43mexecute\u001b[49m\u001b[43m(\u001b[49m\u001b[38;5;124;43m\"\u001b[39;49m\u001b[38;5;124;43mSELECT * FROM orders\u001b[39;49m\u001b[38;5;124;43m\"\u001b[39;49m\u001b[43m)\u001b[49m\n\u001b[0;32m      4\u001b[0m \u001b[38;5;66;03m## it will throw an unread result\u001b[39;00m\n",
      "File \u001b[1;32mC:\\Python311\\Lib\\site-packages\\mysql\\connector\\cursor_cext.py:252\u001b[0m, in \u001b[0;36mCMySQLCursor.execute\u001b[1;34m(self, operation, params, multi)\u001b[0m\n\u001b[0;32m    250\u001b[0m \u001b[38;5;28;01mexcept\u001b[39;00m (ProgrammingError, \u001b[38;5;167;01mReferenceError\u001b[39;00m) \u001b[38;5;28;01mas\u001b[39;00m err:\n\u001b[0;32m    251\u001b[0m     \u001b[38;5;28;01mraise\u001b[39;00m ProgrammingError(\u001b[38;5;124m\"\u001b[39m\u001b[38;5;124mCursor is not connected\u001b[39m\u001b[38;5;124m\"\u001b[39m, \u001b[38;5;241m2055\u001b[39m) \u001b[38;5;28;01mfrom\u001b[39;00m \u001b[38;5;21;01merr\u001b[39;00m\n\u001b[1;32m--> 252\u001b[0m \u001b[38;5;28;43mself\u001b[39;49m\u001b[38;5;241;43m.\u001b[39;49m\u001b[43m_cnx\u001b[49m\u001b[38;5;241;43m.\u001b[39;49m\u001b[43mhandle_unread_result\u001b[49m\u001b[43m(\u001b[49m\u001b[43m)\u001b[49m\n\u001b[0;32m    254\u001b[0m stmt \u001b[38;5;241m=\u001b[39m \u001b[38;5;124m\"\u001b[39m\u001b[38;5;124m\"\u001b[39m\n\u001b[0;32m    255\u001b[0m \u001b[38;5;28mself\u001b[39m\u001b[38;5;241m.\u001b[39mreset()\n",
      "File \u001b[1;32mC:\\Python311\\Lib\\site-packages\\mysql\\connector\\connection_cext.py:872\u001b[0m, in \u001b[0;36mCMySQLConnection.handle_unread_result\u001b[1;34m(self, prepared)\u001b[0m\n\u001b[0;32m    870\u001b[0m     \u001b[38;5;28mself\u001b[39m\u001b[38;5;241m.\u001b[39mconsume_results()\n\u001b[0;32m    871\u001b[0m \u001b[38;5;28;01melif\u001b[39;00m unread_result:\n\u001b[1;32m--> 872\u001b[0m     \u001b[38;5;28;01mraise\u001b[39;00m InternalError(\u001b[38;5;124m\"\u001b[39m\u001b[38;5;124mUnread result found\u001b[39m\u001b[38;5;124m\"\u001b[39m)\n",
      "\u001b[1;31mInternalError\u001b[0m: Unread result found"
     ]
    }
   ],
   "source": [
    "cursor2.execute(\"USE little_lemon\")\n",
    "cursor2.execute(\"SELECT * FROM bookings\")\n",
    "cursor2.execute(\"SELECT * FROM orders\")\n",
    "## it will throw an unread result"
   ]
  },
  {
   "cell_type": "markdown",
   "id": "decd9fe9",
   "metadata": {},
   "source": [
    "Make sure you are consuming all of the results of a query before executing a new query with the same cursor. This can typically be done by calling the fetchall(), fetchone(), or fetchmany() methods of the cursor, depending on your needs.\n",
    "\n",
    "If you are using multiple cursors in your program, make sure you are closing each cursor after you are finished using it. This will ensure that the cursor is no longer associated with an open result set and you can execute new queries without encountering the \"unread result found\" error.\n",
    "\n",
    "If you are using a connection pool in your program, you may need to call the connection.commit() method after executing each query to ensure that the results of the query are persisted to the database.\n",
    "\n",
    "If you are still encountering the error after trying these steps, it may be helpful to print out the SQL statements that are being executed and review them to see if there is anything unusual or unexpected. It may also be helpful to review the documentation for the MySQL connector library to see if there are any additional considerations or best practices for using multiple cursors."
   ]
  },
  {
   "cell_type": "markdown",
   "id": "7ed7abb8",
   "metadata": {},
   "source": [
    "now using buffered cursor\n",
    "it will fetch all the information\n",
    "and save it to the memory/RAM\n",
    "thats why this time it will not throw an error"
   ]
  },
  {
   "cell_type": "code",
   "execution_count": null,
   "id": "f8a19238",
   "metadata": {},
   "outputs": [],
   "source": []
  },
  {
   "cell_type": "code",
   "execution_count": null,
   "id": "170d6668",
   "metadata": {},
   "outputs": [],
   "source": []
  }
 ],
 "metadata": {
  "kernelspec": {
   "display_name": "Python 3 (ipykernel)",
   "language": "python",
   "name": "python3"
  },
  "language_info": {
   "codemirror_mode": {
    "name": "ipython",
    "version": 3
   },
   "file_extension": ".py",
   "mimetype": "text/x-python",
   "name": "python",
   "nbconvert_exporter": "python",
   "pygments_lexer": "ipython3",
   "version": "3.11.0"
  }
 },
 "nbformat": 4,
 "nbformat_minor": 5
}
