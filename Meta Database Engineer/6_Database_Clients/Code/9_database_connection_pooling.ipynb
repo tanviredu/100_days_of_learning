{
 "cells": [
  {
   "cell_type": "markdown",
   "id": "66512014",
   "metadata": {},
   "source": [
    "Database connection pooling is a technique used to efficiently manage large numbers of database connections. Instead of having to create and tear down individual database connections for each request, the application can draw from an existing pool of database connections that have already been established. This can greatly reduce the overhead associated with establishing database connections, as well as increase the performance of the application by reducing the time it takes to create a connection. Connection pooling also allows applications to scale more easily, since they can draw from a pool of existing connections instead of having to establish new ones."
   ]
  },
  {
   "cell_type": "markdown",
   "id": "eb11179f",
   "metadata": {},
   "source": [
    "when a user enter an applicaion and query something a connection is neing opened .then after the work it close. but if you offer connection pooling them that means that this connection will not close it just given to another user \n",
    "thats connection pooling"
   ]
  },
  {
   "cell_type": "code",
   "execution_count": null,
   "id": "5c8a5d4b",
   "metadata": {},
   "outputs": [],
   "source": []
  }
 ],
 "metadata": {
  "kernelspec": {
   "display_name": "Python 3 (ipykernel)",
   "language": "python",
   "name": "python3"
  },
  "language_info": {
   "codemirror_mode": {
    "name": "ipython",
    "version": 3
   },
   "file_extension": ".py",
   "mimetype": "text/x-python",
   "name": "python",
   "nbconvert_exporter": "python",
   "pygments_lexer": "ipython3",
   "version": "3.11.0"
  }
 },
 "nbformat": 4,
 "nbformat_minor": 5
}
