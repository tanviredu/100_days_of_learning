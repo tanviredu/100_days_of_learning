{
 "cells": [
  {
   "cell_type": "markdown",
   "id": "66512014",
   "metadata": {},
   "source": [
    "Database connection pooling is a technique used to efficiently manage large numbers of database connections. Instead of having to create and tear down individual database connections for each request, the application can draw from an existing pool of database connections that have already been established. This can greatly reduce the overhead associated with establishing database connections, as well as increase the performance of the application by reducing the time it takes to create a connection. Connection pooling also allows applications to scale more easily, since they can draw from a pool of existing connections instead of having to establish new ones."
   ]
  },
  {
   "cell_type": "markdown",
   "id": "eb11179f",
   "metadata": {},
   "source": [
    "when a user enter an applicaion and query something a connection is neing opened .then after the work it close. but if you offer connection pooling them that means that this connection will not close it just given to another user \n",
    "thats connection pooling"
   ]
  },
  {
   "cell_type": "markdown",
   "id": "403d738d",
   "metadata": {},
   "source": [
    "connection pool keep the existing connection open so that one user's seesion is closed this connection remain open and available for other user to use instead open a new connection.this will speed up the application"
   ]
  },
  {
   "cell_type": "code",
   "execution_count": 2,
   "id": "cadb371f",
   "metadata": {},
   "outputs": [],
   "source": [
    "from mysql.connector.pooling import MySQLConnectionPool"
   ]
  },
  {
   "cell_type": "code",
   "execution_count": 3,
   "id": "a1cf5146",
   "metadata": {},
   "outputs": [],
   "source": [
    "## make a connection with limited number of pool connection\n",
    "pool = MySQLConnectionPool(pool_name=\"little_lemon_pool\",\n",
    "                          pool_size=4,\n",
    "                          host=\"127.0.0.1\",\n",
    "                          database='little_lemon',\n",
    "                          user=\"root\",\n",
    "                          password=\"\")"
   ]
  },
  {
   "cell_type": "code",
   "execution_count": 4,
   "id": "7e28586c",
   "metadata": {},
   "outputs": [],
   "source": [
    "## now we have 4 pool connection if 4 user use the pool they can use it\n",
    "## if one's job finished then new user can take his palce of database connection\n",
    "## if more than 4 try to access it it will throw an error\n",
    "## make 4 user in a list\n",
    "users = [\"mary\",\"john\",\"michael\",\"tony\"]"
   ]
  },
  {
   "cell_type": "code",
   "execution_count": 6,
   "id": "c19e2cc2",
   "metadata": {},
   "outputs": [
    {
     "name": "stdout",
     "output_type": "stream",
     "text": [
      "Connection ID for mary - 8 is requesting info on booking 1\n",
      "[(1, 12, 'Anna', 'Iversen', datetime.timedelta(seconds=68400), 1)]\n",
      "Connection ID for john - 9 is requesting info on booking 2\n",
      "[(2, 11, 'Joakim', 'Iversen', datetime.timedelta(seconds=68400), 6)]\n",
      "Connection ID for michael - 10 is requesting info on booking 3\n",
      "[(3, 19, 'Vanessa', 'McCarthy', datetime.timedelta(seconds=54000), 3)]\n",
      "Connection ID for tony - 11 is requesting info on booking 4\n",
      "[(4, 15, 'Marcos', 'Romero', datetime.timedelta(seconds=63000), 4)]\n"
     ]
    }
   ],
   "source": [
    "for i in range(pool.pool_size):\n",
    "    connection = pool.get_connection()\n",
    "    if connection.is_connected:\n",
    "        cursor = connection.cursor()\n",
    "        print(\"Connection ID for {} - {} is requesting info on booking {}\".format(users[i],connection.connection_id,i+1))\n",
    "        cursor.execute(\"SELECT * FROM bookings WHERE BookingID={}\".format(i+1))\n",
    "        print(cursor.fetchall())\n",
    "    else:\n",
    "        print(\"no Live connection can be made\")\n",
    "    connection.close()\n",
    "    \n",
    "        "
   ]
  },
  {
   "cell_type": "markdown",
   "id": "4ba94ab9",
   "metadata": {},
   "source": [
    "you can see that when we execute the code block above the it prints 4 connection id\n",
    "then we close the session after every loop\n",
    "but if we run again . instead of new connection with new connection id ,it uses the existing one so connection id is not new it remains the previous one\n",
    "\n",
    "and if you commented out the \n",
    "connection.close() method in the for loop\n",
    "then if you run the cell above multiple time it will throw a connection exhusted error because out pool size is 4 and every one of them is in use \n",
    "to use it we have to close the session after the use in python\n"
   ]
  },
  {
   "cell_type": "markdown",
   "id": "da38dbca",
   "metadata": {},
   "source": [
    "# Task 1:\n",
    "\n",
    "Create a database connection pool with three connections available for the users to connect to the database with. You need to import MySQLConnectionPool class and pass the following arguments:\n",
    "\n",
    "pool_name = “ll_pool_a”\n",
    "\n",
    "pool_size = 3\n",
    "\n",
    "**dbconfig"
   ]
  },
  {
   "cell_type": "code",
   "execution_count": 14,
   "id": "63a98eec",
   "metadata": {},
   "outputs": [],
   "source": [
    "import mysql.connector\n",
    "dbconfig = {\n",
    "    'database':'little_lemon',\n",
    "    'user':'root',\n",
    "    'password':''\n",
    "    \n",
    "}\n",
    "try:\n",
    "    pool = MySQLConnectionPool(pool_name=\"ll_pool_a\",\n",
    "                          pool_size=3,\n",
    "                          host=\"127.0.0.1\",**dbconfig\n",
    "                          )\n",
    "except mysql.connector.Error as err:\n",
    "    if err.errno == 1045:\n",
    "        print(\"Error code: {}\".format(err.errno))\n",
    "        print(\"Error message: {}\".format(err.msg))\n",
    "    "
   ]
  },
  {
   "cell_type": "code",
   "execution_count": 4,
   "id": "987f78b5",
   "metadata": {},
   "outputs": [
    {
     "name": "stdout",
     "output_type": "stream",
     "text": [
      "The connection pool is created with a name : ll_pool_a\n",
      "The pool size is: 3\n"
     ]
    }
   ],
   "source": [
    "print(\"The connection pool is created with a name : {}\".format(pool.pool_name))\n",
    "print(\"The pool size is: {}\".format(pool.pool_size))"
   ]
  },
  {
   "cell_type": "markdown",
   "id": "8c7b7a70",
   "metadata": {},
   "source": [
    "# Task 2:\n",
    "\n",
    "Get a connection from the database connection pool that you have created in the first task and retrieve the following columns from the Bookings table:\n",
    "\n",
    "BookingID\n",
    "\n",
    "GuestFirstName\n",
    "\n",
    "GuestLastName\n",
    "\n",
    "\n",
    "Retrieve the required columns and put the connection back into the pool after you have completed the task.\n",
    "\n",
    "\n",
    "TIP: Use the get_connection module from the pool to use the connection. Use print statements to display the following message and close the connection to return to the pool. "
   ]
  },
  {
   "cell_type": "code",
   "execution_count": 20,
   "id": "0528384d",
   "metadata": {},
   "outputs": [
    {
     "name": "stdout",
     "output_type": "stream",
     "text": [
      "Getting a connection from the pool\n",
      "Creating a cursor object\n",
      "Executing the sql query\n",
      "Fetching the results\n",
      "Retrieving the column names\n",
      "Printing the results\n",
      "('BookingID', 'GuestFirstName', 'GuestLastName')\n",
      "(1, 'Anna', 'Iversen')\n",
      "(2, 'Joakim', 'Iversen')\n",
      "(3, 'Vanessa', 'McCarthy')\n",
      "(4, 'Marcos', 'Romero')\n",
      "(5, 'Hiroki', 'Yamane')\n",
      "(6, 'Diana', 'Pinto')\n"
     ]
    }
   ],
   "source": [
    "import mysql.connector\n",
    "dbconfig = {\n",
    "    'database':'little_lemon',\n",
    "    'user':'root',\n",
    "    'password':''\n",
    "    \n",
    "}\n",
    "try:\n",
    "    dbpool = MySQLConnectionPool(pool_name=\"ll_pool_a\",\n",
    "                          pool_size=3,\n",
    "                          host=\"127.0.0.1\",**dbconfig\n",
    "                          )\n",
    "    print(\"Getting a connection from the pool\")\n",
    "    conn = dbpool.get_connection()\n",
    "    if conn.is_connected:\n",
    "          print(\"Creating a cursor object\")\n",
    "          cursor = conn.cursor()\n",
    "          print(\"Executing the sql query\")\n",
    "          cursor.execute(\"\"\"SELECT BookingID,GuestFirstName,GuestLastName FROM bookings;\"\"\")\n",
    "          print(\"Fetching the results\")\n",
    "          results = cursor.fetchall()\n",
    "          print(\"Retrieving the column names\")\n",
    "          col = cursor.column_names\n",
    "          print(\"Printing the results\")\n",
    "          print(col)\n",
    "          for result in results:\n",
    "                print(result)\n",
    "except mysql.connector.Error as err:\n",
    "    if err.errno == 1045:\n",
    "        print(\"Error code: {}\".format(err.errno))\n",
    "        print(\"Error message: {}\".format(err.msg))\n",
    "    "
   ]
  },
  {
   "cell_type": "markdown",
   "id": "5e671086",
   "metadata": {},
   "source": [
    "# Task 3:\n",
    "\n",
    "The following five guests want to connect to the database:\n",
    "\n",
    "guests = [\"Anna\", \"Marcos\", \"Diana\", \"Joakim\", \"Hiroki\"]\n",
    "\n",
    "You only have three connections in the database connection pool. \n",
    "\n",
    "Use the available connection in the pool to connect three guests and then add new connections to the pool to connect the two remaining guests. \n",
    "\n",
    "Ensure that all five guests are connected to the database at the same time, by adding more connections to the pool. \n",
    "\n",
    "\n",
    "TIP: Use add_connection module from the pool and add a new connection if all existing connections are in use. Use try-except from Python and print the message to inform the user when connected. "
   ]
  },
  {
   "cell_type": "code",
   "execution_count": null,
   "id": "c616c3dd",
   "metadata": {},
   "outputs": [],
   "source": []
  }
 ],
 "metadata": {
  "kernelspec": {
   "display_name": "Python 3 (ipykernel)",
   "language": "python",
   "name": "python3"
  },
  "language_info": {
   "codemirror_mode": {
    "name": "ipython",
    "version": 3
   },
   "file_extension": ".py",
   "mimetype": "text/x-python",
   "name": "python",
   "nbconvert_exporter": "python",
   "pygments_lexer": "ipython3",
   "version": "3.11.0"
  }
 },
 "nbformat": 4,
 "nbformat_minor": 5
}
