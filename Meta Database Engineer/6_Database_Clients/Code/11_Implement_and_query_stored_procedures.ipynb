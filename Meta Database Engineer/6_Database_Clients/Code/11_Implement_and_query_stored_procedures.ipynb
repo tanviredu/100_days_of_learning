{
 "cells": [
  {
   "cell_type": "code",
   "execution_count": 2,
   "id": "501d93ad",
   "metadata": {},
   "outputs": [],
   "source": [
    "import mysql.connector as connector\n",
    "connection = connector.connect(user=\"root\",password=\"\",host=\"127.0.0.1\")\n",
    "cursor = connection.cursor()\n",
    "cursor.execute(\"USE little_lemon_db;\")"
   ]
  },
  {
   "cell_type": "code",
   "execution_count": 23,
   "id": "6db0776e",
   "metadata": {},
   "outputs": [],
   "source": [
    "def action(sql):\n",
    "    cursor.execute(sql)\n",
    "    col = cursor.column_names\n",
    "    results = cursor.fetchall()\n",
    "    print(col)\n",
    "    for item in results:\n",
    "        print(item)"
   ]
  },
  {
   "cell_type": "code",
   "execution_count": 4,
   "id": "590fb7b6",
   "metadata": {},
   "outputs": [
    {
     "name": "stdout",
     "output_type": "stream",
     "text": [
      "('BookingTime',)\n",
      "[(19,), (19,), (15,), (17,), (18,), (20,)]\n"
     ]
    }
   ],
   "source": [
    "action(\"SELECT HOUR(BookingSlot) AS BookingTime FROM bookings\")"
   ]
  },
  {
   "cell_type": "code",
   "execution_count": 8,
   "id": "07d4da5e",
   "metadata": {},
   "outputs": [
    {
     "name": "stdout",
     "output_type": "stream",
     "text": [
      "('BookingHour', 'NumOfBooking')\n",
      "[(19, 2), (15, 1), (17, 1), (18, 1), (20, 1)]\n"
     ]
    }
   ],
   "source": [
    "action(\"SELECT HOUR(BookingSlot) AS BookingHour,COUNT(HOUR(BookingSlot)) AS NumOfBooking FROM bookings GROUP BY BookingHour ORDER BY NumOfBooking DESC  \")"
   ]
  },
  {
   "cell_type": "code",
   "execution_count": 9,
   "id": "337eff99",
   "metadata": {},
   "outputs": [
    {
     "name": "stdout",
     "output_type": "stream",
     "text": [
      "('BookingID', 'TableNo', 'GuestFirstName', 'GuestLastName', 'BookingSlot', 'EmployeeID')\n",
      "[(1, 12, 'Anna', 'Iversen', datetime.timedelta(seconds=68400), 1), (2, 12, 'Joakim', 'Iversen', datetime.timedelta(seconds=68400), 1), (3, 19, 'Vanessa', 'McCarthy', datetime.timedelta(seconds=54000), 3), (4, 15, 'Marcos', 'Romero', datetime.timedelta(seconds=63000), 4), (5, 5, 'Hiroki', 'Yamane', datetime.timedelta(seconds=66600), 2), (6, 8, 'Diana', 'Pinto', datetime.timedelta(seconds=72000), 5)]\n"
     ]
    }
   ],
   "source": [
    "action(\"SELECT * FROM bookings\");"
   ]
  },
  {
   "cell_type": "code",
   "execution_count": 11,
   "id": "dc59e3b6",
   "metadata": {},
   "outputs": [
    {
     "name": "stdout",
     "output_type": "stream",
     "text": [
      "CREATE PROCEDURE PeakHours()\n",
      "BEGIN\n",
      "  SELECT HOUR(BookingSlot) AS BookingHour,COUNT(HOUR(BookingSlot)) AS NumOfBooking \n",
      "  FROM bookings \n",
      "  GROUP BY BookingHour \n",
      "  ORDER BY NumOfBooking \n",
      "  DESC;\n",
      "END\n",
      "\n"
     ]
    }
   ],
   "source": [
    "first_procedure = \"\"\"CREATE PROCEDURE PeakHours()\n",
    "BEGIN\n",
    "  SELECT HOUR(BookingSlot) AS BookingHour,COUNT(HOUR(BookingSlot)) AS NumOfBooking \n",
    "  FROM bookings \n",
    "  GROUP BY BookingHour \n",
    "  ORDER BY NumOfBooking \n",
    "  DESC;\n",
    "END\n",
    "\"\"\"\n",
    "print(first_procedure)"
   ]
  },
  {
   "cell_type": "code",
   "execution_count": 12,
   "id": "56a0d08c",
   "metadata": {},
   "outputs": [],
   "source": [
    "cursor.execute(first_procedure)"
   ]
  },
  {
   "cell_type": "code",
   "execution_count": 13,
   "id": "dc2b491b",
   "metadata": {},
   "outputs": [
    {
     "data": {
      "text/plain": [
       "()"
      ]
     },
     "execution_count": 13,
     "metadata": {},
     "output_type": "execute_result"
    }
   ],
   "source": [
    "cursor.callproc(\"PeakHours\")"
   ]
  },
  {
   "cell_type": "code",
   "execution_count": 15,
   "id": "0ba3b54d",
   "metadata": {},
   "outputs": [],
   "source": [
    "results = next(cursor.stored_results())"
   ]
  },
  {
   "cell_type": "code",
   "execution_count": 16,
   "id": "670f6924",
   "metadata": {},
   "outputs": [],
   "source": [
    "col = results.column_names\n",
    "data = results.fetchall()"
   ]
  },
  {
   "cell_type": "code",
   "execution_count": 17,
   "id": "c18919aa",
   "metadata": {},
   "outputs": [
    {
     "name": "stdout",
     "output_type": "stream",
     "text": [
      "('BookingHour', 'NumOfBooking')\n",
      "(19, 2)\n",
      "(17, 1)\n",
      "(18, 1)\n",
      "(20, 1)\n",
      "(15, 1)\n"
     ]
    }
   ],
   "source": [
    "print(col)\n",
    "for item in data:\n",
    "    print(item)"
   ]
  },
  {
   "cell_type": "code",
   "execution_count": 25,
   "id": "22c9407e",
   "metadata": {},
   "outputs": [
    {
     "name": "stdout",
     "output_type": "stream",
     "text": [
      "('BookingID', 'TableNo', 'GuestFirstName', 'GuestLastName', 'BookingSlot', 'EmployeeID')\n",
      "(1, 12, 'Anna', 'Iversen', datetime.timedelta(seconds=68400), 1)\n",
      "(2, 12, 'Joakim', 'Iversen', datetime.timedelta(seconds=68400), 1)\n",
      "(3, 19, 'Vanessa', 'McCarthy', datetime.timedelta(seconds=54000), 3)\n",
      "(4, 15, 'Marcos', 'Romero', datetime.timedelta(seconds=63000), 4)\n",
      "(5, 5, 'Hiroki', 'Yamane', datetime.timedelta(seconds=66600), 2)\n",
      "(6, 8, 'Diana', 'Pinto', datetime.timedelta(seconds=72000), 5)\n"
     ]
    }
   ],
   "source": [
    "action(\"SELECT * FROM Bookings\")"
   ]
  },
  {
   "cell_type": "code",
   "execution_count": 32,
   "id": "8832a0fd",
   "metadata": {},
   "outputs": [
    {
     "name": "stdout",
     "output_type": "stream",
     "text": [
      "('GustName', 'Status')\n",
      "('Anna Iversen', 'Ready to pay')\n",
      "('Joakim Iversen', 'Ready to pay')\n",
      "('Vanessa McCarthy', 'Ready to serve')\n",
      "('Marcos Romero', 'Preparing Order')\n",
      "('Hiroki Yamane', 'Ready to pay')\n",
      "('Diana Pinto', 'Order served')\n"
     ]
    }
   ],
   "source": [
    "action(\"\"\"SELECT CONCAT(B.GuestFirstName,' ',B.GuestLastName) AS GustName,\n",
    "          CASE\n",
    "              WHEN E.Role = \"Manager\" THEN \"Ready to pay\"\n",
    "              WHEN E.Role = \"Assistant Manager\" THEN \"Ready to pay\"\n",
    "              WHEN E.Role = \"Head Chef\" THEN \"Ready to serve\"\n",
    "              WHEN E.Role = \"Assistant Chef\" THEN \"Preparing Order\"\n",
    "              WHEN E.Role = \"Head Waiter\" THEN \"Order served\"\n",
    "            END AS Status\n",
    "          FROM bookings B LEFT JOIN Employees E \n",
    "          ON\n",
    "          B.EmployeeID = E.EmployeeID;\n",
    "          \"\"\")"
   ]
  },
  {
   "cell_type": "code",
   "execution_count": 33,
   "id": "81a2ced0",
   "metadata": {},
   "outputs": [
    {
     "name": "stdout",
     "output_type": "stream",
     "text": [
      "('COUNT(*)',)\n",
      "(6,)\n"
     ]
    }
   ],
   "source": [
    "action(\"SELECT COUNT(*) FROM Employees\")"
   ]
  },
  {
   "cell_type": "code",
   "execution_count": 31,
   "id": "92e09bca",
   "metadata": {},
   "outputs": [
    {
     "name": "stdout",
     "output_type": "stream",
     "text": [
      "('Role',)\n",
      "('Manager',)\n",
      "('Assistant Manager',)\n",
      "('Head Chef',)\n",
      "('Assistant Chef',)\n",
      "('Head Waiter',)\n",
      "('Receptionist',)\n"
     ]
    }
   ],
   "source": [
    "action(\"SELECT DISTINCT Role FROM Employees\")"
   ]
  },
  {
   "cell_type": "code",
   "execution_count": 35,
   "id": "b4f79f49",
   "metadata": {},
   "outputs": [
    {
     "name": "stdout",
     "output_type": "stream",
     "text": [
      "CREATE PROCEDURE GuestStatus()\n",
      "BEGIN\n",
      "    SELECT CONCAT(B.GuestFirstName,' ',B.GuestLastName) AS GustName,\n",
      "          CASE\n",
      "              WHEN E.Role = \"Manager\" THEN \"Ready to pay\"\n",
      "              WHEN E.Role = \"Assistant Manager\" THEN \"Ready to pay\"\n",
      "              WHEN E.Role = \"Head Chef\" THEN \"Ready to serve\"\n",
      "              WHEN E.Role = \"Assistant Chef\" THEN \"Preparing Order\"\n",
      "              WHEN E.Role = \"Head Waiter\" THEN \"Order served\"\n",
      "          END AS Status\n",
      "    FROM bookings B LEFT JOIN Employees E \n",
      "    ON\n",
      "    B.EmployeeID = E.EmployeeID;\n",
      "END\n",
      "\n"
     ]
    }
   ],
   "source": [
    "second_procedure = \"\"\"CREATE PROCEDURE GuestStatus()\n",
    "BEGIN\n",
    "    SELECT CONCAT(B.GuestFirstName,' ',B.GuestLastName) AS GustName,\n",
    "          CASE\n",
    "              WHEN E.Role = \"Manager\" THEN \"Ready to pay\"\n",
    "              WHEN E.Role = \"Assistant Manager\" THEN \"Ready to pay\"\n",
    "              WHEN E.Role = \"Head Chef\" THEN \"Ready to serve\"\n",
    "              WHEN E.Role = \"Assistant Chef\" THEN \"Preparing Order\"\n",
    "              WHEN E.Role = \"Head Waiter\" THEN \"Order served\"\n",
    "          END AS Status\n",
    "    FROM bookings B LEFT JOIN Employees E \n",
    "    ON\n",
    "    B.EmployeeID = E.EmployeeID;\n",
    "END\n",
    "\"\"\"\n",
    "print(second_procedure)"
   ]
  },
  {
   "cell_type": "code",
   "execution_count": 36,
   "id": "35257e6e",
   "metadata": {},
   "outputs": [],
   "source": [
    "cursor.execute(second_procedure)"
   ]
  },
  {
   "cell_type": "code",
   "execution_count": 37,
   "id": "9deeda3a",
   "metadata": {},
   "outputs": [
    {
     "data": {
      "text/plain": [
       "()"
      ]
     },
     "execution_count": 37,
     "metadata": {},
     "output_type": "execute_result"
    }
   ],
   "source": [
    "cursor.callproc(\"GuestStatus\")"
   ]
  },
  {
   "cell_type": "code",
   "execution_count": 38,
   "id": "4674e286",
   "metadata": {},
   "outputs": [],
   "source": [
    "results = next(cursor.stored_results())"
   ]
  },
  {
   "cell_type": "code",
   "execution_count": 39,
   "id": "a138405e",
   "metadata": {},
   "outputs": [
    {
     "name": "stdout",
     "output_type": "stream",
     "text": [
      "('GustName', 'Status')\n",
      "('Anna Iversen', 'Ready to pay')\n",
      "('Joakim Iversen', 'Ready to pay')\n",
      "('Vanessa McCarthy', 'Ready to serve')\n",
      "('Marcos Romero', 'Preparing Order')\n",
      "('Hiroki Yamane', 'Ready to pay')\n",
      "('Diana Pinto', 'Order served')\n"
     ]
    }
   ],
   "source": [
    "col = results.column_names\n",
    "data = results.fetchall()\n",
    "print(col)\n",
    "for item in data:\n",
    "    print(item)"
   ]
  },
  {
   "cell_type": "code",
   "execution_count": 40,
   "id": "2b35d754",
   "metadata": {},
   "outputs": [
    {
     "name": "stdout",
     "output_type": "stream",
     "text": [
      "()\n",
      "()\n"
     ]
    }
   ],
   "source": [
    "action(\"DROP PROCEDURE PeakHours\")\n",
    "action(\"DROP PROCEDURE GuestStatus\")"
   ]
  },
  {
   "cell_type": "code",
   "execution_count": null,
   "id": "88f8613b",
   "metadata": {},
   "outputs": [],
   "source": []
  }
 ],
 "metadata": {
  "kernelspec": {
   "display_name": "Python 3 (ipykernel)",
   "language": "python",
   "name": "python3"
  },
  "language_info": {
   "codemirror_mode": {
    "name": "ipython",
    "version": 3
   },
   "file_extension": ".py",
   "mimetype": "text/x-python",
   "name": "python",
   "nbconvert_exporter": "python",
   "pygments_lexer": "ipython3",
   "version": "3.11.0"
  }
 },
 "nbformat": 4,
 "nbformat_minor": 5
}
