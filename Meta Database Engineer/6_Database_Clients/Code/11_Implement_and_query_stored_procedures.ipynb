{
 "cells": [
  {
   "cell_type": "code",
   "execution_count": 1,
   "id": "501d93ad",
   "metadata": {},
   "outputs": [],
   "source": [
    "import mysql.connector as connector\n",
    "connection = connector.connect(user=\"root\",password=\"\",host=\"127.0.0.1\")\n",
    "cursor = connection.cursor()\n",
    "cursor.execute(\"USE little_lemon_db;\")"
   ]
  },
  {
   "cell_type": "code",
   "execution_count": 5,
   "id": "6db0776e",
   "metadata": {},
   "outputs": [],
   "source": [
    "def action(sql):\n",
    "    cursor.execute(sql)\n",
    "    col = cursor.column_names\n",
    "    results = cursor.fetchall()\n",
    "    print(col)\n",
    "    print(results)"
   ]
  },
  {
   "cell_type": "code",
   "execution_count": 7,
   "id": "590fb7b6",
   "metadata": {},
   "outputs": [
    {
     "name": "stdout",
     "output_type": "stream",
     "text": [
      "('BookingTime',)\n",
      "[(19,), (19,), (15,), (17,), (18,), (20,)]\n"
     ]
    }
   ],
   "source": [
    "action(\"SELECT HOUR(BookingSlot) AS BookingTime FROM bookings\")"
   ]
  },
  {
   "cell_type": "code",
   "execution_count": null,
   "id": "07d4da5e",
   "metadata": {},
   "outputs": [],
   "source": []
  }
 ],
 "metadata": {
  "kernelspec": {
   "display_name": "Python 3 (ipykernel)",
   "language": "python",
   "name": "python3"
  },
  "language_info": {
   "codemirror_mode": {
    "name": "ipython",
    "version": 3
   },
   "file_extension": ".py",
   "mimetype": "text/x-python",
   "name": "python",
   "nbconvert_exporter": "python",
   "pygments_lexer": "ipython3",
   "version": "3.11.0"
  }
 },
 "nbformat": 4,
 "nbformat_minor": 5
}
