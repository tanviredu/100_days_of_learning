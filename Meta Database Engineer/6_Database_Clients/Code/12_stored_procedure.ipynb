{
 "cells": [
  {
   "cell_type": "code",
   "execution_count": 6,
   "id": "4211d254",
   "metadata": {},
   "outputs": [],
   "source": [
    "import mysql.connector as connector\n",
    "from mysql.connector.pooling import MySQLConnectionPool\n",
    "from mysql.connector import Error"
   ]
  },
  {
   "cell_type": "code",
   "execution_count": 10,
   "id": "a5d1b95b",
   "metadata": {},
   "outputs": [],
   "source": [
    "import mysql.connector\n",
    "dbconfig = {\n",
    "    'database':'little_lemon_db',\n",
    "    'user':'root',\n",
    "    'password':''\n",
    "    \n",
    "}\n",
    "try:\n",
    "    pool = MySQLConnectionPool(pool_name=\"pool_a\",\n",
    "                          pool_size=2,\n",
    "                          host=\"127.0.0.1\",**dbconfig\n",
    "                          )\n",
    "    conn = pool.get_connection()\n",
    "    if conn.is_connected:\n",
    "        cursor = conn.cursor()\n",
    "        \n",
    "except Error as err:\n",
    "    if err.errno == 1045:\n",
    "        print(\"Error code: {}\".format(err.errno))\n",
    "        print(\"Error message: {}\".format(err.msg))"
   ]
  },
  {
   "cell_type": "code",
   "execution_count": 11,
   "id": "0ea33ea9",
   "metadata": {},
   "outputs": [],
   "source": [
    "first_procedure = \"\"\"CREATE PROCEDURE PeakHours()\n",
    "BEGIN\n",
    "  SELECT HOUR(BookingSlot) AS BookingHour,COUNT(HOUR(BookingSlot)) AS NumOfBooking \n",
    "  FROM bookings \n",
    "  GROUP BY BookingHour \n",
    "  ORDER BY NumOfBooking \n",
    "  DESC;\n",
    "END\n",
    "\"\"\""
   ]
  },
  {
   "cell_type": "code",
   "execution_count": 13,
   "id": "a59c268f",
   "metadata": {},
   "outputs": [],
   "source": [
    "cursor.execute(first_procedure)"
   ]
  },
  {
   "cell_type": "code",
   "execution_count": 14,
   "id": "dee1ebc7",
   "metadata": {},
   "outputs": [
    {
     "data": {
      "text/plain": [
       "()"
      ]
     },
     "execution_count": 14,
     "metadata": {},
     "output_type": "execute_result"
    }
   ],
   "source": [
    "cursor.callproc(\"PeakHours\")"
   ]
  },
  {
   "cell_type": "code",
   "execution_count": 15,
   "id": "ac26f365",
   "metadata": {},
   "outputs": [],
   "source": [
    "results = next(cursor.stored_results())\n",
    "col = results.column_names\n",
    "data = results.fetchall()"
   ]
  },
  {
   "cell_type": "code",
   "execution_count": 16,
   "id": "b5928125",
   "metadata": {},
   "outputs": [
    {
     "name": "stdout",
     "output_type": "stream",
     "text": [
      "('BookingHour', 'NumOfBooking')\n",
      "(19, 2)\n",
      "(15, 1)\n",
      "(17, 1)\n",
      "(18, 1)\n",
      "(20, 1)\n"
     ]
    }
   ],
   "source": [
    "print(col)\n",
    "for item in data:\n",
    "    print(item)"
   ]
  },
  {
   "cell_type": "code",
   "execution_count": 17,
   "id": "ee2dc2fa",
   "metadata": {},
   "outputs": [],
   "source": [
    "second_procedure = \"\"\"CREATE PROCEDURE GuestStatus()\n",
    "BEGIN\n",
    "    SELECT CONCAT(B.GuestFirstName,' ',B.GuestLastName) AS GustName,\n",
    "          CASE\n",
    "              WHEN E.Role = \"Manager\" THEN \"Ready to pay\"\n",
    "              WHEN E.Role = \"Assistant Manager\" THEN \"Ready to pay\"\n",
    "              WHEN E.Role = \"Head Chef\" THEN \"Ready to serve\"\n",
    "              WHEN E.Role = \"Assistant Chef\" THEN \"Preparing Order\"\n",
    "              WHEN E.Role = \"Head Waiter\" THEN \"Order served\"\n",
    "          END AS Status\n",
    "    FROM bookings B LEFT JOIN Employees E \n",
    "    ON\n",
    "    B.EmployeeID = E.EmployeeID;\n",
    "END\n",
    "\"\"\""
   ]
  },
  {
   "cell_type": "code",
   "execution_count": 18,
   "id": "7281b5e6",
   "metadata": {},
   "outputs": [],
   "source": [
    "cursor.execute(second_procedure)"
   ]
  },
  {
   "cell_type": "code",
   "execution_count": 19,
   "id": "3d54d98b",
   "metadata": {},
   "outputs": [
    {
     "data": {
      "text/plain": [
       "()"
      ]
     },
     "execution_count": 19,
     "metadata": {},
     "output_type": "execute_result"
    }
   ],
   "source": [
    "cursor.callproc(\"GuestStatus\")"
   ]
  },
  {
   "cell_type": "code",
   "execution_count": 20,
   "id": "10a79d47",
   "metadata": {},
   "outputs": [],
   "source": [
    "results = next(cursor.stored_results())"
   ]
  },
  {
   "cell_type": "code",
   "execution_count": 21,
   "id": "dab9a0b4",
   "metadata": {},
   "outputs": [
    {
     "name": "stdout",
     "output_type": "stream",
     "text": [
      "('GustName', 'Status')\n",
      "('Anna Iversen', 'Ready to pay')\n",
      "('Joakim Iversen', 'Ready to pay')\n",
      "('Vanessa McCarthy', 'Ready to serve')\n",
      "('Marcos Romero', 'Preparing Order')\n",
      "('Hiroki Yamane', 'Ready to pay')\n",
      "('Diana Pinto', 'Order served')\n"
     ]
    }
   ],
   "source": [
    "col = results.column_names\n",
    "data = results.fetchall()\n",
    "print(col)\n",
    "for item in data:\n",
    "    print(item)"
   ]
  },
  {
   "cell_type": "code",
   "execution_count": null,
   "id": "f1bfd5eb",
   "metadata": {},
   "outputs": [],
   "source": []
  }
 ],
 "metadata": {
  "kernelspec": {
   "display_name": "Python 3 (ipykernel)",
   "language": "python",
   "name": "python3"
  },
  "language_info": {
   "codemirror_mode": {
    "name": "ipython",
    "version": 3
   },
   "file_extension": ".py",
   "mimetype": "text/x-python",
   "name": "python",
   "nbconvert_exporter": "python",
   "pygments_lexer": "ipython3",
   "version": "3.11.0"
  }
 },
 "nbformat": 4,
 "nbformat_minor": 5
}
