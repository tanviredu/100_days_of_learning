{
 "cells": [
  {
   "cell_type": "code",
   "execution_count": 2,
   "id": "a67e002b",
   "metadata": {},
   "outputs": [],
   "source": [
    "import mysql.connector as connector"
   ]
  },
  {
   "cell_type": "code",
   "execution_count": 11,
   "id": "9a79c0ad",
   "metadata": {},
   "outputs": [],
   "source": [
    "query1 = \"\"\"SELECT BookingID,BillAmount FROM orders\n",
    "           WHERE BillAmount>=40\n",
    "           ORDER BY BillAmount ASC\n",
    "        \"\"\""
   ]
  },
  {
   "cell_type": "code",
   "execution_count": 12,
   "id": "e501eb2f",
   "metadata": {},
   "outputs": [
    {
     "name": "stdout",
     "output_type": "stream",
     "text": [
      "SELECT BookingID,BillAmount FROM orders\n",
      "           WHERE BillAmount>=40\n",
      "           ORDER BY BillAmount ASC\n",
      "        \n"
     ]
    }
   ],
   "source": [
    "print(query)"
   ]
  },
  {
   "cell_type": "code",
   "execution_count": 13,
   "id": "57e5eeef",
   "metadata": {},
   "outputs": [],
   "source": [
    "connection = connector.connect(user=\"root\",password=\"\")"
   ]
  },
  {
   "cell_type": "code",
   "execution_count": 14,
   "id": "4f4ed817",
   "metadata": {},
   "outputs": [],
   "source": [
    "cursor = connection.cursor()"
   ]
  },
  {
   "cell_type": "code",
   "execution_count": 15,
   "id": "e7a30b4d",
   "metadata": {},
   "outputs": [],
   "source": [
    "cursor.execute(\"USE little_lemon\")"
   ]
  },
  {
   "cell_type": "code",
   "execution_count": 16,
   "id": "ec654ecb",
   "metadata": {},
   "outputs": [],
   "source": [
    "cursor.execute(query1)"
   ]
  },
  {
   "cell_type": "code",
   "execution_count": 17,
   "id": "e056ad0f",
   "metadata": {},
   "outputs": [],
   "source": [
    "result = cursor.fetchall()"
   ]
  },
  {
   "cell_type": "code",
   "execution_count": 18,
   "id": "17e3e91a",
   "metadata": {},
   "outputs": [
    {
     "name": "stdout",
     "output_type": "stream",
     "text": [
      "(4, 40)\n",
      "(5, 43)\n",
      "(1, 86)\n"
     ]
    }
   ],
   "source": [
    "for item in result:\n",
    "    print(item)"
   ]
  },
  {
   "cell_type": "markdown",
   "id": "6c3f5fa3",
   "metadata": {},
   "source": [
    "Little Lemon need you to help them query their database to find out how many bookings they have today for table number 12. They also need to know the names of the guests booked for table 12 and who their servers are. These records are located within the following tables in the database:\n",
    "\n",
    "TableNo,\n",
    "\n",
    "GuestFirstName,\n",
    "\n",
    "GuestLastName,\n",
    "\n",
    "and EmployeeID."
   ]
  },
  {
   "cell_type": "code",
   "execution_count": 20,
   "id": "1c839b1b",
   "metadata": {},
   "outputs": [
    {
     "name": "stdout",
     "output_type": "stream",
     "text": [
      "SELECT TableNo,GuestFirstName,GuestLastName,EmployeeID \n",
      "            FROM bookings WHERE TableNo=12;\n"
     ]
    }
   ],
   "source": [
    "query2 = \"\"\"SELECT TableNo,GuestFirstName,GuestLastName,EmployeeID \n",
    "            FROM bookings WHERE TableNo=12;\"\"\"\n",
    "print(query2)"
   ]
  },
  {
   "cell_type": "code",
   "execution_count": 21,
   "id": "ef343eda",
   "metadata": {},
   "outputs": [],
   "source": [
    "cursor.execute(query2)"
   ]
  },
  {
   "cell_type": "code",
   "execution_count": 22,
   "id": "a8465961",
   "metadata": {},
   "outputs": [],
   "source": [
    "data = cursor.fetchall()"
   ]
  },
  {
   "cell_type": "code",
   "execution_count": 24,
   "id": "9f58a059",
   "metadata": {},
   "outputs": [],
   "source": [
    "col = cursor.column_names"
   ]
  },
  {
   "cell_type": "code",
   "execution_count": 25,
   "id": "e12c4ced",
   "metadata": {},
   "outputs": [
    {
     "name": "stdout",
     "output_type": "stream",
     "text": [
      "('TableNo', 'GuestFirstName', 'GuestLastName', 'EmployeeID')\n",
      "(12, 'Anna', 'Iversen', 1)\n"
     ]
    }
   ],
   "source": [
    "print(col)\n",
    "for item in data:\n",
    "    print(item)"
   ]
  },
  {
   "cell_type": "markdown",
   "id": "42f0cd85",
   "metadata": {},
   "source": [
    "Little Lemon want to send a coupon to all guests who spent more than $40 at the restaurant today"
   ]
  },
  {
   "cell_type": "code",
   "execution_count": 37,
   "id": "5d80ec43",
   "metadata": {},
   "outputs": [],
   "source": [
    "query3 = \"\"\"SELECT BookingID,BillAmount FROM orders WHERE BillAmount > 40 \n",
    "            ORDER BY BillAmount DESC\"\"\""
   ]
  },
  {
   "cell_type": "code",
   "execution_count": 38,
   "id": "4d2ee8d4",
   "metadata": {},
   "outputs": [],
   "source": [
    "cursor.execute(query3)"
   ]
  },
  {
   "cell_type": "code",
   "execution_count": 39,
   "id": "a1fe99b5",
   "metadata": {},
   "outputs": [],
   "source": [
    "data = cursor.fetchall()"
   ]
  },
  {
   "cell_type": "code",
   "execution_count": 40,
   "id": "b13d57ec",
   "metadata": {},
   "outputs": [],
   "source": [
    "col = cursor.column_names"
   ]
  },
  {
   "cell_type": "code",
   "execution_count": 41,
   "id": "af7e971f",
   "metadata": {},
   "outputs": [
    {
     "name": "stdout",
     "output_type": "stream",
     "text": [
      "('BookingID', 'BillAmount')\n",
      "(1, 86)\n",
      "(5, 43)\n"
     ]
    }
   ],
   "source": [
    "print(col)\n",
    "for item in data:\n",
    "    print(item)"
   ]
  },
  {
   "cell_type": "markdown",
   "id": "634a1bfc",
   "metadata": {},
   "source": [
    "A guest wants to know the price of today’s starters and desserts. So Little Lemon need to extract the price of today’s STARTERS and DESSERT options from their database. \n",
    "\n",
    "Create a query that extracts the prices and details of starters and dessert options only from the MenuItems table. Order these prices from lower to higher. "
   ]
  },
  {
   "cell_type": "code",
   "execution_count": 42,
   "id": "d00626b1",
   "metadata": {},
   "outputs": [
    {
     "name": "stdout",
     "output_type": "stream",
     "text": [
      "SELECT * FROM menuitems WHERE Type='Starters' OR Type='Desserts'\n",
      "            ORDER BY Price ASC \n"
     ]
    }
   ],
   "source": [
    "query4 = \"\"\"SELECT * FROM menuitems WHERE Type='Starters' OR Type='Desserts'\n",
    "            ORDER BY Price ASC \"\"\"\n",
    "print(query4)"
   ]
  },
  {
   "cell_type": "code",
   "execution_count": 43,
   "id": "95f7ce09",
   "metadata": {},
   "outputs": [],
   "source": [
    "cursor.execute(query4)"
   ]
  },
  {
   "cell_type": "code",
   "execution_count": 44,
   "id": "efef3064",
   "metadata": {},
   "outputs": [],
   "source": [
    "data = cursor.fetchall()"
   ]
  },
  {
   "cell_type": "code",
   "execution_count": 45,
   "id": "43fbae12",
   "metadata": {},
   "outputs": [],
   "source": [
    "col = cursor.column_names"
   ]
  },
  {
   "cell_type": "code",
   "execution_count": 46,
   "id": "0b50a170",
   "metadata": {},
   "outputs": [
    {
     "name": "stdout",
     "output_type": "stream",
     "text": [
      "('ItemID', 'Name', 'Type', 'Price')\n",
      "(12, 'Cheesecake', 'Desserts', 4)\n",
      "(1, 'Olives', 'Starters', 5)\n",
      "(2, 'Flatbread', 'Starters', 5)\n",
      "(6, 'Hummus', 'Starters', 5)\n",
      "(11, 'Ice cream', 'Desserts', 6)\n",
      "(5, 'Falafel', 'Starters', 7)\n",
      "(10, 'Greek yoghurt', 'Desserts', 7)\n",
      "(3, 'Minestrone', 'Starters', 8)\n",
      "(4, 'Tomato bread', 'Starters', 8)\n"
     ]
    }
   ],
   "source": [
    "print(col)\n",
    "for item in data:\n",
    "    print(item)"
   ]
  },
  {
   "cell_type": "markdown",
   "id": "3d237a43",
   "metadata": {},
   "source": [
    "question answer\n",
    "1) you can filter data by any column in a table and python allows it too\n",
    "2) commit is not requered for reading data because the original table remain intact\n",
    "3) if you use cursor.fetchmany(rows=1) that means you fetch all the data but showing only one . you can find the rest of it using fetchall() method .if you want to invoke another sql in execute() method you must consume all remaning data with fetchall()"
   ]
  },
  {
   "cell_type": "code",
   "execution_count": null,
   "id": "a3363297",
   "metadata": {},
   "outputs": [],
   "source": []
  }
 ],
 "metadata": {
  "kernelspec": {
   "display_name": "Python 3 (ipykernel)",
   "language": "python",
   "name": "python3"
  },
  "language_info": {
   "codemirror_mode": {
    "name": "ipython",
    "version": 3
   },
   "file_extension": ".py",
   "mimetype": "text/x-python",
   "name": "python",
   "nbconvert_exporter": "python",
   "pygments_lexer": "ipython3",
   "version": "3.11.0"
  }
 },
 "nbformat": 4,
 "nbformat_minor": 5
}
