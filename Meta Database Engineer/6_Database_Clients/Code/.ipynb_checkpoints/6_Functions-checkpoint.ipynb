{
 "cells": [
  {
   "cell_type": "markdown",
   "id": "dc0ce19d",
   "metadata": {},
   "source": [
    "# DATETIME FUNCTION"
   ]
  },
  {
   "cell_type": "code",
   "execution_count": 1,
   "id": "bd0dacc7",
   "metadata": {},
   "outputs": [],
   "source": [
    "import mysql.connector as connector\n",
    "connection = connector.connect(user=\"root\",password=\"\",host=\"127.0.0.1\")\n",
    "cursor = connection.cursor()\n",
    "cursor.execute(\"USE little_lemon\")"
   ]
  },
  {
   "cell_type": "code",
   "execution_count": 2,
   "id": "7c7d0cfc",
   "metadata": {},
   "outputs": [
    {
     "name": "stdout",
     "output_type": "stream",
     "text": [
      "2023-01-06 09:32:50.582986\n",
      "2023-01-06\n",
      "09:32:50.582986\n",
      "7 days, 0:00:00\n",
      "2023-01-13\n",
      "2023-01-13 09:32:50.582986\n"
     ]
    }
   ],
   "source": [
    "## datetime functions \n",
    "import datetime as dt\n",
    "current_time = dt.datetime.now() #Year-Month-Day Hour:Munite:Second\n",
    "print(current_time)\n",
    "print(current_time.date())\n",
    "print(current_time.time())\n",
    "\n",
    "## find the difference of time is time delta\n",
    "## whats was the date after one week\n",
    "week = dt.timedelta(days=7)\n",
    "print(week)\n",
    "\n",
    "date_after_1_week = current_time.date()+week\n",
    "print(date_after_1_week)\n",
    "date_after_1_week = current_time+week\n",
    "print(date_after_1_week)"
   ]
  },
  {
   "cell_type": "code",
   "execution_count": 3,
   "id": "db01c398",
   "metadata": {},
   "outputs": [],
   "source": [
    "## changing the booking slot to 1 hour \n",
    "query1 = \"\"\"SELECT * FROM bookings;\"\"\"\n",
    "cursor.execute(query1)"
   ]
  },
  {
   "cell_type": "code",
   "execution_count": 4,
   "id": "55bfe4da",
   "metadata": {},
   "outputs": [
    {
     "name": "stdout",
     "output_type": "stream",
     "text": [
      "('BookingID', 'TableNo', 'GuestFirstName', 'GuestLastName', 'BookingSlot', 'EmployeeID')\n"
     ]
    }
   ],
   "source": [
    "col = cursor.column_names\n",
    "print(col)"
   ]
  },
  {
   "cell_type": "code",
   "execution_count": 5,
   "id": "10c55f68",
   "metadata": {},
   "outputs": [],
   "source": [
    "results = cursor.fetchall()"
   ]
  },
  {
   "cell_type": "code",
   "execution_count": 6,
   "id": "3f1021fc",
   "metadata": {},
   "outputs": [
    {
     "name": "stdout",
     "output_type": "stream",
     "text": [
      "(1, 12, 'Anna', 'Iversen', datetime.timedelta(seconds=68400), 1)\n",
      "(2, 11, 'Joakim', 'Iversen', datetime.timedelta(seconds=68400), 6)\n",
      "(3, 19, 'Vanessa', 'McCarthy', datetime.timedelta(seconds=54000), 3)\n",
      "(4, 15, 'Marcos', 'Romero', datetime.timedelta(seconds=63000), 4)\n",
      "(5, 5, 'Hiroki', 'Yamane', datetime.timedelta(seconds=66600), 2)\n",
      "(6, 10, 'Diana', 'Pinto', datetime.timedelta(seconds=72000), 5)\n"
     ]
    }
   ],
   "source": [
    "for item in results:\n",
    "    print(item)"
   ]
  },
  {
   "cell_type": "code",
   "execution_count": 7,
   "id": "32e5b56d",
   "metadata": {},
   "outputs": [
    {
     "name": "stdout",
     "output_type": "stream",
     "text": [
      "BookingID 1 is moved from 19:00:00 to 20:00:00\n",
      "BookingID 2 is moved from 19:00:00 to 20:00:00\n",
      "BookingID 3 is moved from 15:00:00 to 16:00:00\n",
      "BookingID 4 is moved from 17:30:00 to 18:30:00\n",
      "BookingID 5 is moved from 18:30:00 to 19:30:00\n",
      "BookingID 6 is moved from 20:00:00 to 21:00:00\n"
     ]
    }
   ],
   "source": [
    "for result in results:\n",
    "    booking_id       = result[0]\n",
    "    booking_slot     = result[4]\n",
    "    new_booking_slot = booking_slot+dt.timedelta(hours=1)\n",
    "    print(\"BookingID {} is moved from {} to {}\".format(booking_id,booking_slot,new_booking_slot))\n",
    "    "
   ]
  },
  {
   "cell_type": "code",
   "execution_count": 8,
   "id": "6550d6c6",
   "metadata": {},
   "outputs": [
    {
     "name": "stdout",
     "output_type": "stream",
     "text": [
      "SELECT SUM(BillAmount) AS Total_Sale FROM orders;\n"
     ]
    }
   ],
   "source": [
    "## total amount of different order\n",
    "sql_query2 = \"\"\"SELECT SUM(BillAmount) AS Total_Sale FROM orders;\"\"\"\n",
    "print(sql_query2)"
   ]
  },
  {
   "cell_type": "code",
   "execution_count": 9,
   "id": "be8ea852",
   "metadata": {},
   "outputs": [
    {
     "name": "stdout",
     "output_type": "stream",
     "text": [
      "('Total_Sale',)\n",
      "(Decimal('243'),)\n"
     ]
    }
   ],
   "source": [
    "cursor.execute(sql_query2)\n",
    "col = cursor.column_names\n",
    "data = cursor.fetchall()\n",
    "print(col)\n",
    "for item in data:\n",
    "    print(item)"
   ]
  },
  {
   "cell_type": "code",
   "execution_count": 10,
   "id": "2d346b10",
   "metadata": {},
   "outputs": [
    {
     "name": "stdout",
     "output_type": "stream",
     "text": [
      "SELECT BookingSlot AS Slot FROM bookings;\n"
     ]
    }
   ],
   "source": [
    "sql_query3 = \"\"\"SELECT BookingSlot AS Slot FROM bookings;\"\"\"\n",
    "print(sql_query3)"
   ]
  },
  {
   "cell_type": "code",
   "execution_count": 11,
   "id": "5187738c",
   "metadata": {},
   "outputs": [
    {
     "name": "stdout",
     "output_type": "stream",
     "text": [
      "('Slot',)\n",
      "19:00:00\n",
      "19:00:00\n",
      "15:00:00\n",
      "17:30:00\n",
      "18:30:00\n",
      "20:00:00\n"
     ]
    }
   ],
   "source": [
    "cursor.execute(sql_query3)\n",
    "col = cursor.column_names\n",
    "data = cursor.fetchall()\n",
    "print(col)\n",
    "for item in data:\n",
    "    print(item[0])"
   ]
  },
  {
   "cell_type": "code",
   "execution_count": 12,
   "id": "6d68d753",
   "metadata": {},
   "outputs": [
    {
     "name": "stdout",
     "output_type": "stream",
     "text": [
      "SELECT HOUR(BookingSlot) AS HOUR_SLOT FROM bookings;\n"
     ]
    }
   ],
   "source": [
    "sql_query4 = \"\"\"SELECT HOUR(BookingSlot) AS HOUR_SLOT FROM bookings;\"\"\"\n",
    "print(sql_query4)"
   ]
  },
  {
   "cell_type": "code",
   "execution_count": 13,
   "id": "aaec1c2e",
   "metadata": {},
   "outputs": [
    {
     "name": "stdout",
     "output_type": "stream",
     "text": [
      "('HOUR_SLOT',)\n",
      "19\n",
      "19\n",
      "15\n",
      "17\n",
      "18\n",
      "20\n"
     ]
    }
   ],
   "source": [
    "cursor.execute(sql_query4)\n",
    "col = cursor.column_names\n",
    "data = cursor.fetchall()\n",
    "print(col)\n",
    "for item in data:\n",
    "    print(item[0])"
   ]
  },
  {
   "cell_type": "markdown",
   "id": "dfd7f515",
   "metadata": {},
   "source": [
    "# TASK 1\n",
    "Along with the booking ID, little lemon needs to add the full name of the guests in upper case on their invoices. Help little lemon to extract the data in the required format.\n",
    "TIP: Target GuestFistName, GuestLastName and combine them to get GuestFullName."
   ]
  },
  {
   "cell_type": "code",
   "execution_count": 14,
   "id": "4825f842",
   "metadata": {},
   "outputs": [
    {
     "name": "stdout",
     "output_type": "stream",
     "text": [
      "SELECT BookingID AS ID,CONCAT(GuestFirstName,\" \",GuestLastName) AS GuestFullName FROM bookings;\n"
     ]
    }
   ],
   "source": [
    "sql_query5 = \"\"\"SELECT BookingID AS ID,CONCAT(GuestFirstName,\" \",GuestLastName) AS GuestFullName FROM bookings;\"\"\"\n",
    "print(sql_query5)"
   ]
  },
  {
   "cell_type": "code",
   "execution_count": 15,
   "id": "72de4993",
   "metadata": {},
   "outputs": [],
   "source": [
    "cursor.execute(sql_query5)"
   ]
  },
  {
   "cell_type": "code",
   "execution_count": 16,
   "id": "f04528f7",
   "metadata": {},
   "outputs": [
    {
     "name": "stdout",
     "output_type": "stream",
     "text": [
      "('ID', 'GuestFullName')\n",
      "(1, 'Anna Iversen')\n",
      "(2, 'Joakim Iversen')\n",
      "(3, 'Vanessa McCarthy')\n",
      "(4, 'Marcos Romero')\n",
      "(5, 'Hiroki Yamane')\n",
      "(6, 'Diana Pinto')\n"
     ]
    }
   ],
   "source": [
    "col  = cursor.column_names\n",
    "data = cursor.fetchall()\n",
    "print(col)\n",
    "for item in data:\n",
    "    print(item)"
   ]
  },
  {
   "cell_type": "markdown",
   "id": "fe928054",
   "metadata": {},
   "source": [
    "# TASK 2"
   ]
  },
  {
   "cell_type": "markdown",
   "id": "7cc91f00",
   "metadata": {},
   "source": [
    "Task 2:\n",
    "Little lemon needs to know the following statistics at closing:\n",
    "\n",
    "Number of bookings\n",
    "\n",
    "Total sale\n",
    "\n",
    "Average sale\n",
    "\n",
    "Help little lemon to compute the required statistics from the data in the Orders table using python."
   ]
  },
  {
   "cell_type": "code",
   "execution_count": 19,
   "id": "4cfd8bf8",
   "metadata": {},
   "outputs": [
    {
     "name": "stdout",
     "output_type": "stream",
     "text": [
      "SELECT COUNT(BookingID),SUM(BillAmount),AVG(BillAmount) FROM orders\n"
     ]
    }
   ],
   "source": [
    "sql_query5 = \"\"\"SELECT COUNT(BookingID),SUM(BillAmount),AVG(BillAmount) FROM orders\"\"\"\n",
    "print(sql_query5)"
   ]
  },
  {
   "cell_type": "code",
   "execution_count": 23,
   "id": "1980917d",
   "metadata": {},
   "outputs": [
    {
     "name": "stdout",
     "output_type": "stream",
     "text": [
      "Todays Statistics\n",
      "NUMBER OF BOOKING : 5\n",
      "TOTAL SALE : 243\n",
      "Everage SALE : 48.6000\n"
     ]
    }
   ],
   "source": [
    "cursor.execute(sql_query5)\n",
    "col = cursor.column_names\n",
    "data = cursor.fetchall()\n",
    "print(\"Todays Statistics\")\n",
    "for item in data:\n",
    "    print(\"NUMBER OF BOOKING : {}\".format(item[0]))\n",
    "    print(\"TOTAL SALE : {}\".format(item[1]))\n",
    "    print(\"Everage SALE : {}\".format(item[2]))"
   ]
  },
  {
   "cell_type": "markdown",
   "id": "95101635",
   "metadata": {},
   "source": [
    "-- Select it group by name\n",
    "\n",
    "-- how many phone number \n",
    "\n",
    "-- does 4 people has\n",
    "\n",
    "SELECT Count(PhoneNumber),FullName FROM Customers GROUP BY FullName;\n",
    "\n",
    "-- remember when agragate function and normal row\n",
    "\n",
    "-- are in a select statement there will be a group by statement\n",
    "\n",
    "-- to break the full result into subsets\n",
    "\n",
    "-- it must happen\n",
    "\n",
    "\n",
    "\n",
    "-- HAVING CLAUSE IS LIKE A WHERE CALUSE\n",
    "\n",
    "-- BUT IT ONLY OPERATES ON THE GROUP BY\n",
    "\n",
    "-- FILTER THE GROUP BY IS THE JOB OF HAVING CLAUSE\n"
   ]
  },
  {
   "cell_type": "code",
   "execution_count": 31,
   "id": "a9481e97",
   "metadata": {},
   "outputs": [
    {
     "name": "stdout",
     "output_type": "stream",
     "text": [
      "SELECT TableNo AS TableNumber,COUNT(TableNo) AS n_booking FROM bookings\n",
      "                GROUP BY TableNo ORDER BY n_booking DESC;\n"
     ]
    }
   ],
   "source": [
    "# REMEMBER GROUP BY STATEMENT WILL BREAK THE RESULT INTO SUBSET\n",
    "# IF IN A SELECT STATEMENT THERE IS AGGRAGATE FUNCTION AND A NORMAL PROPERTY\n",
    "# THEN THERE WILL BE MUST A GROUP BY STATEMENT ON THAT PROPERTY\n",
    "sql_query6 = \"\"\"SELECT TableNo AS TableNumber,COUNT(TableNo) AS n_booking FROM bookings\n",
    "                GROUP BY TableNo ORDER BY n_booking DESC;\"\"\"\n",
    "print(sql_query6)"
   ]
  },
  {
   "cell_type": "code",
   "execution_count": 32,
   "id": "8f5cc21e",
   "metadata": {},
   "outputs": [
    {
     "name": "stdout",
     "output_type": "stream",
     "text": [
      "('TableNumber', 'n_booking')\n",
      "(11, 1)\n",
      "(19, 1)\n",
      "(15, 1)\n",
      "(5, 1)\n",
      "(10, 1)\n",
      "(12, 1)\n"
     ]
    }
   ],
   "source": [
    "cursor.execute(sql_query6)\n",
    "col = cursor.column_names\n",
    "data = cursor.fetchall()\n",
    "print(col)\n",
    "for item in data:\n",
    "    print(item)"
   ]
  },
  {
   "cell_type": "markdown",
   "id": "565dcfc7",
   "metadata": {},
   "source": [
    "# TASK 3"
   ]
  },
  {
   "cell_type": "markdown",
   "id": "1d20ccd3",
   "metadata": {},
   "source": [
    "Little lemon wants to create three arrival slots for the guests based on the booking hour:\n",
    "\n",
    "Late afternoon: for hours 15 and 16 \n",
    "\n",
    "Evening: for hours 17 and 18\n",
    "\n",
    "Night: for hours 19 and 20\n",
    "\n",
    "Help little lemon to create the above slots and display the booking ID, guest name, and arrival slot on the kitchen screen so that the staff can plan accordingly. \n",
    "\n",
    "\n",
    "TIP: Target GuestFirstName and GuestLastName columns and combine them to get Guest_Name. Use the MySQL CASE function and create Arrival_slot for each guest. "
   ]
  },
  {
   "cell_type": "code",
   "execution_count": 42,
   "id": "4ea2b693",
   "metadata": {},
   "outputs": [
    {
     "name": "stdout",
     "output_type": "stream",
     "text": [
      "('BookingID', 'GuestName', 'Arrival_slot')\n",
      "(1, 'Anna Iversen', 'Night')\n",
      "(2, 'Joakim Iversen', 'Night')\n",
      "(3, 'Vanessa McCarthy', 'Late Afternoon')\n",
      "(4, 'Marcos Romero', 'Evening')\n",
      "(5, 'Hiroki Yamane', 'Evening')\n",
      "(6, 'Diana Pinto', 'Night')\n"
     ]
    }
   ],
   "source": [
    "sql_query7 = \"\"\"SELECT BookingID as BookingID,CONCAT(GuestFirstName,' ',GuestLastName) AS GuestName,\n",
    "                CASE\n",
    "                    WHEN HOUR(BookingSlot) IN(15,16) THEN \"Late Afternoon\"\n",
    "                    WHEN HOUR(BookingSlot) IN(17,18) THEN \"Evening\"\n",
    "                    WHEN HOUR(BookingSlot) IN(19,20) THEN \"Night\"\n",
    "                    ELSE \"Time Is Not Available\"\n",
    "                END AS Arrival_slot\n",
    "                FROM Bookings;\"\"\"\n",
    "cursor.execute(sql_query7)\n",
    "col = cursor.column_names\n",
    "data = cursor.fetchall()\n",
    "print(col)\n",
    "for item in data:\n",
    "    print(item)"
   ]
  },
  {
   "cell_type": "code",
   "execution_count": null,
   "id": "a29512a2",
   "metadata": {},
   "outputs": [],
   "source": []
  },
  {
   "cell_type": "code",
   "execution_count": null,
   "id": "6ba2ecbf",
   "metadata": {},
   "outputs": [],
   "source": []
  }
 ],
 "metadata": {
  "kernelspec": {
   "display_name": "Python 3 (ipykernel)",
   "language": "python",
   "name": "python3"
  },
  "language_info": {
   "codemirror_mode": {
    "name": "ipython",
    "version": 3
   },
   "file_extension": ".py",
   "mimetype": "text/x-python",
   "name": "python",
   "nbconvert_exporter": "python",
   "pygments_lexer": "ipython3",
   "version": "3.11.0"
  }
 },
 "nbformat": 4,
 "nbformat_minor": 5
}
