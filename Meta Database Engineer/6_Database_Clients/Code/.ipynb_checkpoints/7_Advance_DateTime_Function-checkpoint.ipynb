{
 "cells": [
  {
   "cell_type": "code",
   "execution_count": 1,
   "id": "b062c6a3",
   "metadata": {},
   "outputs": [],
   "source": [
    "import datetime as dt\n",
    "import mysql.connector as connector"
   ]
  },
  {
   "cell_type": "code",
   "execution_count": 2,
   "id": "bf79dde4",
   "metadata": {},
   "outputs": [],
   "source": [
    "connection = connector.connect(user=\"root\",password=\"\")"
   ]
  },
  {
   "cell_type": "code",
   "execution_count": 3,
   "id": "f0f606c2",
   "metadata": {},
   "outputs": [],
   "source": [
    "cursor = connection.cursor();\n",
    "cursor.execute(\"USE little_lemon\")"
   ]
  },
  {
   "cell_type": "code",
   "execution_count": 38,
   "id": "d70be247",
   "metadata": {},
   "outputs": [
    {
     "name": "stdout",
     "output_type": "stream",
     "text": [
      "Ucoming Bookings\n",
      "Hour: 15 <<>> 1 Booking/s\n",
      "Hour: 17 <<>> 1 Booking/s\n",
      "Hour: 18 <<>> 1 Booking/s\n",
      "Hour: 19 <<>> 2 Booking/s\n",
      "Hour: 20 <<>> 1 Booking/s\n"
     ]
    }
   ],
   "source": [
    "sql_query1 = \"\"\"SELECT COUNT(BookingID) AS n_bookings,HOUR(BookingSlot) AS Hour FROM bookings GROUP BY Hour \"\"\"\n",
    "cursor.execute(sql_query1)\n",
    "col = cursor.column_names\n",
    "data = cursor.fetchall()\n",
    "print(\"Ucoming Bookings\")\n",
    "for item in data:\n",
    "    print(\"Hour: {} <<>> {} Booking/s\".format(item[1],item[0]))"
   ]
  },
  {
   "cell_type": "code",
   "execution_count": 58,
   "id": "0575b4bc",
   "metadata": {},
   "outputs": [
    {
     "name": "stdout",
     "output_type": "stream",
     "text": [
      "[Table no:] 12 >> Anna Iversen is expected to arrive at:19 hrs and 0 mins\n",
      "[Table no:] 11 >> Joakim Iversen is expected to arrive at:19 hrs and 0 mins\n",
      "[Table no:] 19 >> Vanessa McCarthy is expected to arrive at:15 hrs and 0 mins\n",
      "[Table no:] 15 >> Marcos Romero is expected to arrive at:17 hrs and 30 mins\n",
      "[Table no:] 5 >> Hiroki Yamane is expected to arrive at:18 hrs and 30 mins\n",
      "[Table no:] 10 >> Diana Pinto is expected to arrive at:20 hrs and 0 mins\n"
     ]
    }
   ],
   "source": [
    "## first approach\n",
    "sql_query2 = \"\"\"SELECT TableNo,CONCAT(GuestFirstName,' ',GuestLastName) AS FullName,HOUR(BookingSlot),MINUTE(BookingSlot) FROM bookings\"\"\"\n",
    "#print(sql_query2)\n",
    "cursor.execute(sql_query2)\n",
    "col = cursor.column_names\n",
    "data = cursor.fetchall()\n",
    "#print(col)\n",
    "for item in data:\n",
    "    table_no = item[0]\n",
    "    name     = item[1]\n",
    "    hour     = item[2]\n",
    "    minute   = item[3]\n",
    "    print(\"\"\"[Table no:] {} >> {} is expected to arrive at:{} hrs and {} mins\"\"\".format(table_no,name,hour,minute))"
   ]
  },
  {
   "cell_type": "code",
   "execution_count": 70,
   "id": "3f2295b3",
   "metadata": {},
   "outputs": [
    {
     "name": "stdout",
     "output_type": "stream",
     "text": [
      "[Table no:] 12 >> Anna Iversen is expected to arrive at:19 hrs and 0 mins\n",
      "[Table no:] 11 >> Joakim Iversen is expected to arrive at:19 hrs and 0 mins\n",
      "[Table no:] 19 >> Vanessa McCarthy is expected to arrive at:15 hrs and 0 mins\n",
      "[Table no:] 15 >> Marcos Romero is expected to arrive at:17 hrs and 30 mins\n",
      "[Table no:] 5 >> Hiroki Yamane is expected to arrive at:18 hrs and 30 mins\n",
      "[Table no:] 10 >> Diana Pinto is expected to arrive at:20 hrs and 0 mins\n"
     ]
    }
   ],
   "source": [
    "## SECOND APPROACHED\n",
    "import time\n",
    "sql_query2 = \"\"\"SELECT TableNo,CONCAT(GuestFirstName,' ',GuestLastName) AS FullName,BookingSlot FROM bookings\"\"\"\n",
    "#print(sql_query2)\n",
    "cursor.execute(sql_query2)\n",
    "col = cursor.column_names\n",
    "data = cursor.fetchall()\n",
    "#print(col)\n",
    "for item in data:\n",
    "    table_no   = item[0]\n",
    "    name       = item[1]\n",
    "    time       = str(item[2])\n",
    "    hour       = dt.datetime.strptime(time,\"%H:%M:%S\").hour\n",
    "    minute     = dt.datetime.strptime(time,\"%H:%M:%S\").minute\n",
    "    print(\"\"\"[Table no:] {} >> {} is expected to arrive at:{} hrs and {} mins\"\"\".format(table_no,name,hour,minute))\n",
    " "
   ]
  },
  {
   "cell_type": "code",
   "execution_count": 74,
   "id": "fcaafd75",
   "metadata": {},
   "outputs": [
    {
     "name": "stdout",
     "output_type": "stream",
     "text": [
      "Booking Time Change Alert!!!\n",
      "BookingID        : 2\n",
      "TableNo          : 11\n",
      "Old BookingSlot  : 19:00:00\n",
      "New Arrival Time : 20:00:00\n"
     ]
    }
   ],
   "source": [
    "sql_query3 = \"\"\"SELECT BookingID,TableNo,BookingSlot,ADDTIME(BookingSlot,\"1:00:00\") AS NewTime FROM bookings WHERE BookingID = 2;\"\"\"\n",
    "cursor.execute(sql_query3)\n",
    "col = cursor.column_names\n",
    "data = cursor.fetchall()\n",
    "print(\"Booking Time Change Alert!!!\")\n",
    "for item in data:\n",
    "    print(\"BookingID        : {}\".format(item[0]))\n",
    "    print(\"TableNo          : {}\".format(item[1]))\n",
    "    print(\"Old BookingSlot  : {}\".format(item[2]))\n",
    "    print(\"New Arrival Time : {}\".format(item[3]))"
   ]
  },
  {
   "cell_type": "code",
   "execution_count": null,
   "id": "257e6607",
   "metadata": {},
   "outputs": [],
   "source": []
  }
 ],
 "metadata": {
  "kernelspec": {
   "display_name": "Python 3 (ipykernel)",
   "language": "python",
   "name": "python3"
  },
  "language_info": {
   "codemirror_mode": {
    "name": "ipython",
    "version": 3
   },
   "file_extension": ".py",
   "mimetype": "text/x-python",
   "name": "python",
   "nbconvert_exporter": "python",
   "pygments_lexer": "ipython3",
   "version": "3.11.0"
  }
 },
 "nbformat": 4,
 "nbformat_minor": 5
}
