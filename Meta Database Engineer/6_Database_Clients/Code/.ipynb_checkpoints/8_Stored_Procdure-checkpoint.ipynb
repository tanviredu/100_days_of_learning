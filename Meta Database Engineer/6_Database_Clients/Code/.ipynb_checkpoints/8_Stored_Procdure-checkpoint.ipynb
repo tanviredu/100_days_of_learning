{
 "cells": [
  {
   "cell_type": "code",
   "execution_count": 2,
   "id": "7dd60cf0",
   "metadata": {},
   "outputs": [],
   "source": [
    "import datetime as dt\n",
    "import mysql.connector as connector\n",
    "connection = connector.connect(user=\"root\",password=\"\")\n",
    "cursor = connection.cursor()\n",
    "cursor.execute(\"USE little_lemon\")"
   ]
  },
  {
   "cell_type": "code",
   "execution_count": 3,
   "id": "d61d2fc2",
   "metadata": {},
   "outputs": [],
   "source": [
    "def action(sql):\n",
    "    cursor.execute(sql);\n",
    "    col = cursor.column_names\n",
    "    results = cursor.fetchall()\n",
    "    print(col)\n",
    "    for result in results:\n",
    "        print(result)"
   ]
  },
  {
   "cell_type": "code",
   "execution_count": 4,
   "id": "ec08ef5c",
   "metadata": {},
   "outputs": [
    {
     "name": "stdout",
     "output_type": "stream",
     "text": [
      "('BookingID', 'TableNo', 'GuestFirstName', 'GuestLastName', 'BookingSlot', 'EmployeeID')\n",
      "(1, 12, 'Anna', 'Iversen', datetime.timedelta(seconds=68400), 1)\n",
      "(2, 11, 'Joakim', 'Iversen', datetime.timedelta(seconds=68400), 6)\n",
      "(3, 19, 'Vanessa', 'McCarthy', datetime.timedelta(seconds=54000), 3)\n",
      "(4, 15, 'Marcos', 'Romero', datetime.timedelta(seconds=63000), 4)\n",
      "(5, 5, 'Hiroki', 'Yamane', datetime.timedelta(seconds=66600), 2)\n",
      "(6, 10, 'Diana', 'Pinto', datetime.timedelta(seconds=72000), 5)\n"
     ]
    }
   ],
   "source": [
    "action(\"\"\"SELECT * FROM bookings\"\"\")"
   ]
  },
  {
   "cell_type": "code",
   "execution_count": 5,
   "id": "e734bfe5",
   "metadata": {},
   "outputs": [
    {
     "name": "stdout",
     "output_type": "stream",
     "text": [
      "('OrderID', 'TableNo', 'MenuID', 'BookingID', 'BillAmount', 'Quantity')\n",
      "(1, 12, 1, 1, 86, 2)\n",
      "(2, 19, 2, 2, 37, 1)\n",
      "(3, 15, 2, 3, 37, 1)\n",
      "(4, 5, 3, 4, 40, 1)\n",
      "(5, 8, 1, 5, 43, 1)\n"
     ]
    }
   ],
   "source": [
    "action(\"SELECT * FROM Orders\")"
   ]
  },
  {
   "cell_type": "code",
   "execution_count": 8,
   "id": "3f29221f",
   "metadata": {},
   "outputs": [
    {
     "name": "stdout",
     "output_type": "stream",
     "text": [
      "SELECT B.BookingID,CONCAT(B.GuestFirstName,\" \",B.GuestLastName),O.BillAmount FROM\n",
      "            bookings B INNER JOIN Orders O\n",
      "            ON B.BookingID = O.BookingID\n"
     ]
    }
   ],
   "source": [
    "query1 = \"\"\"SELECT B.BookingID,CONCAT(B.GuestFirstName,\" \",B.GuestLastName),O.BillAmount FROM\n",
    "            bookings B INNER JOIN Orders O\n",
    "            ON B.BookingID = O.BookingID\"\"\"\n",
    "print(query1)"
   ]
  },
  {
   "cell_type": "code",
   "execution_count": 9,
   "id": "35c3372f",
   "metadata": {},
   "outputs": [
    {
     "name": "stdout",
     "output_type": "stream",
     "text": [
      "('BookingID', 'CONCAT(B.GuestFirstName,\" \",B.GuestLastName)', 'BillAmount')\n",
      "(1, 'Anna Iversen', 86)\n",
      "(2, 'Joakim Iversen', 37)\n",
      "(3, 'Vanessa McCarthy', 37)\n",
      "(4, 'Marcos Romero', 40)\n",
      "(5, 'Hiroki Yamane', 43)\n"
     ]
    }
   ],
   "source": [
    "action(query1)"
   ]
  },
  {
   "cell_type": "code",
   "execution_count": 13,
   "id": "84cdacb5",
   "metadata": {},
   "outputs": [
    {
     "name": "stdout",
     "output_type": "stream",
     "text": [
      "\n",
      "CREATE PROCEDURE GETBillBYBookingID(IN BID INT,OUT BAMOUNT INT)\n",
      "BEGIN\n",
      "    SELECT O.BillAmount INTO BAMOUNT\n",
      "    FROM Orders O\n",
      "    INNER JOIN bookings B\n",
      "    ON B.BookingID = O.BookingID\n",
      "    WHERE O.BookingID = BID;\n",
      "END\n",
      "\n"
     ]
    }
   ],
   "source": [
    "ex_stored_procedure = \"\"\"\n",
    "CREATE PROCEDURE GETBillBYBookingID(IN BID INT,OUT BAMOUNT INT)\n",
    "BEGIN\n",
    "    SELECT O.BillAmount INTO BAMOUNT\n",
    "    FROM Orders O\n",
    "    INNER JOIN bookings B\n",
    "    ON B.BookingID = O.BookingID\n",
    "    WHERE O.BookingID = BID;\n",
    "END\n",
    "\"\"\"\n",
    "print(ex_stored_procedure)"
   ]
  },
  {
   "cell_type": "code",
   "execution_count": 14,
   "id": "51302d53",
   "metadata": {},
   "outputs": [],
   "source": [
    "cursor.execute(ex_stored_procedure)"
   ]
  },
  {
   "cell_type": "code",
   "execution_count": 26,
   "id": "a9bec3f5",
   "metadata": {},
   "outputs": [],
   "source": [
    "BID = 1\n",
    "cursor.execute(\"CALL GETBillBYBookingID({},@BAMOUNT)\".format(BID))"
   ]
  },
  {
   "cell_type": "code",
   "execution_count": 27,
   "id": "651d4bf2",
   "metadata": {},
   "outputs": [],
   "source": [
    "cursor.execute(\"SELECT @BAMOUNT\")"
   ]
  },
  {
   "cell_type": "code",
   "execution_count": 28,
   "id": "62a30046",
   "metadata": {},
   "outputs": [],
   "source": [
    "data = cursor.fetchall()"
   ]
  },
  {
   "cell_type": "code",
   "execution_count": 29,
   "id": "3df923f1",
   "metadata": {},
   "outputs": [
    {
     "data": {
      "text/plain": [
       "[(86,)]"
      ]
     },
     "execution_count": 29,
     "metadata": {},
     "output_type": "execute_result"
    }
   ],
   "source": [
    "data"
   ]
  },
  {
   "cell_type": "code",
   "execution_count": 32,
   "id": "f3d48599",
   "metadata": {},
   "outputs": [
    {
     "name": "stdout",
     "output_type": "stream",
     "text": [
      "\n",
      "CREATE PROCEDURE CUPONCUSTOMER()\n",
      "BEGIN\n",
      "SELECT B.BookingID AS BookingID,CONCAT(B.GuestFirstName,\" \",B.GuestLastName)\n",
      "AS FullName,O.BillAmount FROM bookings B\n",
      "INNER JOIN orders O\n",
      "ON B.BookingID = O.BookingID\n",
      "WHERE O.BillAmount >= 50\n",
      "ORDER BY BillAmount DESC;\n",
      "END\n",
      "\n"
     ]
    }
   ],
   "source": [
    "query2 = \"\"\"\n",
    "CREATE PROCEDURE CUPONCUSTOMER()\n",
    "BEGIN\n",
    "SELECT B.BookingID AS BookingID,CONCAT(B.GuestFirstName,\" \",B.GuestLastName)\n",
    "AS FullName,O.BillAmount FROM bookings B\n",
    "INNER JOIN orders O\n",
    "ON B.BookingID = O.BookingID\n",
    "WHERE O.BillAmount >= 50\n",
    "ORDER BY BillAmount DESC;\n",
    "END\n",
    "\"\"\"\n",
    "print(query2)"
   ]
  },
  {
   "cell_type": "code",
   "execution_count": 33,
   "id": "9c25d6fd",
   "metadata": {},
   "outputs": [],
   "source": [
    "cursor.execute(query2)"
   ]
  },
  {
   "cell_type": "code",
   "execution_count": 34,
   "id": "288cb3a7",
   "metadata": {},
   "outputs": [
    {
     "data": {
      "text/plain": [
       "()"
      ]
     },
     "execution_count": 34,
     "metadata": {},
     "output_type": "execute_result"
    }
   ],
   "source": [
    "cursor.callproc('CUPONCUSTOMER')"
   ]
  },
  {
   "cell_type": "code",
   "execution_count": 35,
   "id": "a7a04c84",
   "metadata": {},
   "outputs": [
    {
     "data": {
      "text/plain": [
       "<mysql.connector.cursor_cext.CMySQLCursor at 0x1b7355b7190>"
      ]
     },
     "execution_count": 35,
     "metadata": {},
     "output_type": "execute_result"
    }
   ],
   "source": [
    "cursor"
   ]
  },
  {
   "cell_type": "code",
   "execution_count": 37,
   "id": "ce2c04ed",
   "metadata": {},
   "outputs": [
    {
     "data": {
      "text/plain": [
       "<generator object CMySQLCursor.stored_results at 0x000001B7381FB370>"
      ]
     },
     "execution_count": 37,
     "metadata": {},
     "output_type": "execute_result"
    }
   ],
   "source": [
    "cursor.stored_results()"
   ]
  },
  {
   "cell_type": "code",
   "execution_count": 38,
   "id": "fcd6f5bb",
   "metadata": {},
   "outputs": [],
   "source": [
    "## it is a generator object\n",
    "## we call next to get the result\n",
    "results = next(cursor.stored_results())"
   ]
  },
  {
   "cell_type": "code",
   "execution_count": 39,
   "id": "632afe4c",
   "metadata": {},
   "outputs": [
    {
     "data": {
      "text/plain": [
       "<mysql.connector.cursor_cext.CMySQLCursorBuffered at 0x1b73808ce10>"
      ]
     },
     "execution_count": 39,
     "metadata": {},
     "output_type": "execute_result"
    }
   ],
   "source": [
    "results"
   ]
  },
  {
   "cell_type": "code",
   "execution_count": 40,
   "id": "56cb188f",
   "metadata": {},
   "outputs": [],
   "source": [
    "data = results.fetchall()"
   ]
  },
  {
   "cell_type": "code",
   "execution_count": 41,
   "id": "97d606a4",
   "metadata": {},
   "outputs": [
    {
     "name": "stdout",
     "output_type": "stream",
     "text": [
      "(1, 'Anna Iversen', 86)\n"
     ]
    }
   ],
   "source": [
    "for item in data:\n",
    "    print(item)"
   ]
  },
  {
   "cell_type": "code",
   "execution_count": 42,
   "id": "abf00c01",
   "metadata": {},
   "outputs": [],
   "source": [
    "#or\n",
    "cursor.execute(\"CALL CUPONCUSTOMER\")"
   ]
  },
  {
   "cell_type": "code",
   "execution_count": 43,
   "id": "a9878110",
   "metadata": {},
   "outputs": [],
   "source": [
    "data = cursor.fetchall()"
   ]
  },
  {
   "cell_type": "code",
   "execution_count": 45,
   "id": "48fe9317",
   "metadata": {},
   "outputs": [
    {
     "name": "stdout",
     "output_type": "stream",
     "text": [
      "(1, 'Anna Iversen', 86)\n"
     ]
    }
   ],
   "source": [
    "for item in data:\n",
    "    print(item)"
   ]
  },
  {
   "cell_type": "markdown",
   "id": "e6f5cd13",
   "metadata": {},
   "source": [
    "# TASK 1\n",
    "Little Lemon is running a marketing campaign this month. They need to issue a discount coupon to the top spender on daily bases. \n",
    "\n",
    "Create a stored procedure TopSpender that can retrieve the following:\n",
    "\n",
    "the booking ID, \n",
    "\n",
    "guest’s full name, \n",
    "\n",
    "and the bill amount of the top spender at closing. \n",
    "\n",
    "Call the procedure and print the results."
   ]
  },
  {
   "cell_type": "code",
   "execution_count": null,
   "id": "0e4edaf4",
   "metadata": {},
   "outputs": [],
   "source": []
  }
 ],
 "metadata": {
  "kernelspec": {
   "display_name": "Python 3 (ipykernel)",
   "language": "python",
   "name": "python3"
  },
  "language_info": {
   "codemirror_mode": {
    "name": "ipython",
    "version": 3
   },
   "file_extension": ".py",
   "mimetype": "text/x-python",
   "name": "python",
   "nbconvert_exporter": "python",
   "pygments_lexer": "ipython3",
   "version": "3.11.0"
  }
 },
 "nbformat": 4,
 "nbformat_minor": 5
}
