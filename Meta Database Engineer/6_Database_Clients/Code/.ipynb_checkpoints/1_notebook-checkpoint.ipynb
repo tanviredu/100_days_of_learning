{
 "cells": [
  {
   "cell_type": "code",
   "execution_count": 1,
   "id": "eb753f75",
   "metadata": {},
   "outputs": [],
   "source": [
    "# !pip install mysql-connector-python"
   ]
  },
  {
   "cell_type": "code",
   "execution_count": 1,
   "id": "ee0277a7",
   "metadata": {},
   "outputs": [],
   "source": [
    "import mysql.connector as connector"
   ]
  },
  {
   "cell_type": "code",
   "execution_count": 2,
   "id": "5b98c9e6",
   "metadata": {},
   "outputs": [],
   "source": [
    "connection = connector.connect(user=\"root\",password=\"\")"
   ]
  },
  {
   "cell_type": "code",
   "execution_count": 3,
   "id": "b00ad105",
   "metadata": {},
   "outputs": [
    {
     "name": "stdout",
     "output_type": "stream",
     "text": [
      "None\n",
      "root\n"
     ]
    }
   ],
   "source": [
    "print(connection.database)\n",
    "print(connection.user)"
   ]
  },
  {
   "cell_type": "code",
   "execution_count": 4,
   "id": "3b8b8a95",
   "metadata": {},
   "outputs": [],
   "source": [
    "cursor = connection.cursor()"
   ]
  },
  {
   "cell_type": "code",
   "execution_count": 5,
   "id": "ad468088",
   "metadata": {},
   "outputs": [],
   "source": [
    "create_database_query = \"\"\"CREATE DATABASE IF NOT EXISTS little_lemon\"\"\""
   ]
  },
  {
   "cell_type": "code",
   "execution_count": 6,
   "id": "e8ccdf39",
   "metadata": {},
   "outputs": [
    {
     "name": "stdout",
     "output_type": "stream",
     "text": [
      "None\n"
     ]
    }
   ],
   "source": [
    "cursor.execute(create_database_query)\n",
    "print(connection.database)"
   ]
  },
  {
   "cell_type": "code",
   "execution_count": 7,
   "id": "8cdeadd5",
   "metadata": {},
   "outputs": [],
   "source": [
    "use_database_query = \"\"\"USE little_lemon\"\"\""
   ]
  },
  {
   "cell_type": "code",
   "execution_count": 8,
   "id": "c1a16103",
   "metadata": {},
   "outputs": [],
   "source": [
    "cursor.execute(use_database_query)"
   ]
  },
  {
   "cell_type": "code",
   "execution_count": 9,
   "id": "b56effb1",
   "metadata": {},
   "outputs": [
    {
     "name": "stdout",
     "output_type": "stream",
     "text": [
      "little_lemon\n"
     ]
    }
   ],
   "source": [
    "print(connection.database)"
   ]
  },
  {
   "cell_type": "code",
   "execution_count": 10,
   "id": "6b70cc69",
   "metadata": {},
   "outputs": [],
   "source": [
    "create_menu_table = \"\"\"\n",
    "CREATE TABLE IF NOT EXISTS MenuItems(\n",
    "    ItemID INT NOT NULL AUTO_INCREMENT,\n",
    "    Name VARCHAR(200),\n",
    "    Type VARCHAR(100),\n",
    "    Price INT,\n",
    "    PRIMARY KEY(ItemID)\n",
    ")\n",
    "\"\"\""
   ]
  },
  {
   "cell_type": "code",
   "execution_count": 11,
   "id": "96b1ae77",
   "metadata": {},
   "outputs": [
    {
     "name": "stdout",
     "output_type": "stream",
     "text": [
      "\n",
      "CREATE TABLE IF NOT EXISTS MenuItems(\n",
      "    ItemID INT NOT NULL AUTO_INCREMENT,\n",
      "    Name VARCHAR(200),\n",
      "    Type VARCHAR(100),\n",
      "    Price INT,\n",
      "    PRIMARY KEY(ItemID)\n",
      ")\n",
      "\n"
     ]
    }
   ],
   "source": [
    "print(create_menu_table)"
   ]
  },
  {
   "cell_type": "code",
   "execution_count": 12,
   "id": "73278f49",
   "metadata": {},
   "outputs": [],
   "source": [
    "cursor.execute(create_menu_table)"
   ]
  },
  {
   "cell_type": "code",
   "execution_count": 13,
   "id": "84b6c566",
   "metadata": {},
   "outputs": [],
   "source": [
    "cursor.execute(\"SHOW DATABASES\")"
   ]
  },
  {
   "cell_type": "code",
   "execution_count": 15,
   "id": "22e1c1a3",
   "metadata": {},
   "outputs": [
    {
     "name": "stdout",
     "output_type": "stream",
     "text": [
      "('information_schema',)\n",
      "('little_lemon',)\n",
      "('mysql',)\n",
      "('performance_schema',)\n",
      "('phpmyadmin',)\n",
      "('test',)\n"
     ]
    }
   ],
   "source": [
    "for database in cursor:\n",
    "    print(database)"
   ]
  },
  {
   "cell_type": "code",
   "execution_count": 16,
   "id": "ebd97186",
   "metadata": {},
   "outputs": [
    {
     "data": {
      "text/plain": [
       "'little_lemon'"
      ]
     },
     "execution_count": 16,
     "metadata": {},
     "output_type": "execute_result"
    }
   ],
   "source": [
    "connection.database"
   ]
  },
  {
   "cell_type": "code",
   "execution_count": 18,
   "id": "a27be533",
   "metadata": {},
   "outputs": [
    {
     "name": "stdout",
     "output_type": "stream",
     "text": [
      "('menuitems',)\n"
     ]
    }
   ],
   "source": [
    "cursor.execute(\"SHOW TABLES\")\n",
    "for table in cursor:\n",
    "    print(table)"
   ]
  },
  {
   "cell_type": "code",
   "execution_count": 20,
   "id": "3278d16b",
   "metadata": {},
   "outputs": [
    {
     "name": "stdout",
     "output_type": "stream",
     "text": [
      "\n",
      "    CREATE TABLE IF NOT EXISTS Menus(\n",
      "    MenuID INT,\n",
      "    ItemID INT,\n",
      "    Cuisine VARCHAR(100),\n",
      "    PRIMARY KEY(MenuID,ItemID)\n",
      "    );\n",
      "\n"
     ]
    }
   ],
   "source": [
    "create_menu_table = \"\"\"\n",
    "    CREATE TABLE IF NOT EXISTS Menus(\n",
    "    MenuID INT,\n",
    "    ItemID INT,\n",
    "    Cuisine VARCHAR(100),\n",
    "    PRIMARY KEY(MenuID,ItemID)\n",
    "    );\n",
    "\"\"\"\n",
    "print(create_menu_table)"
   ]
  },
  {
   "cell_type": "code",
   "execution_count": 21,
   "id": "c7e8b06a",
   "metadata": {},
   "outputs": [],
   "source": [
    "cursor.execute(create_menu_table)"
   ]
  },
  {
   "cell_type": "code",
   "execution_count": 22,
   "id": "c6ae9496",
   "metadata": {},
   "outputs": [
    {
     "name": "stdout",
     "output_type": "stream",
     "text": [
      "('menuitems',)\n",
      "('menus',)\n"
     ]
    }
   ],
   "source": [
    "cursor.execute(\"SHOW TABLES\")\n",
    "for table in cursor:\n",
    "    print(table)"
   ]
  },
  {
   "cell_type": "code",
   "execution_count": 27,
   "id": "7ed8f360",
   "metadata": {},
   "outputs": [
    {
     "name": "stdout",
     "output_type": "stream",
     "text": [
      "\n",
      "    CREATE TABLE IF NOT EXISTS Bookings\n",
      "    (\n",
      "        BookingID INT NOT NULL AUTO_INCREMENT,\n",
      "        TableNo INT,\n",
      "        GuestFirstName VARCHAR(100) NOT NULL,\n",
      "        GuestLastName VARCHAR(100) NOT NULL,\n",
      "        BookingSlot TIME NOT NULL,\n",
      "        EmployeeID INT,\n",
      "        PRIMARY KEY (BookingID)\n",
      "    );\n",
      "\n"
     ]
    }
   ],
   "source": [
    "create_booking_table = \"\"\"\n",
    "    CREATE TABLE IF NOT EXISTS Bookings\n",
    "    (\n",
    "        BookingID INT NOT NULL AUTO_INCREMENT,\n",
    "        TableNo INT,\n",
    "        GuestFirstName VARCHAR(100) NOT NULL,\n",
    "        GuestLastName VARCHAR(100) NOT NULL,\n",
    "        BookingSlot TIME NOT NULL,\n",
    "        EmployeeID INT,\n",
    "        PRIMARY KEY (BookingID)\n",
    "    );\n",
    "\"\"\"\n",
    "print(create_booking_table)"
   ]
  },
  {
   "cell_type": "code",
   "execution_count": 28,
   "id": "4feff79d",
   "metadata": {},
   "outputs": [],
   "source": [
    "cursor.execute(create_booking_table)"
   ]
  },
  {
   "cell_type": "code",
   "execution_count": 35,
   "id": "3cc25691",
   "metadata": {},
   "outputs": [
    {
     "name": "stdout",
     "output_type": "stream",
     "text": [
      "CREATE TABLE IF NOT EXISTS Orders(\n",
      "    OrderID INT,\n",
      "    TableNo INT,\n",
      "    MenuID INT,\n",
      "    BookingID INT,\n",
      "    BollAmount INT,\n",
      "    Quantity INT,\n",
      "    PRIMARY KEY(OrderID,TableNo)\n",
      "    );\n",
      "\n"
     ]
    }
   ],
   "source": [
    "create_order_table = \"\"\"CREATE TABLE IF NOT EXISTS Orders(\n",
    "    OrderID INT,\n",
    "    TableNo INT,\n",
    "    MenuID INT,\n",
    "    BookingID INT,\n",
    "    BollAmount INT,\n",
    "    Quantity INT,\n",
    "    PRIMARY KEY(OrderID,TableNo)\n",
    "    );\n",
    "\"\"\"\n",
    "print(create_order_table)"
   ]
  },
  {
   "cell_type": "code",
   "execution_count": 36,
   "id": "763ab4b3",
   "metadata": {},
   "outputs": [],
   "source": [
    "cursor.execute(create_order_table)"
   ]
  },
  {
   "cell_type": "code",
   "execution_count": 37,
   "id": "fbd6ae48",
   "metadata": {},
   "outputs": [
    {
     "name": "stdout",
     "output_type": "stream",
     "text": [
      "('bookings',)\n",
      "('menuitems',)\n",
      "('menus',)\n",
      "('orders',)\n"
     ]
    }
   ],
   "source": [
    "cursor.execute(\"SHOW TABLES\")\n",
    "for table in cursor:\n",
    "    print(table)"
   ]
  },
  {
   "cell_type": "code",
   "execution_count": null,
   "id": "9e4775a1",
   "metadata": {},
   "outputs": [],
   "source": []
  }
 ],
 "metadata": {
  "kernelspec": {
   "display_name": "Python 3 (ipykernel)",
   "language": "python",
   "name": "python3"
  },
  "language_info": {
   "codemirror_mode": {
    "name": "ipython",
    "version": 3
   },
   "file_extension": ".py",
   "mimetype": "text/x-python",
   "name": "python",
   "nbconvert_exporter": "python",
   "pygments_lexer": "ipython3",
   "version": "3.11.0"
  }
 },
 "nbformat": 4,
 "nbformat_minor": 5
}
