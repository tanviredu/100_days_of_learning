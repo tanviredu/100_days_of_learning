{
 "cells": [
  {
   "cell_type": "code",
   "execution_count": 1,
   "id": "dbc729a6",
   "metadata": {},
   "outputs": [],
   "source": [
    "import mysql.connector as connector"
   ]
  },
  {
   "cell_type": "code",
   "execution_count": 2,
   "id": "db590a75",
   "metadata": {},
   "outputs": [],
   "source": [
    "connection = connector.connect(user=\"root\",password=\"\",host=\"127.0.0.1\")"
   ]
  },
  {
   "cell_type": "code",
   "execution_count": 3,
   "id": "f51f4835",
   "metadata": {},
   "outputs": [],
   "source": [
    "cursor = connection.cursor()"
   ]
  },
  {
   "cell_type": "code",
   "execution_count": 4,
   "id": "781c44a5",
   "metadata": {},
   "outputs": [],
   "source": [
    "cursor.execute(\"USE little_lemon;\")"
   ]
  },
  {
   "cell_type": "code",
   "execution_count": 5,
   "id": "5aaf3667",
   "metadata": {},
   "outputs": [],
   "source": [
    "cursor.execute(\"SHOW TABLES\");"
   ]
  },
  {
   "cell_type": "code",
   "execution_count": 6,
   "id": "3907c387",
   "metadata": {},
   "outputs": [
    {
     "data": {
      "text/plain": [
       "[('bookings',), ('menuitems',), ('menus',), ('orders',)]"
      ]
     },
     "execution_count": 6,
     "metadata": {},
     "output_type": "execute_result"
    }
   ],
   "source": [
    "cursor.fetchall()"
   ]
  },
  {
   "cell_type": "code",
   "execution_count": 7,
   "id": "b89ff543",
   "metadata": {},
   "outputs": [],
   "source": [
    "select_stmt = \"\"\"SELECT * FROM bookings\"\"\""
   ]
  },
  {
   "cell_type": "code",
   "execution_count": 8,
   "id": "da7f26f5",
   "metadata": {},
   "outputs": [],
   "source": [
    "cursor.execute(select_stmt)"
   ]
  },
  {
   "cell_type": "code",
   "execution_count": 9,
   "id": "9db6cd0d",
   "metadata": {},
   "outputs": [],
   "source": [
    "data = cursor.fetchall()"
   ]
  },
  {
   "cell_type": "code",
   "execution_count": 11,
   "id": "430c0eff",
   "metadata": {},
   "outputs": [],
   "source": [
    "cols = cursor.column_names"
   ]
  },
  {
   "cell_type": "code",
   "execution_count": 12,
   "id": "3c628474",
   "metadata": {},
   "outputs": [
    {
     "name": "stdout",
     "output_type": "stream",
     "text": [
      "('BookingID', 'TableNo', 'GuestFirstName', 'GuestLastName', 'BookingSlot', 'EmployeeID')\n",
      "(1, 12, 'Anna', 'Iversen', datetime.timedelta(seconds=68400), 1)\n",
      "(2, 12, 'Joakim', 'Iversen', datetime.timedelta(seconds=68400), 1)\n",
      "(3, 19, 'Vanessa', 'McCarthy', datetime.timedelta(seconds=54000), 3)\n",
      "(4, 15, 'Marcos', 'Romero', datetime.timedelta(seconds=63000), 4)\n",
      "(5, 5, 'Hiroki', 'Yamane', datetime.timedelta(seconds=66600), 2)\n",
      "(6, 8, 'Diana', 'Pinto', datetime.timedelta(seconds=72000), 5)\n"
     ]
    }
   ],
   "source": [
    "print(cols)\n",
    "for item in data:\n",
    "    print(item)"
   ]
  },
  {
   "cell_type": "code",
   "execution_count": 15,
   "id": "8ff65b2b",
   "metadata": {},
   "outputs": [],
   "source": [
    "update_stmt = \"\"\"UPDATE bookings SET TableNo=10 WHERE BookingID=6\"\"\";"
   ]
  },
  {
   "cell_type": "code",
   "execution_count": 16,
   "id": "4c9d8aa3",
   "metadata": {},
   "outputs": [
    {
     "name": "stdout",
     "output_type": "stream",
     "text": [
      "UPDATE bookings SET TableNo=10 WHERE BookingID=6\n"
     ]
    }
   ],
   "source": [
    "print(update_stmt)"
   ]
  },
  {
   "cell_type": "code",
   "execution_count": 17,
   "id": "2b5f5b3d",
   "metadata": {},
   "outputs": [],
   "source": [
    "cursor.execute(update_stmt)"
   ]
  },
  {
   "cell_type": "code",
   "execution_count": 18,
   "id": "13f4b0cd",
   "metadata": {},
   "outputs": [],
   "source": [
    "connection.commit()"
   ]
  },
  {
   "cell_type": "code",
   "execution_count": 19,
   "id": "4592b2dd",
   "metadata": {},
   "outputs": [
    {
     "name": "stdout",
     "output_type": "stream",
     "text": [
      "[(1, 12, 'Anna', 'Iversen', datetime.timedelta(seconds=68400), 1), (2, 12, 'Joakim', 'Iversen', datetime.timedelta(seconds=68400), 1), (3, 19, 'Vanessa', 'McCarthy', datetime.timedelta(seconds=54000), 3), (4, 15, 'Marcos', 'Romero', datetime.timedelta(seconds=63000), 4), (5, 5, 'Hiroki', 'Yamane', datetime.timedelta(seconds=66600), 2), (6, 10, 'Diana', 'Pinto', datetime.timedelta(seconds=72000), 5)]\n"
     ]
    }
   ],
   "source": [
    "select_stmt = \"\"\"SELECT * FROM bookings\"\"\"\n",
    "cursor.execute(select_stmt)\n",
    "data = cursor.fetchall()\n",
    "print(data)"
   ]
  },
  {
   "cell_type": "code",
   "execution_count": 20,
   "id": "66dd4eaf",
   "metadata": {},
   "outputs": [],
   "source": [
    "update_stmt = \"\"\"UPDATE bookings SET TableNo=11,EmployeeID=6 WHERE BookingID=2\"\"\";"
   ]
  },
  {
   "cell_type": "code",
   "execution_count": 21,
   "id": "04c4fdd7",
   "metadata": {},
   "outputs": [
    {
     "name": "stdout",
     "output_type": "stream",
     "text": [
      "UPDATE bookings SET TableNo=11,EmployeeID=6 WHERE BookingID=2\n"
     ]
    }
   ],
   "source": [
    "print(update_stmt)"
   ]
  },
  {
   "cell_type": "code",
   "execution_count": 22,
   "id": "1be2e087",
   "metadata": {},
   "outputs": [],
   "source": [
    "cursor.execute(update_stmt)"
   ]
  },
  {
   "cell_type": "code",
   "execution_count": 23,
   "id": "c68847ce",
   "metadata": {},
   "outputs": [],
   "source": [
    "connection.commit()"
   ]
  },
  {
   "cell_type": "code",
   "execution_count": 24,
   "id": "4b31ebc5",
   "metadata": {},
   "outputs": [
    {
     "name": "stdout",
     "output_type": "stream",
     "text": [
      "[(1, 12, 'Anna', 'Iversen', datetime.timedelta(seconds=68400), 1), (2, 11, 'Joakim', 'Iversen', datetime.timedelta(seconds=68400), 6), (3, 19, 'Vanessa', 'McCarthy', datetime.timedelta(seconds=54000), 3), (4, 15, 'Marcos', 'Romero', datetime.timedelta(seconds=63000), 4), (5, 5, 'Hiroki', 'Yamane', datetime.timedelta(seconds=66600), 2), (6, 10, 'Diana', 'Pinto', datetime.timedelta(seconds=72000), 5)]\n"
     ]
    }
   ],
   "source": [
    "select_stmt = \"\"\"SELECT * FROM bookings\"\"\"\n",
    "cursor.execute(select_stmt)\n",
    "data = cursor.fetchall()\n",
    "print(data)"
   ]
  },
  {
   "cell_type": "code",
   "execution_count": 27,
   "id": "d444444f",
   "metadata": {},
   "outputs": [
    {
     "name": "stdout",
     "output_type": "stream",
     "text": [
      "('MenuID', 'ItemID', 'Cuisine')\n",
      "(1, 1, 'Greek')\n",
      "(1, 7, 'Greek')\n",
      "(1, 10, 'Greek')\n",
      "(1, 13, 'Greek')\n",
      "(2, 3, 'Italian')\n",
      "(2, 9, 'Italian')\n",
      "(2, 12, 'Italian')\n",
      "(2, 15, 'Italian')\n",
      "(3, 5, 'Turkish')\n",
      "(3, 11, 'Turkish')\n",
      "(3, 16, 'Turkish')\n",
      "(3, 17, 'Turkish')\n"
     ]
    }
   ],
   "source": [
    "select_stmt = \"\"\"SELECT * FROM menus\"\"\"\n",
    "cursor.execute(select_stmt)\n",
    "data = cursor.fetchall()\n",
    "col = cursor.column_names\n",
    "print(col)\n",
    "for item in data:\n",
    "    print(item)"
   ]
  },
  {
   "cell_type": "code",
   "execution_count": 28,
   "id": "4d1a00d3",
   "metadata": {},
   "outputs": [
    {
     "name": "stdout",
     "output_type": "stream",
     "text": [
      "DELETE FROM menus WHERE Cuisine='Greek'\n"
     ]
    }
   ],
   "source": [
    "delete_stmt = \"DELETE FROM menus WHERE Cuisine='Greek'\";\n",
    "print(delete_stmt)"
   ]
  },
  {
   "cell_type": "code",
   "execution_count": 29,
   "id": "a471da66",
   "metadata": {},
   "outputs": [],
   "source": [
    "cursor.execute(delete_stmt)\n",
    "connection.commit()"
   ]
  },
  {
   "cell_type": "code",
   "execution_count": 30,
   "id": "9b115301",
   "metadata": {},
   "outputs": [
    {
     "name": "stdout",
     "output_type": "stream",
     "text": [
      "('MenuID', 'ItemID', 'Cuisine')\n",
      "(2, 3, 'Italian')\n",
      "(2, 9, 'Italian')\n",
      "(2, 12, 'Italian')\n",
      "(2, 15, 'Italian')\n",
      "(3, 5, 'Turkish')\n",
      "(3, 11, 'Turkish')\n",
      "(3, 16, 'Turkish')\n",
      "(3, 17, 'Turkish')\n"
     ]
    }
   ],
   "source": [
    "select_stmt = \"\"\"SELECT * FROM menus\"\"\"\n",
    "cursor.execute(select_stmt)\n",
    "data = cursor.fetchall()\n",
    "col = cursor.column_names\n",
    "print(col)\n",
    "for item in data:\n",
    "    print(item)"
   ]
  },
  {
   "cell_type": "code",
   "execution_count": null,
   "id": "d4dc0ee2",
   "metadata": {},
   "outputs": [],
   "source": []
  }
 ],
 "metadata": {
  "kernelspec": {
   "display_name": "Python 3 (ipykernel)",
   "language": "python",
   "name": "python3"
  },
  "language_info": {
   "codemirror_mode": {
    "name": "ipython",
    "version": 3
   },
   "file_extension": ".py",
   "mimetype": "text/x-python",
   "name": "python",
   "nbconvert_exporter": "python",
   "pygments_lexer": "ipython3",
   "version": "3.11.0"
  }
 },
 "nbformat": 4,
 "nbformat_minor": 5
}
