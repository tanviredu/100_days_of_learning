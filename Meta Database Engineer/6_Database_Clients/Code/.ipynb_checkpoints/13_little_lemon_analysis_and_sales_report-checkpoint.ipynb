{
 "cells": [
  {
   "cell_type": "code",
   "execution_count": 1,
   "id": "c79da20f",
   "metadata": {},
   "outputs": [],
   "source": [
    "import mysql.connector as connector\n",
    "from mysql.connector.pooling import MySQLConnectionPool\n",
    "from mysql.connector import Error\n",
    "from mysql.connector import errors"
   ]
  },
  {
   "cell_type": "markdown",
   "id": "96b2334a",
   "metadata": {},
   "source": [
    "# Task1"
   ]
  },
  {
   "cell_type": "code",
   "execution_count": 2,
   "id": "b38b2b4b",
   "metadata": {},
   "outputs": [],
   "source": [
    "dbconfig = {\n",
    "    'database':'little_lemon_db',\n",
    "    'user':'root',\n",
    "    'password':''\n",
    "    \n",
    "}\n",
    "try:\n",
    "    pool = MySQLConnectionPool(pool_name=\"pool_b\",\n",
    "                          pool_size=2,\n",
    "                          host=\"127.0.0.1\",**dbconfig\n",
    "                          )\n",
    "        \n",
    "except Error as err:\n",
    "    print(\"Error code: {}\".format(err.errno))\n",
    "    print(\"Error message: {}\".format(err.msg))"
   ]
  },
  {
   "cell_type": "markdown",
   "id": "9784e784",
   "metadata": {},
   "source": [
    "# Task 2"
   ]
  },
  {
   "cell_type": "code",
   "execution_count": 3,
   "id": "618438cf",
   "metadata": {},
   "outputs": [
    {
     "name": "stdout",
     "output_type": "stream",
     "text": [
      "Error: Failed getting connection; pool exhausted\n",
      "Adding new connection to the pool\n"
     ]
    }
   ],
   "source": [
    "data = [[8,'Anees','Java','18:00:00',6],[5,'Bald','Vin','19:00:00',6],[12,'Jay','Kon','19:30:00',6]]\n",
    "for item in data:\n",
    "    try:\n",
    "        query = \"\"\"INSERT INTO bookings(TableNo,GuestFirstName,GuestLastName,BookingSlot,EmployeeID) VALUES ({},'{}','{}','{}',{});\"\"\".format(item[0],item[1],item[2],item[3],item[4])\n",
    "        connection_object = pool.get_connection()\n",
    "        # use the connection\n",
    "        if connection_object.is_connected:\n",
    "            cursor = connection_object.cursor()\n",
    "            cursor.execute(query)\n",
    "            connection_object.commit()\n",
    "    except errors.PoolError as err:\n",
    "        print(\"Error: {}\".format(err))\n",
    "        print(\"Adding new connection to the pool\")\n",
    "        cnx = connector.connect(user=\"root\",password=\"\")\n",
    "        pool.add_connection(cnx=cnx)\n",
    "        conn = pool.get_connection()\n",
    "        cur = conn.cursor()\n",
    "        cur.execute(query)\n",
    "        conn.commit()\n",
    "connection_object.close()\n",
    "conn.close()\n",
    "        \n",
    "\n",
    "    "
   ]
  },
  {
   "cell_type": "markdown",
   "id": "58130a9f",
   "metadata": {},
   "source": [
    "# Task 3.1"
   ]
  },
  {
   "cell_type": "code",
   "execution_count": 4,
   "id": "0d72cc5d",
   "metadata": {},
   "outputs": [
    {
     "name": "stdout",
     "output_type": "stream",
     "text": [
      "('EmployeeID', 'Name')\n",
      "(1, 'Mario Gollini')\n"
     ]
    }
   ],
   "source": [
    "connection = pool.get_connection()\n",
    "#connection = connector.connect(user=\"root\",password=\"\")\n",
    "cursor = connection.cursor()\n",
    "cursor.execute(\"USE little_lemon_db;\")\n",
    "query1 = \"\"\"SELECT EmployeeID,Name FROM Employees WHERE Role='Manager';\"\"\"\n",
    "cursor.execute(query1)\n",
    "results = cursor.fetchall()\n",
    "columns = cursor.column_names\n",
    "print(columns)\n",
    "for item in results:\n",
    "    print(item)"
   ]
  },
  {
   "cell_type": "markdown",
   "id": "7f5e4d35",
   "metadata": {},
   "source": [
    "# Task 3.2"
   ]
  },
  {
   "cell_type": "code",
   "execution_count": 5,
   "id": "f9ecc5a8",
   "metadata": {},
   "outputs": [
    {
     "name": "stdout",
     "output_type": "stream",
     "text": [
      "('Name', 'Role')\n",
      "('Mario Gollini', 'Manager')\n"
     ]
    }
   ],
   "source": [
    "query2 = \"SELECT Name,Role FROM Employees ORDER BY Annual_Salary DESC LIMIT 1;\"\n",
    "cursor.execute(query2)\n",
    "columns = cursor.column_names\n",
    "results = cursor.fetchall()\n",
    "print(columns)\n",
    "for item in results:\n",
    "    print(item)"
   ]
  },
  {
   "cell_type": "markdown",
   "id": "6b0a89d2",
   "metadata": {},
   "source": [
    "# Task 3.3"
   ]
  },
  {
   "cell_type": "code",
   "execution_count": 6,
   "id": "1d0e1c33",
   "metadata": {},
   "outputs": [
    {
     "name": "stdout",
     "output_type": "stream",
     "text": [
      "('NumOFBooking',)\n",
      "(7,)\n"
     ]
    }
   ],
   "source": [
    "query3 = \"\"\"SELECT COUNT(*) NumOFBooking FROM bookings WHERE BookingSlot BETWEEN '18:00:00' AND '20:00:00';\"\"\"\n",
    "cursor.execute(query3)\n",
    "columns = cursor.column_names\n",
    "results = cursor.fetchall()\n",
    "print(columns)\n",
    "for item in results:\n",
    "    print(item)"
   ]
  },
  {
   "cell_type": "markdown",
   "id": "5717c40a",
   "metadata": {},
   "source": [
    "# Task 3.4"
   ]
  },
  {
   "cell_type": "code",
   "execution_count": 7,
   "id": "6ad6c026",
   "metadata": {},
   "outputs": [
    {
     "name": "stdout",
     "output_type": "stream",
     "text": [
      "('BookingID', 'FullName')\n",
      "(32, 'Anees Java')\n",
      "(33, 'Bald Vin')\n",
      "(34, 'Jay Kon')\n"
     ]
    }
   ],
   "source": [
    "query4 = \"\"\"SELECT B.BookingID,CONCAT(B.GuestFirstName,' ',B.GuestLastName) AS FullName FROM\n",
    "            Bookings B JOIN employees E ON B.EmployeeID = E.EmployeeID\n",
    "            WHERE E.Role='Receptionist' ORDER BY B.BookingSlot;\"\"\"\n",
    "cursor.execute(query4)\n",
    "columns = cursor.column_names\n",
    "results = cursor.fetchall()\n",
    "print(columns)\n",
    "for item in results:\n",
    "    print(item)"
   ]
  },
  {
   "cell_type": "markdown",
   "id": "f6d5cec0",
   "metadata": {},
   "source": [
    "# Task 4"
   ]
  },
  {
   "cell_type": "code",
   "execution_count": 8,
   "id": "5712ee59",
   "metadata": {},
   "outputs": [
    {
     "name": "stdout",
     "output_type": "stream",
     "text": [
      "('TotalSale', 'AverageSale', 'MinimumBillPaid', 'MaximumBillPaid')\n",
      "(Decimal('243'), Decimal('48.6000'), 37, 86)\n"
     ]
    }
   ],
   "source": [
    "query5 = \"\"\"SELECT SUM(BillAmount) AS TotalSale,AVG(BillAmount) AS AverageSale,MIN(BillAmount) AS MinimumBillPaid,MAX(BillAmount) AS MaximumBillPaid FROM Orders \"\"\"\n",
    "cursor.execute(query5)\n",
    "columns = cursor.column_names\n",
    "results = cursor.fetchall()\n",
    "print(columns)\n",
    "for item in results:\n",
    "    print(item)"
   ]
  },
  {
   "cell_type": "markdown",
   "id": "4601d764",
   "metadata": {},
   "source": [
    "# Task 5"
   ]
  },
  {
   "cell_type": "code",
   "execution_count": null,
   "id": "7a2fd2e4",
   "metadata": {},
   "outputs": [],
   "source": []
  }
 ],
 "metadata": {
  "kernelspec": {
   "display_name": "Python 3 (ipykernel)",
   "language": "python",
   "name": "python3"
  },
  "language_info": {
   "codemirror_mode": {
    "name": "ipython",
    "version": 3
   },
   "file_extension": ".py",
   "mimetype": "text/x-python",
   "name": "python",
   "nbconvert_exporter": "python",
   "pygments_lexer": "ipython3",
   "version": "3.11.0"
  }
 },
 "nbformat": 4,
 "nbformat_minor": 5
}
