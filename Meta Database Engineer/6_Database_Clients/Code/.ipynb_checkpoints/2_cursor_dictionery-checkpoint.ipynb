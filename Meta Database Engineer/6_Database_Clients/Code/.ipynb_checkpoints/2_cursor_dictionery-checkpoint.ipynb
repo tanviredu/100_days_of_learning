{
 "cells": [
  {
   "cell_type": "code",
   "execution_count": 1,
   "id": "3f420431",
   "metadata": {},
   "outputs": [],
   "source": [
    "import mysql.connector as connector"
   ]
  },
  {
   "cell_type": "code",
   "execution_count": 2,
   "id": "fb8ac37f",
   "metadata": {},
   "outputs": [],
   "source": [
    "connection = connector.connect(user=\"root\",password=\"\",host=\"127.0.0.1\")"
   ]
  },
  {
   "cell_type": "code",
   "execution_count": 3,
   "id": "60abec95",
   "metadata": {},
   "outputs": [],
   "source": [
    "cursor = connection.cursor(dictionary=True)"
   ]
  },
  {
   "cell_type": "code",
   "execution_count": 4,
   "id": "794814ce",
   "metadata": {},
   "outputs": [],
   "source": [
    "cursor.execute(\"USE little_lemon;\")"
   ]
  },
  {
   "cell_type": "code",
   "execution_count": 7,
   "id": "aed24e26",
   "metadata": {},
   "outputs": [],
   "source": [
    "cursor.execute(\"SHOW Tables\");"
   ]
  },
  {
   "cell_type": "code",
   "execution_count": 8,
   "id": "9302a200",
   "metadata": {},
   "outputs": [],
   "source": [
    "result = cursor.fetchall()"
   ]
  },
  {
   "cell_type": "code",
   "execution_count": 9,
   "id": "312b5254",
   "metadata": {},
   "outputs": [
    {
     "name": "stdout",
     "output_type": "stream",
     "text": [
      "[{'Tables_in_little_lemon': 'bookings'}, {'Tables_in_little_lemon': 'menuitems'}, {'Tables_in_little_lemon': 'menus'}, {'Tables_in_little_lemon': 'orders'}]\n"
     ]
    }
   ],
   "source": [
    "print(result)"
   ]
  },
  {
   "cell_type": "code",
   "execution_count": 16,
   "id": "c6aa4b41",
   "metadata": {},
   "outputs": [],
   "source": [
    "#cursor.execute(\"SHOW Tables\");\n",
    "#cursor.execute(\"SHOW DATABASES\")\n",
    "\n",
    "# it will throw an error because all the data \n",
    "## in the first execute are not yet consumes"
   ]
  },
  {
   "cell_type": "code",
   "execution_count": 17,
   "id": "cea1716b",
   "metadata": {},
   "outputs": [],
   "source": [
    "cursor_raw = connection.cursor(raw=True)"
   ]
  },
  {
   "cell_type": "code",
   "execution_count": 18,
   "id": "59298ece",
   "metadata": {},
   "outputs": [],
   "source": [
    "cursor_raw.execute(\"USE little_lemon;\");"
   ]
  },
  {
   "cell_type": "code",
   "execution_count": 19,
   "id": "b136aaf0",
   "metadata": {},
   "outputs": [],
   "source": [
    "cursor_raw.execute(\"SHOW TABLES;\")"
   ]
  },
  {
   "cell_type": "code",
   "execution_count": 20,
   "id": "0f3c068f",
   "metadata": {},
   "outputs": [],
   "source": [
    "data = cursor_raw.fetchall()"
   ]
  },
  {
   "cell_type": "code",
   "execution_count": 21,
   "id": "e9d21bd5",
   "metadata": {},
   "outputs": [
    {
     "data": {
      "text/plain": [
       "[(bytearray(b'bookings'),),\n",
       " (bytearray(b'menuitems'),),\n",
       " (bytearray(b'menus'),),\n",
       " (bytearray(b'orders'),)]"
      ]
     },
     "execution_count": 21,
     "metadata": {},
     "output_type": "execute_result"
    }
   ],
   "source": [
    "data"
   ]
  },
  {
   "cell_type": "code",
   "execution_count": 23,
   "id": "9107f7ff",
   "metadata": {},
   "outputs": [
    {
     "name": "stdout",
     "output_type": "stream",
     "text": [
      "<built-in method count of tuple object at 0x000002A147B49210>\n",
      "<built-in method count of tuple object at 0x000002A147B492D0>\n",
      "<built-in method count of tuple object at 0x000002A1479C3B20>\n",
      "<built-in method count of tuple object at 0x000002A147B495A0>\n"
     ]
    }
   ],
   "source": []
  },
  {
   "cell_type": "code",
   "execution_count": null,
   "id": "9f6ed954",
   "metadata": {},
   "outputs": [],
   "source": []
  }
 ],
 "metadata": {
  "kernelspec": {
   "display_name": "Python 3 (ipykernel)",
   "language": "python",
   "name": "python3"
  },
  "language_info": {
   "codemirror_mode": {
    "name": "ipython",
    "version": 3
   },
   "file_extension": ".py",
   "mimetype": "text/x-python",
   "name": "python",
   "nbconvert_exporter": "python",
   "pygments_lexer": "ipython3",
   "version": "3.11.0"
  }
 },
 "nbformat": 4,
 "nbformat_minor": 5
}
