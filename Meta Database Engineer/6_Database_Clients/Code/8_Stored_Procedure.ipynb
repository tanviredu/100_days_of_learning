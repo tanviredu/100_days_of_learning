{
 "cells": [
  {
   "cell_type": "code",
   "execution_count": 1,
   "id": "7dd60cf0",
   "metadata": {},
   "outputs": [],
   "source": [
    "import datetime as dt\n",
    "import mysql.connector as connector\n",
    "connection = connector.connect(user=\"root\",password=\"\")\n",
    "cursor = connection.cursor()\n",
    "cursor.execute(\"USE little_lemon\")"
   ]
  },
  {
   "cell_type": "code",
   "execution_count": 7,
   "id": "d61d2fc2",
   "metadata": {},
   "outputs": [],
   "source": [
    "def action(sql):\n",
    "    cursor.execute(sql);\n",
    "    col = cursor.column_names\n",
    "    results = cursor.fetchall()\n",
    "    print(col)\n",
    "    for result in results:\n",
    "        print(result)"
   ]
  },
  {
   "cell_type": "code",
   "execution_count": 4,
   "id": "ec08ef5c",
   "metadata": {},
   "outputs": [
    {
     "name": "stdout",
     "output_type": "stream",
     "text": [
      "('BookingID', 'TableNo', 'GuestFirstName', 'GuestLastName', 'BookingSlot', 'EmployeeID')\n",
      "(1, 12, 'Anna', 'Iversen', datetime.timedelta(seconds=68400), 1)\n",
      "(2, 11, 'Joakim', 'Iversen', datetime.timedelta(seconds=68400), 6)\n",
      "(3, 19, 'Vanessa', 'McCarthy', datetime.timedelta(seconds=54000), 3)\n",
      "(4, 15, 'Marcos', 'Romero', datetime.timedelta(seconds=63000), 4)\n",
      "(5, 5, 'Hiroki', 'Yamane', datetime.timedelta(seconds=66600), 2)\n",
      "(6, 10, 'Diana', 'Pinto', datetime.timedelta(seconds=72000), 5)\n"
     ]
    }
   ],
   "source": [
    "action(\"\"\"SELECT * FROM bookings\"\"\")"
   ]
  },
  {
   "cell_type": "code",
   "execution_count": 5,
   "id": "e734bfe5",
   "metadata": {},
   "outputs": [
    {
     "name": "stdout",
     "output_type": "stream",
     "text": [
      "('OrderID', 'TableNo', 'MenuID', 'BookingID', 'BillAmount', 'Quantity')\n",
      "(1, 12, 1, 1, 86, 2)\n",
      "(2, 19, 2, 2, 37, 1)\n",
      "(3, 15, 2, 3, 37, 1)\n",
      "(4, 5, 3, 4, 40, 1)\n",
      "(5, 8, 1, 5, 43, 1)\n"
     ]
    }
   ],
   "source": [
    "action(\"SELECT * FROM Orders\")"
   ]
  },
  {
   "cell_type": "code",
   "execution_count": 8,
   "id": "3f29221f",
   "metadata": {},
   "outputs": [
    {
     "name": "stdout",
     "output_type": "stream",
     "text": [
      "SELECT B.BookingID,CONCAT(B.GuestFirstName,\" \",B.GuestLastName),O.BillAmount FROM\n",
      "            bookings B INNER JOIN Orders O\n",
      "            ON B.BookingID = O.BookingID\n"
     ]
    }
   ],
   "source": [
    "query1 = \"\"\"SELECT B.BookingID,CONCAT(B.GuestFirstName,\" \",B.GuestLastName),O.BillAmount FROM\n",
    "            bookings B INNER JOIN Orders O\n",
    "            ON B.BookingID = O.BookingID\"\"\"\n",
    "print(query1)"
   ]
  },
  {
   "cell_type": "code",
   "execution_count": 9,
   "id": "35c3372f",
   "metadata": {},
   "outputs": [
    {
     "name": "stdout",
     "output_type": "stream",
     "text": [
      "('BookingID', 'CONCAT(B.GuestFirstName,\" \",B.GuestLastName)', 'BillAmount')\n",
      "(1, 'Anna Iversen', 86)\n",
      "(2, 'Joakim Iversen', 37)\n",
      "(3, 'Vanessa McCarthy', 37)\n",
      "(4, 'Marcos Romero', 40)\n",
      "(5, 'Hiroki Yamane', 43)\n"
     ]
    }
   ],
   "source": [
    "action(query1)"
   ]
  },
  {
   "cell_type": "code",
   "execution_count": 13,
   "id": "84cdacb5",
   "metadata": {},
   "outputs": [
    {
     "name": "stdout",
     "output_type": "stream",
     "text": [
      "\n",
      "CREATE PROCEDURE GETBillBYBookingID(IN BID INT,OUT BAMOUNT INT)\n",
      "BEGIN\n",
      "    SELECT O.BillAmount INTO BAMOUNT\n",
      "    FROM Orders O\n",
      "    INNER JOIN bookings B\n",
      "    ON B.BookingID = O.BookingID\n",
      "    WHERE O.BookingID = BID;\n",
      "END\n",
      "\n"
     ]
    }
   ],
   "source": [
    "ex_stored_procedure = \"\"\"\n",
    "CREATE PROCEDURE GETBillBYBookingID(IN BID INT,OUT BAMOUNT INT)\n",
    "BEGIN\n",
    "    SELECT O.BillAmount INTO BAMOUNT\n",
    "    FROM Orders O\n",
    "    INNER JOIN bookings B\n",
    "    ON B.BookingID = O.BookingID\n",
    "    WHERE O.BookingID = BID;\n",
    "END\n",
    "\"\"\"\n",
    "print(ex_stored_procedure)"
   ]
  },
  {
   "cell_type": "code",
   "execution_count": 14,
   "id": "51302d53",
   "metadata": {},
   "outputs": [],
   "source": [
    "cursor.execute(ex_stored_procedure)"
   ]
  },
  {
   "cell_type": "code",
   "execution_count": 26,
   "id": "a9bec3f5",
   "metadata": {},
   "outputs": [],
   "source": [
    "BID = 1\n",
    "cursor.execute(\"CALL GETBillBYBookingID({},@BAMOUNT)\".format(BID))"
   ]
  },
  {
   "cell_type": "code",
   "execution_count": 27,
   "id": "651d4bf2",
   "metadata": {},
   "outputs": [],
   "source": [
    "cursor.execute(\"SELECT @BAMOUNT\")"
   ]
  },
  {
   "cell_type": "code",
   "execution_count": 28,
   "id": "62a30046",
   "metadata": {},
   "outputs": [],
   "source": [
    "data = cursor.fetchall()"
   ]
  },
  {
   "cell_type": "code",
   "execution_count": 29,
   "id": "3df923f1",
   "metadata": {},
   "outputs": [
    {
     "data": {
      "text/plain": [
       "[(86,)]"
      ]
     },
     "execution_count": 29,
     "metadata": {},
     "output_type": "execute_result"
    }
   ],
   "source": [
    "data"
   ]
  },
  {
   "cell_type": "code",
   "execution_count": 32,
   "id": "f3d48599",
   "metadata": {},
   "outputs": [
    {
     "name": "stdout",
     "output_type": "stream",
     "text": [
      "\n",
      "CREATE PROCEDURE CUPONCUSTOMER()\n",
      "BEGIN\n",
      "SELECT B.BookingID AS BookingID,CONCAT(B.GuestFirstName,\" \",B.GuestLastName)\n",
      "AS FullName,O.BillAmount FROM bookings B\n",
      "INNER JOIN orders O\n",
      "ON B.BookingID = O.BookingID\n",
      "WHERE O.BillAmount >= 50\n",
      "ORDER BY BillAmount DESC;\n",
      "END\n",
      "\n"
     ]
    }
   ],
   "source": [
    "query2 = \"\"\"\n",
    "CREATE PROCEDURE CUPONCUSTOMER()\n",
    "BEGIN\n",
    "SELECT B.BookingID AS BookingID,CONCAT(B.GuestFirstName,\" \",B.GuestLastName)\n",
    "AS FullName,O.BillAmount FROM bookings B\n",
    "INNER JOIN orders O\n",
    "ON B.BookingID = O.BookingID\n",
    "WHERE O.BillAmount >= 50\n",
    "ORDER BY BillAmount DESC;\n",
    "END\n",
    "\"\"\"\n",
    "print(query2)"
   ]
  },
  {
   "cell_type": "code",
   "execution_count": 33,
   "id": "9c25d6fd",
   "metadata": {},
   "outputs": [],
   "source": [
    "cursor.execute(query2)"
   ]
  },
  {
   "cell_type": "code",
   "execution_count": 34,
   "id": "288cb3a7",
   "metadata": {},
   "outputs": [
    {
     "data": {
      "text/plain": [
       "()"
      ]
     },
     "execution_count": 34,
     "metadata": {},
     "output_type": "execute_result"
    }
   ],
   "source": [
    "cursor.callproc('CUPONCUSTOMER')"
   ]
  },
  {
   "cell_type": "code",
   "execution_count": 35,
   "id": "a7a04c84",
   "metadata": {},
   "outputs": [
    {
     "data": {
      "text/plain": [
       "<mysql.connector.cursor_cext.CMySQLCursor at 0x1b7355b7190>"
      ]
     },
     "execution_count": 35,
     "metadata": {},
     "output_type": "execute_result"
    }
   ],
   "source": [
    "cursor"
   ]
  },
  {
   "cell_type": "code",
   "execution_count": 37,
   "id": "ce2c04ed",
   "metadata": {},
   "outputs": [
    {
     "data": {
      "text/plain": [
       "<generator object CMySQLCursor.stored_results at 0x000001B7381FB370>"
      ]
     },
     "execution_count": 37,
     "metadata": {},
     "output_type": "execute_result"
    }
   ],
   "source": [
    "cursor.stored_results()"
   ]
  },
  {
   "cell_type": "code",
   "execution_count": 38,
   "id": "fcd6f5bb",
   "metadata": {},
   "outputs": [],
   "source": [
    "## it is a generator object\n",
    "## we call next to get the result\n",
    "results = next(cursor.stored_results())"
   ]
  },
  {
   "cell_type": "code",
   "execution_count": 39,
   "id": "632afe4c",
   "metadata": {},
   "outputs": [
    {
     "data": {
      "text/plain": [
       "<mysql.connector.cursor_cext.CMySQLCursorBuffered at 0x1b73808ce10>"
      ]
     },
     "execution_count": 39,
     "metadata": {},
     "output_type": "execute_result"
    }
   ],
   "source": [
    "results"
   ]
  },
  {
   "cell_type": "code",
   "execution_count": 40,
   "id": "56cb188f",
   "metadata": {},
   "outputs": [],
   "source": [
    "data = results.fetchall()"
   ]
  },
  {
   "cell_type": "code",
   "execution_count": 41,
   "id": "97d606a4",
   "metadata": {},
   "outputs": [
    {
     "name": "stdout",
     "output_type": "stream",
     "text": [
      "(1, 'Anna Iversen', 86)\n"
     ]
    }
   ],
   "source": [
    "for item in data:\n",
    "    print(item)"
   ]
  },
  {
   "cell_type": "code",
   "execution_count": 42,
   "id": "abf00c01",
   "metadata": {},
   "outputs": [],
   "source": [
    "#or\n",
    "cursor.execute(\"CALL CUPONCUSTOMER\")"
   ]
  },
  {
   "cell_type": "code",
   "execution_count": 43,
   "id": "a9878110",
   "metadata": {},
   "outputs": [],
   "source": [
    "data = cursor.fetchall()"
   ]
  },
  {
   "cell_type": "code",
   "execution_count": 45,
   "id": "48fe9317",
   "metadata": {},
   "outputs": [
    {
     "name": "stdout",
     "output_type": "stream",
     "text": [
      "(1, 'Anna Iversen', 86)\n"
     ]
    }
   ],
   "source": [
    "for item in data:\n",
    "    print(item)"
   ]
  },
  {
   "cell_type": "markdown",
   "id": "e6f5cd13",
   "metadata": {},
   "source": [
    "# TASK 1\n",
    "Little Lemon is running a marketing campaign this month. They need to issue a discount coupon to the top spender on daily bases. \n",
    "\n",
    "Create a stored procedure TopSpender that can retrieve the following:\n",
    "\n",
    "the booking ID, \n",
    "\n",
    "guest’s full name, \n",
    "\n",
    "and the bill amount of the top spender at closing. \n",
    "\n",
    "Call the procedure and print the results."
   ]
  },
  {
   "cell_type": "code",
   "execution_count": 17,
   "id": "0e4edaf4",
   "metadata": {},
   "outputs": [
    {
     "name": "stdout",
     "output_type": "stream",
     "text": [
      "\n",
      "    CREATE PROCEDURE TopSpender()\n",
      "    BEGIN\n",
      "    SELECT B.BookingID,CONCAT(B.GuestFirstName,' ',B.GuestLastName) as CustomerName,O.BillAmount\n",
      "    FROM bookings B INNER JOIN orders O\n",
      "    ON B.BookingID = O.BookingID\n",
      "    ORDER BY O.BillAmount DESC LIMIT 1;\n",
      "    END\n",
      "\n"
     ]
    }
   ],
   "source": [
    "test1_stored_procedure = \"\"\"\n",
    "    CREATE PROCEDURE TopSpender()\n",
    "    BEGIN\n",
    "    SELECT B.BookingID,CONCAT(B.GuestFirstName,' ',B.GuestLastName) as CustomerName,O.BillAmount\n",
    "    FROM bookings B INNER JOIN orders O\n",
    "    ON B.BookingID = O.BookingID\n",
    "    ORDER BY O.BillAmount DESC LIMIT 1;\n",
    "    END\n",
    "\"\"\"\n",
    "print(test1_stored_procedure)"
   ]
  },
  {
   "cell_type": "code",
   "execution_count": 18,
   "id": "4e56fe0b",
   "metadata": {},
   "outputs": [],
   "source": [
    "query = \"\"\"SELECT B.BookingID,CONCAT(B.GuestFirstName,' ',B.GuestLastName) as CustomerName,O.BillAmount\n",
    "    FROM bookings B INNER JOIN orders O\n",
    "    ON B.BookingID = O.BookingID\n",
    "    ORDER BY O.BillAmount DESC LIMIT 1;\n",
    "    \"\"\""
   ]
  },
  {
   "cell_type": "code",
   "execution_count": 19,
   "id": "63fec87d",
   "metadata": {},
   "outputs": [
    {
     "name": "stdout",
     "output_type": "stream",
     "text": [
      "('BookingID', 'CustomerName', 'BillAmount')\n",
      "(1, 'Anna Iversen', 86)\n"
     ]
    }
   ],
   "source": [
    "action(query)"
   ]
  },
  {
   "cell_type": "code",
   "execution_count": 21,
   "id": "7640585b",
   "metadata": {},
   "outputs": [],
   "source": [
    "#cursor.execute(\"DROP PROCEDURE TopSpender\")"
   ]
  },
  {
   "cell_type": "code",
   "execution_count": 22,
   "id": "9e935eff",
   "metadata": {},
   "outputs": [],
   "source": [
    "cursor.execute(test1_stored_procedure)"
   ]
  },
  {
   "cell_type": "code",
   "execution_count": 23,
   "id": "59034ea3",
   "metadata": {},
   "outputs": [
    {
     "data": {
      "text/plain": [
       "()"
      ]
     },
     "execution_count": 23,
     "metadata": {},
     "output_type": "execute_result"
    }
   ],
   "source": [
    "cursor.callproc(\"TopSpender\")"
   ]
  },
  {
   "cell_type": "code",
   "execution_count": 24,
   "id": "e4c26446",
   "metadata": {},
   "outputs": [],
   "source": [
    "results = next(cursor.stored_results())"
   ]
  },
  {
   "cell_type": "code",
   "execution_count": 25,
   "id": "e5523444",
   "metadata": {},
   "outputs": [],
   "source": [
    "data = results.fetchall()"
   ]
  },
  {
   "cell_type": "code",
   "execution_count": 26,
   "id": "ebf4a482",
   "metadata": {},
   "outputs": [
    {
     "name": "stdout",
     "output_type": "stream",
     "text": [
      "(1, 'Anna Iversen', 86)\n"
     ]
    }
   ],
   "source": [
    "for item in data:\n",
    "    print(item)"
   ]
  },
  {
   "cell_type": "markdown",
   "id": "e24a96da",
   "metadata": {},
   "source": [
    "# Task 2:\n",
    "\n",
    "Help little lemon to retrieve all those bookings where the guests did not appear today. How will you implement this task using a stored procedure? Use NoArrival as a name for your stored procedure. \n",
    "\n",
    "\n",
    "TIP: Target the Orders and the Bookings tables, join them on BookingID and retrieve the records with a NULL value in the bill amount. Create a stored procedure, call it by its name using Python and print the results.  "
   ]
  },
  {
   "cell_type": "code",
   "execution_count": 27,
   "id": "b9e39dbf",
   "metadata": {},
   "outputs": [
    {
     "name": "stdout",
     "output_type": "stream",
     "text": [
      "('BookingID', 'TableNo', 'GuestFirstName', 'GuestLastName', 'BookingSlot', 'EmployeeID')\n",
      "(1, 12, 'Anna', 'Iversen', datetime.timedelta(seconds=68400), 1)\n",
      "(2, 11, 'Joakim', 'Iversen', datetime.timedelta(seconds=68400), 6)\n",
      "(3, 19, 'Vanessa', 'McCarthy', datetime.timedelta(seconds=54000), 3)\n",
      "(4, 15, 'Marcos', 'Romero', datetime.timedelta(seconds=63000), 4)\n",
      "(5, 5, 'Hiroki', 'Yamane', datetime.timedelta(seconds=66600), 2)\n",
      "(6, 10, 'Diana', 'Pinto', datetime.timedelta(seconds=72000), 5)\n"
     ]
    }
   ],
   "source": [
    "sql2 = \"SELECT * FROM Bookings\"\n",
    "action(sql2)"
   ]
  },
  {
   "cell_type": "code",
   "execution_count": 28,
   "id": "3e2b3091",
   "metadata": {},
   "outputs": [
    {
     "name": "stdout",
     "output_type": "stream",
     "text": [
      "('OrderID', 'TableNo', 'MenuID', 'BookingID', 'BillAmount', 'Quantity')\n",
      "(1, 12, 1, 1, 86, 2)\n",
      "(2, 19, 2, 2, 37, 1)\n",
      "(3, 15, 2, 3, 37, 1)\n",
      "(4, 5, 3, 4, 40, 1)\n",
      "(5, 8, 1, 5, 43, 1)\n"
     ]
    }
   ],
   "source": [
    "sql3 = \"SELECT * FROM orders\"\n",
    "action(sql3)"
   ]
  },
  {
   "cell_type": "markdown",
   "id": "d6fced6c",
   "metadata": {},
   "source": [
    "in the booking table there are num 6 entry Diana Pinto which is absent in the orders\n",
    "table so if we perform a left join we get the result"
   ]
  },
  {
   "cell_type": "code",
   "execution_count": 30,
   "id": "4dbf1695",
   "metadata": {},
   "outputs": [
    {
     "name": "stdout",
     "output_type": "stream",
     "text": [
      "('BookingID', 'BillAmount')\n",
      "(6, None)\n"
     ]
    }
   ],
   "source": [
    "sql = \"\"\"SELECT B.BookingID,O.BillAmount FROM bookings B\n",
    "        LEFT JOIN orders O\n",
    "        ON B.BookingID = O.BookingID\n",
    "        WHERE O.BillAmount IS NULL\n",
    "        \"\"\"\n",
    "action(sql)"
   ]
  },
  {
   "cell_type": "code",
   "execution_count": 51,
   "id": "30a78748",
   "metadata": {},
   "outputs": [
    {
     "name": "stdout",
     "output_type": "stream",
     "text": [
      "CREATE PROCEDURE NotArrival()\n",
      "BEGIN\n",
      "    SELECT B.BookingID,O.BillAmount FROM bookings B\n",
      "    LEFT JOIN orders O\n",
      "    ON B.BookingID = O.BookingID\n",
      "    WHERE O.BillAmount IS NULL;\n",
      "END\n",
      "\n"
     ]
    }
   ],
   "source": [
    "test2_stored_procedure = \"\"\"CREATE PROCEDURE NotArrival()\n",
    "BEGIN\n",
    "    SELECT B.BookingID,O.BillAmount FROM bookings B\n",
    "    LEFT JOIN orders O\n",
    "    ON B.BookingID = O.BookingID\n",
    "    WHERE O.BillAmount IS NULL;\n",
    "END\n",
    "\"\"\"\n",
    "print(test2_stored_procedure)\n",
    "# semicolon is a must after the query"
   ]
  },
  {
   "cell_type": "code",
   "execution_count": 48,
   "id": "af3fce03",
   "metadata": {},
   "outputs": [],
   "source": [
    "cursor.execute(test2_stored_procedure)"
   ]
  },
  {
   "cell_type": "code",
   "execution_count": 57,
   "id": "7d884b21",
   "metadata": {},
   "outputs": [
    {
     "name": "stdout",
     "output_type": "stream",
     "text": [
      "('BookingID', 'BillAmount')\n",
      "(6, None)\n"
     ]
    }
   ],
   "source": [
    "cursor.callproc('NotArrival')\n",
    "data = next(cursor.stored_results())\n",
    "results = data.fetchall()\n",
    "col = data.column_names\n",
    "print(col)\n",
    "for item in results:\n",
    "    print(item)"
   ]
  },
  {
   "cell_type": "markdown",
   "id": "c46971ce",
   "metadata": {},
   "source": [
    "# Task 3:\n",
    "It is very important for little lemon to keep track of the status of each guest’s order and display it on the screen to keep their guests informed. \n",
    "\n",
    "This is how they categorize the orders:\n",
    "\n",
    "If not assigned to any employee, the status is In Queue\n",
    "\n",
    "If assigned to the employees with IDs 4 and 5, the status is Preparing Order\n",
    "\n",
    "If assigned to the employees with IDs 1, 2, and 3, the status is Order Served"
   ]
  },
  {
   "cell_type": "code",
   "execution_count": 59,
   "id": "e74eef19",
   "metadata": {},
   "outputs": [
    {
     "name": "stdout",
     "output_type": "stream",
     "text": [
      "('BookingID', 'TableNo', 'GuestFirstName', 'GuestLastName', 'BookingSlot', 'EmployeeID')\n",
      "(1, 12, 'Anna', 'Iversen', datetime.timedelta(seconds=68400), 1)\n",
      "(2, 11, 'Joakim', 'Iversen', datetime.timedelta(seconds=68400), 6)\n",
      "(3, 19, 'Vanessa', 'McCarthy', datetime.timedelta(seconds=54000), 3)\n",
      "(4, 15, 'Marcos', 'Romero', datetime.timedelta(seconds=63000), 4)\n",
      "(5, 5, 'Hiroki', 'Yamane', datetime.timedelta(seconds=66600), 2)\n",
      "(6, 10, 'Diana', 'Pinto', datetime.timedelta(seconds=72000), 5)\n"
     ]
    }
   ],
   "source": [
    "sql1 = \"SELECT * FROM bookings\";\n",
    "action(sql1)"
   ]
  },
  {
   "cell_type": "code",
   "execution_count": 60,
   "id": "f934594a",
   "metadata": {},
   "outputs": [
    {
     "name": "stdout",
     "output_type": "stream",
     "text": [
      "('BookingID', 'Status')\n",
      "(1, 'Order Served')\n",
      "(2, 'In Queue')\n",
      "(3, 'Order Served')\n",
      "(4, 'Preparing Order')\n",
      "(5, 'Order Served')\n",
      "(6, 'Preparing Order')\n"
     ]
    }
   ],
   "source": [
    "sql2 = \"\"\"SELECT BookingID,\n",
    "    CASE\n",
    "        WHEN EmployeeID IN (1,2,3) THEN \"Order Served\"\n",
    "        WHEN EmployeeID IN (4,5) THEN \"Preparing Order\"\n",
    "        ELSE \"In Queue\"\n",
    "        END AS \"Status\"\n",
    "        FROM bookings;\n",
    "\"\"\"\n",
    "\n",
    "action(sql2)"
   ]
  },
  {
   "cell_type": "code",
   "execution_count": 61,
   "id": "668ca9e7",
   "metadata": {},
   "outputs": [
    {
     "name": "stdout",
     "output_type": "stream",
     "text": [
      "CREATE PROCEDURE OrderStatus()\n",
      "BEGIN\n",
      "    SELECT BookingID,\n",
      "    CASE\n",
      "        WHEN EmployeeID IN (1,2,3) THEN \"Order Served\"\n",
      "        WHEN EmployeeID IN (4,5) THEN \"Preparing Order\"\n",
      "        ELSE \"In Queue\"\n",
      "        END AS \"Status\"\n",
      "        FROM bookings;\n",
      "END\n",
      "\n"
     ]
    }
   ],
   "source": [
    "test3_stored_procedure = \"\"\"CREATE PROCEDURE OrderStatus()\n",
    "BEGIN\n",
    "    SELECT BookingID,\n",
    "    CASE\n",
    "        WHEN EmployeeID IN (1,2,3) THEN \"Order Served\"\n",
    "        WHEN EmployeeID IN (4,5) THEN \"Preparing Order\"\n",
    "        ELSE \"In Queue\"\n",
    "        END AS \"Status\"\n",
    "        FROM bookings;\n",
    "END\n",
    "\"\"\"\n",
    "print(test3_stored_procedure)"
   ]
  },
  {
   "cell_type": "code",
   "execution_count": 62,
   "id": "d599c6f8",
   "metadata": {},
   "outputs": [],
   "source": [
    "cursor.execute(test3_stored_procedure)"
   ]
  },
  {
   "cell_type": "code",
   "execution_count": 63,
   "id": "9231632a",
   "metadata": {},
   "outputs": [
    {
     "data": {
      "text/plain": [
       "()"
      ]
     },
     "execution_count": 63,
     "metadata": {},
     "output_type": "execute_result"
    }
   ],
   "source": [
    "cursor.callproc('OrderStatus')"
   ]
  },
  {
   "cell_type": "code",
   "execution_count": 64,
   "id": "b299c220",
   "metadata": {},
   "outputs": [],
   "source": [
    "data = next(cursor.stored_results())"
   ]
  },
  {
   "cell_type": "code",
   "execution_count": 65,
   "id": "fdbcdad9",
   "metadata": {},
   "outputs": [
    {
     "name": "stdout",
     "output_type": "stream",
     "text": [
      "('BookingID', 'Status')\n",
      "(1, 'Order Served')\n",
      "(2, 'In Queue')\n",
      "(3, 'Order Served')\n",
      "(4, 'Preparing Order')\n",
      "(5, 'Order Served')\n",
      "(6, 'Preparing Order')\n"
     ]
    }
   ],
   "source": [
    "results = data.fetchall()\n",
    "col = data.column_names\n",
    "print(col)\n",
    "for item in results:\n",
    "    print(item)"
   ]
  },
  {
   "cell_type": "code",
   "execution_count": null,
   "id": "c2895108",
   "metadata": {},
   "outputs": [],
   "source": []
  }
 ],
 "metadata": {
  "kernelspec": {
   "display_name": "Python 3 (ipykernel)",
   "language": "python",
   "name": "python3"
  },
  "language_info": {
   "codemirror_mode": {
    "name": "ipython",
    "version": 3
   },
   "file_extension": ".py",
   "mimetype": "text/x-python",
   "name": "python",
   "nbconvert_exporter": "python",
   "pygments_lexer": "ipython3",
   "version": "3.11.0"
  }
 },
 "nbformat": 4,
 "nbformat_minor": 5
}
