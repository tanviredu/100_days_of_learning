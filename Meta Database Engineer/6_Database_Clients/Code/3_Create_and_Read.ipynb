{
 "cells": [
  {
   "cell_type": "code",
   "execution_count": 22,
   "id": "d5abe12e",
   "metadata": {},
   "outputs": [],
   "source": [
    "import mysql.connector as connector"
   ]
  },
  {
   "cell_type": "code",
   "execution_count": 23,
   "id": "c82af371",
   "metadata": {},
   "outputs": [],
   "source": [
    "connection = connector.connect(user=\"root\",password=\"\")"
   ]
  },
  {
   "cell_type": "code",
   "execution_count": 24,
   "id": "004dc412",
   "metadata": {},
   "outputs": [],
   "source": [
    "cursor = connection.cursor()"
   ]
  },
  {
   "cell_type": "code",
   "execution_count": 25,
   "id": "7ff8f399",
   "metadata": {},
   "outputs": [],
   "source": [
    "cursor.execute(\"USE little_lemon;\")"
   ]
  },
  {
   "cell_type": "code",
   "execution_count": 26,
   "id": "655a30ed",
   "metadata": {},
   "outputs": [],
   "source": [
    "cursor.execute(\"SHOW TABLES\");"
   ]
  },
  {
   "cell_type": "code",
   "execution_count": 27,
   "id": "cc700183",
   "metadata": {},
   "outputs": [],
   "source": [
    "tables = cursor.fetchall()"
   ]
  },
  {
   "cell_type": "code",
   "execution_count": 28,
   "id": "1af499d0",
   "metadata": {},
   "outputs": [
    {
     "name": "stdout",
     "output_type": "stream",
     "text": [
      "[('bookings',), ('menuitems',), ('menus',), ('orders',)]\n"
     ]
    }
   ],
   "source": [
    "print(tables)"
   ]
  },
  {
   "cell_type": "code",
   "execution_count": 29,
   "id": "06fde8be",
   "metadata": {},
   "outputs": [],
   "source": [
    "insert_bookings=\"\"\"\n",
    "INSERT INTO Bookings (BookingID, TableNo, GuestFirstName, \n",
    "GuestLastName, BookingSlot, EmployeeID)\n",
    "VALUES\n",
    "(1,12,'Anna','Iversen','19:00:00',1),\n",
    "(2, 12, 'Joakim', 'Iversen', '19:00:00', 1),\n",
    "(3, 19, 'Vanessa', 'McCarthy', '15:00:00', 3),\n",
    "(4, 15, 'Marcos', 'Romero', '17:30:00', 4),\n",
    "(5, 5, 'Hiroki', 'Yamane', '18:30:00', 2),\n",
    "(6, 8, 'Diana', 'Pinto', '20:00:00', 5);\"\"\""
   ]
  },
  {
   "cell_type": "code",
   "execution_count": 30,
   "id": "27ce73c8",
   "metadata": {},
   "outputs": [
    {
     "name": "stdout",
     "output_type": "stream",
     "text": [
      "\n",
      "INSERT INTO Bookings (BookingID, TableNo, GuestFirstName, \n",
      "GuestLastName, BookingSlot, EmployeeID)\n",
      "VALUES\n",
      "(1,12,'Anna','Iversen','19:00:00',1),\n",
      "(2, 12, 'Joakim', 'Iversen', '19:00:00', 1),\n",
      "(3, 19, 'Vanessa', 'McCarthy', '15:00:00', 3),\n",
      "(4, 15, 'Marcos', 'Romero', '17:30:00', 4),\n",
      "(5, 5, 'Hiroki', 'Yamane', '18:30:00', 2),\n",
      "(6, 8, 'Diana', 'Pinto', '20:00:00', 5);\n"
     ]
    }
   ],
   "source": [
    "print(insert_bookings)"
   ]
  },
  {
   "cell_type": "code",
   "execution_count": 31,
   "id": "4cdae00a",
   "metadata": {},
   "outputs": [],
   "source": [
    "cursor.execute(insert_bookings)\n",
    "connection.commit()"
   ]
  },
  {
   "cell_type": "code",
   "execution_count": 32,
   "id": "63c5d5f7",
   "metadata": {},
   "outputs": [],
   "source": [
    "cursor.execute(\"SELECT * FROM bookings\");"
   ]
  },
  {
   "cell_type": "code",
   "execution_count": 33,
   "id": "c6cd0479",
   "metadata": {},
   "outputs": [],
   "source": [
    "data = cursor.fetchall()"
   ]
  },
  {
   "cell_type": "code",
   "execution_count": 34,
   "id": "24c724a4",
   "metadata": {},
   "outputs": [
    {
     "name": "stdout",
     "output_type": "stream",
     "text": [
      "19:00:00\n",
      "19:00:00\n",
      "15:00:00\n",
      "17:30:00\n",
      "18:30:00\n",
      "20:00:00\n"
     ]
    }
   ],
   "source": [
    "for booking in data:\n",
    "    print(booking[4])"
   ]
  },
  {
   "cell_type": "code",
   "execution_count": 35,
   "id": "744d1c7d",
   "metadata": {},
   "outputs": [],
   "source": [
    "insert_menuitmes=\"\"\"\n",
    "INSERT INTO MenuItems (ItemID, Name, Type, Price)\n",
    "VALUES\n",
    "(1,'Olives','Starters',5),\n",
    "(2,'Flatbread','Starters', 5),\n",
    "(3, 'Minestrone', 'Starters', 8),\n",
    "(4, 'Tomato bread','Starters', 8),\n",
    "(5, 'Falafel', 'Starters', 7),\n",
    "(6, 'Hummus', 'Starters', 5),\n",
    "(7, 'Greek salad', 'Main Courses', 15),\n",
    "(8, 'Bean soup', 'Main Courses', 12),\n",
    "(9, 'Pizza', 'Main Courses', 15),\n",
    "(10,'Greek yoghurt','Desserts', 7),\n",
    "(11, 'Ice cream', 'Desserts', 6),\n",
    "(12, 'Cheesecake', 'Desserts', 4),\n",
    "(13, 'Athens White wine', 'Drinks', 25),\n",
    "(14, 'Corfu Red Wine', 'Drinks', 30),\n",
    "(15, 'Turkish Coffee', 'Drinks', 10),\n",
    "(16, 'Turkish Coffee', 'Drinks', 10),\n",
    "(17, 'Kabasa', 'Main Courses', 17);\"\"\""
   ]
  },
  {
   "cell_type": "code",
   "execution_count": 36,
   "id": "678fdf28",
   "metadata": {},
   "outputs": [],
   "source": [
    "cursor.execute(insert_menuitmes)\n",
    "connection.commit()"
   ]
  },
  {
   "cell_type": "code",
   "execution_count": 37,
   "id": "c229e65e",
   "metadata": {},
   "outputs": [],
   "source": [
    "insert_orders=\"\"\"\n",
    "INSERT INTO Orders (OrderID, TableNo, MenuID, BookingID, Quantity, BillAmount)\n",
    "VALUES\n",
    "(1, 12, 1, 1, 2, 86),\n",
    "(2, 19, 2, 2, 1, 37),\n",
    "(3, 15, 2, 3, 1, 37),\n",
    "(4, 5, 3, 4, 1, 40),\n",
    "(5, 8, 1, 5, 1, 43);\"\"\""
   ]
  },
  {
   "cell_type": "code",
   "execution_count": 38,
   "id": "8929148f",
   "metadata": {},
   "outputs": [],
   "source": [
    "cursor.execute(insert_orders)\n",
    "connection.commit()"
   ]
  },
  {
   "cell_type": "code",
   "execution_count": 39,
   "id": "fc726287",
   "metadata": {},
   "outputs": [],
   "source": [
    "all_bookings = \"\"\"SELECT GuestFirstName, \n",
    "GuestLastName,TableNo FROM bookings;\"\"\""
   ]
  },
  {
   "cell_type": "code",
   "execution_count": 40,
   "id": "6b7e4729",
   "metadata": {},
   "outputs": [],
   "source": [
    "cursor.execute(all_bookings)"
   ]
  },
  {
   "cell_type": "code",
   "execution_count": 41,
   "id": "86829e97",
   "metadata": {},
   "outputs": [],
   "source": [
    "data = cursor.fetchall()"
   ]
  },
  {
   "cell_type": "code",
   "execution_count": 44,
   "id": "d8f22837",
   "metadata": {},
   "outputs": [],
   "source": [
    "column_names = cursor.column_names"
   ]
  },
  {
   "cell_type": "code",
   "execution_count": 46,
   "id": "da8f9c67",
   "metadata": {},
   "outputs": [
    {
     "name": "stdout",
     "output_type": "stream",
     "text": [
      "('GuestFirstName', 'GuestLastName', 'TableNo')\n",
      "('Anna', 'Iversen', 12)\n",
      "('Joakim', 'Iversen', 12)\n",
      "('Vanessa', 'McCarthy', 19)\n",
      "('Marcos', 'Romero', 15)\n",
      "('Hiroki', 'Yamane', 5)\n",
      "('Diana', 'Pinto', 8)\n"
     ]
    }
   ],
   "source": [
    "print(column_names)\n",
    "for item in data:\n",
    "    print(item)"
   ]
  },
  {
   "cell_type": "code",
   "execution_count": 47,
   "id": "af86cc53",
   "metadata": {},
   "outputs": [],
   "source": [
    "insert_menu=\"\"\"\n",
    "INSERT INTO Menus (MenuID, ItemID, Cuisine)\n",
    "VALUES\n",
    "(1, 1, 'Greek'),\n",
    "(1, 7, 'Greek'),\n",
    "(1, 10, 'Greek'),\n",
    "(1, 13, 'Greek'),\n",
    "(2, 3, 'Italian'),\n",
    "(2, 9, 'Italian'),\n",
    "(2, 12, 'Italian'),\n",
    "(2, 15, 'Italian'),\n",
    "(3, 5, 'Turkish'),\n",
    "(3, 17, 'Turkish'),\n",
    "(3, 11, 'Turkish'),\n",
    "(3, 16, 'Turkish');\"\"\""
   ]
  },
  {
   "cell_type": "code",
   "execution_count": 48,
   "id": "1509f703",
   "metadata": {},
   "outputs": [],
   "source": [
    "cursor.execute(insert_menu)\n",
    "connection.commit()"
   ]
  },
  {
   "cell_type": "code",
   "execution_count": 49,
   "id": "8531bf62",
   "metadata": {},
   "outputs": [],
   "source": [
    "select_stmt = \"\"\"SELECT * FROM menus\"\"\""
   ]
  },
  {
   "cell_type": "code",
   "execution_count": 50,
   "id": "750b7a31",
   "metadata": {},
   "outputs": [],
   "source": [
    "cursor.execute(select_stmt)"
   ]
  },
  {
   "cell_type": "code",
   "execution_count": 51,
   "id": "8c4bd19d",
   "metadata": {},
   "outputs": [],
   "source": [
    "data = cursor.fetchmany(size=3)"
   ]
  },
  {
   "cell_type": "code",
   "execution_count": 52,
   "id": "9ffe0215",
   "metadata": {},
   "outputs": [
    {
     "data": {
      "text/plain": [
       "[(1, 1, 'Greek'), (1, 7, 'Greek'), (1, 10, 'Greek')]"
      ]
     },
     "execution_count": 52,
     "metadata": {},
     "output_type": "execute_result"
    }
   ],
   "source": [
    "data"
   ]
  },
  {
   "cell_type": "code",
   "execution_count": 55,
   "id": "3865849e",
   "metadata": {},
   "outputs": [
    {
     "data": {
      "text/plain": [
       "[]"
      ]
     },
     "execution_count": 55,
     "metadata": {},
     "output_type": "execute_result"
    }
   ],
   "source": [
    "cursor.fetchall() # you have to use this otherwise the cursor will give you unred error"
   ]
  },
  {
   "cell_type": "code",
   "execution_count": 56,
   "id": "9ef53bd0",
   "metadata": {},
   "outputs": [
    {
     "data": {
      "text/plain": [
       "True"
      ]
     },
     "execution_count": 56,
     "metadata": {},
     "output_type": "execute_result"
    }
   ],
   "source": [
    "cursor.close()"
   ]
  },
  {
   "cell_type": "code",
   "execution_count": null,
   "id": "8a4dd310",
   "metadata": {},
   "outputs": [],
   "source": []
  }
 ],
 "metadata": {
  "kernelspec": {
   "display_name": "Python 3 (ipykernel)",
   "language": "python",
   "name": "python3"
  },
  "language_info": {
   "codemirror_mode": {
    "name": "ipython",
    "version": 3
   },
   "file_extension": ".py",
   "mimetype": "text/x-python",
   "name": "python",
   "nbconvert_exporter": "python",
   "pygments_lexer": "ipython3",
   "version": "3.11.0"
  }
 },
 "nbformat": 4,
 "nbformat_minor": 5
}
