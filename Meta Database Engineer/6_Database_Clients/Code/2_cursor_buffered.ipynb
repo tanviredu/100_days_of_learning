{
 "cells": [
  {
   "cell_type": "code",
   "execution_count": 1,
   "id": "150a3f40",
   "metadata": {},
   "outputs": [],
   "source": [
    "## make sure you consume all the data before another execute statement\n",
    "## if you use buffered cursor then all the data will be fetched and stored in the memory\n",
    "## thats why it wont show error in multiple cursor.execute() method\n"
   ]
  },
  {
   "cell_type": "code",
   "execution_count": 2,
   "id": "b90e9cbe",
   "metadata": {},
   "outputs": [],
   "source": [
    "import mysql.connector as connector"
   ]
  },
  {
   "cell_type": "code",
   "execution_count": 3,
   "id": "9d32fa32",
   "metadata": {},
   "outputs": [],
   "source": [
    "connection = connector.connect(user=\"root\",password=\"\",host=\"127.0.0.1\")"
   ]
  },
  {
   "cell_type": "code",
   "execution_count": 4,
   "id": "1a889159",
   "metadata": {},
   "outputs": [],
   "source": [
    "cursor = connection.cursor(buffered=True)"
   ]
  },
  {
   "cell_type": "code",
   "execution_count": 5,
   "id": "5b90af56",
   "metadata": {},
   "outputs": [],
   "source": [
    "cursor.execute(\"USE little_lemon;\")\n",
    "cursor.execute(\"SELECT * FROM bookings\")\n",
    "cursor.execute(\"SELECT * FROM orders\");"
   ]
  },
  {
   "cell_type": "code",
   "execution_count": 14,
   "id": "724e8c46",
   "metadata": {},
   "outputs": [],
   "source": [
    "cursor.execute(\"\"\"SHOW DATABASES\"\"\");\n",
    "cursor.execute(\"SHOW TABLES\");"
   ]
  },
  {
   "cell_type": "code",
   "execution_count": 15,
   "id": "650311d5",
   "metadata": {},
   "outputs": [],
   "source": [
    "data = cursor.fetchall()"
   ]
  },
  {
   "cell_type": "code",
   "execution_count": 16,
   "id": "655cb3be",
   "metadata": {},
   "outputs": [
    {
     "data": {
      "text/plain": [
       "[('bookings',), ('menuitems',), ('menus',), ('orders',)]"
      ]
     },
     "execution_count": 16,
     "metadata": {},
     "output_type": "execute_result"
    }
   ],
   "source": [
    "data"
   ]
  },
  {
   "cell_type": "code",
   "execution_count": null,
   "id": "b69442f2",
   "metadata": {},
   "outputs": [],
   "source": []
  }
 ],
 "metadata": {
  "kernelspec": {
   "display_name": "Python 3 (ipykernel)",
   "language": "python",
   "name": "python3"
  },
  "language_info": {
   "codemirror_mode": {
    "name": "ipython",
    "version": 3
   },
   "file_extension": ".py",
   "mimetype": "text/x-python",
   "name": "python",
   "nbconvert_exporter": "python",
   "pygments_lexer": "ipython3",
   "version": "3.11.0"
  }
 },
 "nbformat": 4,
 "nbformat_minor": 5
}
