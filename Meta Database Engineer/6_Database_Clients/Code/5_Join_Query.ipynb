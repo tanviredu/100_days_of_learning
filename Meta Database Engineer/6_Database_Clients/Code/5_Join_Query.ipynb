{
 "cells": [
  {
   "cell_type": "code",
   "execution_count": 1,
   "id": "f0ee72b0",
   "metadata": {},
   "outputs": [],
   "source": [
    "import mysql.connector as connector\n",
    "connection = connector.connect(user=\"root\",password=\"\")\n",
    "cursor = connection.cursor()"
   ]
  },
  {
   "cell_type": "code",
   "execution_count": 2,
   "id": "8da1ef21",
   "metadata": {},
   "outputs": [],
   "source": [
    "cursor.execute(\"USE little_lemon\")"
   ]
  },
  {
   "cell_type": "markdown",
   "id": "4016e0ce",
   "metadata": {},
   "source": [
    "Little Lemon needs the following information for each of the items on their menu:\n",
    "\n",
    "The name of each item in the menu,\n",
    "\n",
    "Each menu item’s type,\n",
    "\n",
    "Each menu item’s cuisine,\n",
    "\n",
    "and the price of each item in the menu.\n",
    "\n",
    "\n",
    "Help Little Lemon to extract this data from their database using Python.\n",
    "\n"
   ]
  },
  {
   "cell_type": "markdown",
   "id": "fb75aa5f",
   "metadata": {},
   "source": [
    "# INNER JOIN"
   ]
  },
  {
   "cell_type": "code",
   "execution_count": 13,
   "id": "cda82cfd",
   "metadata": {},
   "outputs": [
    {
     "name": "stdout",
     "output_type": "stream",
     "text": [
      "SELECT MItem.Name AS Item_Name,MItem.Type AS Item_Type,MItem.Price AS Price,M.Cuisine FROM menuitems MItem \n",
      "                 JOIN menus M \n",
      "                 ON Mitem.ItemID = M.ItemID;\n",
      "                 \n"
     ]
    }
   ],
   "source": [
    "join_query1 = \"\"\"SELECT MItem.Name AS Item_Name,MItem.Type AS Item_Type,MItem.Price AS Price,M.Cuisine FROM menuitems MItem \n",
    "                 JOIN menus M \n",
    "                 ON Mitem.ItemID = M.ItemID;\n",
    "                 \"\"\"\n",
    "print(join_query1)"
   ]
  },
  {
   "cell_type": "code",
   "execution_count": 14,
   "id": "049f7d9c",
   "metadata": {},
   "outputs": [],
   "source": [
    "cursor.execute(join_query1)"
   ]
  },
  {
   "cell_type": "code",
   "execution_count": 15,
   "id": "c696a608",
   "metadata": {},
   "outputs": [
    {
     "name": "stdout",
     "output_type": "stream",
     "text": [
      "('Item_Name', 'Item_Type', 'Price', 'Cuisine')\n"
     ]
    }
   ],
   "source": [
    "col = cursor.column_names\n",
    "print(col)"
   ]
  },
  {
   "cell_type": "code",
   "execution_count": 16,
   "id": "9da16453",
   "metadata": {},
   "outputs": [],
   "source": [
    "data = cursor.fetchall()"
   ]
  },
  {
   "cell_type": "code",
   "execution_count": 17,
   "id": "82317774",
   "metadata": {},
   "outputs": [
    {
     "name": "stdout",
     "output_type": "stream",
     "text": [
      "('Item_Name', 'Item_Type', 'Price', 'Cuisine')\n",
      "('Minestrone', 'Starters', 8, 'Italian')\n",
      "('Pizza', 'Main Courses', 15, 'Italian')\n",
      "('Cheesecake', 'Desserts', 4, 'Italian')\n",
      "('Turkish Coffee', 'Drinks', 10, 'Italian')\n",
      "('Falafel', 'Starters', 7, 'Turkish')\n",
      "('Ice cream', 'Desserts', 6, 'Turkish')\n",
      "('Turkish Coffee', 'Drinks', 10, 'Turkish')\n",
      "('Kabasa', 'Main Courses', 17, 'Turkish')\n"
     ]
    }
   ],
   "source": [
    "print(col)\n",
    "for item in data:\n",
    "    print(item)"
   ]
  },
  {
   "cell_type": "markdown",
   "id": "14f977a7",
   "metadata": {},
   "source": [
    "# LEFT JOIN"
   ]
  },
  {
   "cell_type": "code",
   "execution_count": 18,
   "id": "c6c9f3fa",
   "metadata": {},
   "outputs": [
    {
     "name": "stdout",
     "output_type": "stream",
     "text": [
      "SELECT MItem.Name AS Item_Name,MItem.Type AS Item_Type,MItem.Price AS Price,M.Cuisine FROM menuitems MItem \n",
      "                 JOIN menus M \n",
      "                 ON Mitem.ItemID = M.ItemID;\n",
      "                 \n"
     ]
    }
   ],
   "source": [
    "join_query2 = \"\"\"SELECT MItem.Name AS Item_Name,MItem.Type AS Item_Type,MItem.Price AS Price,M.Cuisine FROM menuitems MItem \n",
    "                 LEFT JOIN menus M \n",
    "                 ON Mitem.ItemID = M.ItemID;\n",
    "                 \"\"\"\n",
    "print(join_query1)"
   ]
  },
  {
   "cell_type": "code",
   "execution_count": 19,
   "id": "86408793",
   "metadata": {},
   "outputs": [],
   "source": [
    "cursor.execute(join_query2)"
   ]
  },
  {
   "cell_type": "code",
   "execution_count": 20,
   "id": "a03131e3",
   "metadata": {},
   "outputs": [],
   "source": [
    "data = cursor.fetchall()"
   ]
  },
  {
   "cell_type": "code",
   "execution_count": 21,
   "id": "01bbf876",
   "metadata": {},
   "outputs": [
    {
     "name": "stdout",
     "output_type": "stream",
     "text": [
      "('Item_Name', 'Item_Type', 'Price', 'Cuisine')\n",
      "('Minestrone', 'Starters', 8, 'Italian')\n",
      "('Pizza', 'Main Courses', 15, 'Italian')\n",
      "('Cheesecake', 'Desserts', 4, 'Italian')\n",
      "('Turkish Coffee', 'Drinks', 10, 'Italian')\n",
      "('Falafel', 'Starters', 7, 'Turkish')\n",
      "('Ice cream', 'Desserts', 6, 'Turkish')\n",
      "('Turkish Coffee', 'Drinks', 10, 'Turkish')\n",
      "('Kabasa', 'Main Courses', 17, 'Turkish')\n",
      "('Olives', 'Starters', 5, None)\n",
      "('Flatbread', 'Starters', 5, None)\n",
      "('Tomato bread', 'Starters', 8, None)\n",
      "('Hummus', 'Starters', 5, None)\n",
      "('Greek salad', 'Main Courses', 15, None)\n",
      "('Bean soup', 'Main Courses', 12, None)\n",
      "('Greek yoghurt', 'Desserts', 7, None)\n",
      "('Athens White wine', 'Drinks', 25, None)\n",
      "('Corfu Red Wine', 'Drinks', 30, None)\n"
     ]
    }
   ],
   "source": [
    "print(col)\n",
    "for item in data:\n",
    "    print(item)"
   ]
  },
  {
   "cell_type": "markdown",
   "id": "0a51aa57",
   "metadata": {},
   "source": [
    "in the left join all the left data will be present even the data of the right table is missing"
   ]
  },
  {
   "cell_type": "markdown",
   "id": "85c0f124",
   "metadata": {},
   "source": [
    "Little Lemon restaurant need you to help them retrieve the following information from the Bookings and the Orders tables in their MySQL database using Python:\n",
    "\n",
    "Booking ID,\n",
    "\n",
    "Table number,\n",
    "\n",
    "Guest first name,\n",
    "\n",
    "And Bill amount."
   ]
  },
  {
   "cell_type": "code",
   "execution_count": 31,
   "id": "be17a839",
   "metadata": {},
   "outputs": [
    {
     "name": "stdout",
     "output_type": "stream",
     "text": [
      "SELECT B.BookingID,B.TableNo,B.GuestFirstName,O.BillAmount\n",
      "                 FROM bookings B LEFT JOIN orders O on B.BookingID = O.BookingID;\n"
     ]
    }
   ],
   "source": [
    "join_query3 = \"\"\"SELECT B.BookingID,B.TableNo,B.GuestFirstName,O.BillAmount\n",
    "                 FROM bookings B LEFT JOIN orders O on B.BookingID = O.BookingID;\"\"\"\n",
    "print(join_query3)"
   ]
  },
  {
   "cell_type": "code",
   "execution_count": 32,
   "id": "bf43a0da",
   "metadata": {},
   "outputs": [],
   "source": [
    "cursor.execute(join_query3)"
   ]
  },
  {
   "cell_type": "code",
   "execution_count": 33,
   "id": "381234a1",
   "metadata": {},
   "outputs": [],
   "source": [
    "col = cursor.column_names\n",
    "data = cursor.fetchall()"
   ]
  },
  {
   "cell_type": "code",
   "execution_count": 34,
   "id": "5993bb40",
   "metadata": {},
   "outputs": [
    {
     "name": "stdout",
     "output_type": "stream",
     "text": [
      "('BookingID', 'TableNo', 'GuestFirstName', 'BillAmount')\n",
      "(1, 12, 'Anna', 86)\n",
      "(2, 11, 'Joakim', 37)\n",
      "(3, 19, 'Vanessa', 37)\n",
      "(4, 15, 'Marcos', 40)\n",
      "(5, 5, 'Hiroki', 43)\n",
      "(6, 10, 'Diana', None)\n"
     ]
    }
   ],
   "source": [
    "print(col)\n",
    "for item in data:\n",
    "    print(item)"
   ]
  },
  {
   "cell_type": "markdown",
   "id": "0366c80f",
   "metadata": {},
   "source": [
    "1) The INNER JOIN operation is performed by SQL on the selected tables in the MySQL database.\n",
    "2) Python, along with the connector API, serves as a facilitator for SQL queries. It does not do anything more than what is requested in the SQL query.\n",
    "3)  Python does not play any role other than communicating to MySQL database via connector API. The data is retrieved according to the instructions in the SQL query"
   ]
  },
  {
   "cell_type": "code",
   "execution_count": null,
   "id": "1bc96cb4",
   "metadata": {},
   "outputs": [],
   "source": []
  }
 ],
 "metadata": {
  "kernelspec": {
   "display_name": "Python 3 (ipykernel)",
   "language": "python",
   "name": "python3"
  },
  "language_info": {
   "codemirror_mode": {
    "name": "ipython",
    "version": 3
   },
   "file_extension": ".py",
   "mimetype": "text/x-python",
   "name": "python",
   "nbconvert_exporter": "python",
   "pygments_lexer": "ipython3",
   "version": "3.11.0"
  }
 },
 "nbformat": 4,
 "nbformat_minor": 5
}
