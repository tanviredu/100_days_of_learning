{
 "cells": [
  {
   "cell_type": "code",
   "execution_count": 1,
   "id": "4c3990b9",
   "metadata": {},
   "outputs": [],
   "source": [
    "import mysql.connector as connector\n",
    "from mysql.connector.pooling import MySQLConnectionPool\n",
    "from mysql.connector import Error\n",
    "from mysql.connector import errors"
   ]
  },
  {
   "cell_type": "markdown",
   "id": "87d17e7f",
   "metadata": {},
   "source": [
    "# Task1"
   ]
  },
  {
   "cell_type": "code",
   "execution_count": 2,
   "id": "2c0a72d2",
   "metadata": {},
   "outputs": [],
   "source": [
    "dbconfig = {\n",
    "    'database':'little_lemon_db',\n",
    "    'user':'root',\n",
    "    'password':''\n",
    "    \n",
    "}\n",
    "try:\n",
    "    pool = MySQLConnectionPool(pool_name=\"pool_b\",\n",
    "                          pool_size=2,\n",
    "                          host=\"127.0.0.1\",**dbconfig\n",
    "                          )\n",
    "        \n",
    "except Error as err:\n",
    "    print(\"Error code: {}\".format(err.errno))\n",
    "    print(\"Error message: {}\".format(err.msg))"
   ]
  },
  {
   "cell_type": "markdown",
   "id": "4a858bcf",
   "metadata": {},
   "source": [
    "# Task 2"
   ]
  },
  {
   "cell_type": "code",
   "execution_count": 3,
   "id": "98c75a70",
   "metadata": {},
   "outputs": [
    {
     "name": "stdout",
     "output_type": "stream",
     "text": [
      "Error: Failed getting connection; pool exhausted\n",
      "Adding new connection to the pool\n"
     ]
    }
   ],
   "source": [
    "data = [[8,'Anees','Java','18:00:00',6],[5,'Bald','Vin','19:00:00',6],[12,'Jay','Kon','19:30:00',6]]\n",
    "for item in data:\n",
    "    try:\n",
    "        query = \"\"\"INSERT INTO bookings(TableNo,GuestFirstName,GuestLastName,BookingSlot,EmployeeID) VALUES ({},'{}','{}','{}',{});\"\"\".format(item[0],item[1],item[2],item[3],item[4])\n",
    "        connection_object = pool.get_connection()\n",
    "        # use the connection\n",
    "        if connection_object.is_connected:\n",
    "            cursor = connection_object.cursor()\n",
    "            cursor.execute(query)\n",
    "            connection_object.commit()\n",
    "    except errors.PoolError as err:\n",
    "        print(\"Error: {}\".format(err))\n",
    "        print(\"Adding new connection to the pool\")\n",
    "        cnx = connector.connect(user=\"root\",password=\"\")\n",
    "        pool.add_connection(cnx=cnx)\n",
    "        conn = pool.get_connection()\n",
    "        cur = conn.cursor()\n",
    "        cur.execute(query)\n",
    "        conn.commit()\n",
    "connection_object.close()\n",
    "conn.close()\n",
    "        \n",
    "\n",
    "    "
   ]
  },
  {
   "cell_type": "markdown",
   "id": "4ed6dd2f",
   "metadata": {},
   "source": [
    "# Task 3.1"
   ]
  },
  {
   "cell_type": "code",
   "execution_count": 4,
   "id": "3df998c6",
   "metadata": {},
   "outputs": [
    {
     "name": "stdout",
     "output_type": "stream",
     "text": [
      "('EmployeeID', 'Name')\n",
      "(1, 'Mario Gollini')\n"
     ]
    }
   ],
   "source": [
    "connection = pool.get_connection()\n",
    "#connection = connector.connect(user=\"root\",password=\"\")\n",
    "cursor = connection.cursor()\n",
    "cursor.execute(\"USE little_lemon_db;\")\n",
    "query1 = \"\"\"SELECT EmployeeID,Name FROM Employees WHERE Role='Manager';\"\"\"\n",
    "cursor.execute(query1)\n",
    "results = cursor.fetchall()\n",
    "columns = cursor.column_names\n",
    "print(columns)\n",
    "for item in results:\n",
    "    print(item)"
   ]
  },
  {
   "cell_type": "markdown",
   "id": "69041c9a",
   "metadata": {},
   "source": [
    "# Task 3.2"
   ]
  },
  {
   "cell_type": "code",
   "execution_count": 5,
   "id": "4ac6fe36",
   "metadata": {},
   "outputs": [
    {
     "name": "stdout",
     "output_type": "stream",
     "text": [
      "('Name', 'Role')\n",
      "('Mario Gollini', 'Manager')\n"
     ]
    }
   ],
   "source": [
    "query2 = \"SELECT Name,Role FROM Employees ORDER BY Annual_Salary DESC LIMIT 1;\"\n",
    "cursor.execute(query2)\n",
    "columns = cursor.column_names\n",
    "results = cursor.fetchall()\n",
    "print(columns)\n",
    "for item in results:\n",
    "    print(item)"
   ]
  },
  {
   "cell_type": "markdown",
   "id": "105acbc3",
   "metadata": {},
   "source": [
    "# Task 3.3"
   ]
  },
  {
   "cell_type": "code",
   "execution_count": 6,
   "id": "7f0ccc12",
   "metadata": {},
   "outputs": [
    {
     "name": "stdout",
     "output_type": "stream",
     "text": [
      "('NumOFBooking',)\n",
      "(7,)\n"
     ]
    }
   ],
   "source": [
    "query3 = \"\"\"SELECT COUNT(*) NumOFBooking FROM bookings WHERE BookingSlot BETWEEN '18:00:00' AND '20:00:00';\"\"\"\n",
    "cursor.execute(query3)\n",
    "columns = cursor.column_names\n",
    "results = cursor.fetchall()\n",
    "print(columns)\n",
    "for item in results:\n",
    "    print(item)"
   ]
  },
  {
   "cell_type": "markdown",
   "id": "b899177b",
   "metadata": {},
   "source": [
    "# Task 3.4"
   ]
  },
  {
   "cell_type": "code",
   "execution_count": 7,
   "id": "a8fa50d5",
   "metadata": {},
   "outputs": [
    {
     "name": "stdout",
     "output_type": "stream",
     "text": [
      "('BookingID', 'FullName')\n",
      "(38, 'Anees Java')\n",
      "(39, 'Bald Vin')\n",
      "(40, 'Jay Kon')\n"
     ]
    }
   ],
   "source": [
    "query4 = \"\"\"SELECT B.BookingID,CONCAT(B.GuestFirstName,' ',B.GuestLastName) AS FullName FROM\n",
    "            Bookings B JOIN employees E ON B.EmployeeID = E.EmployeeID\n",
    "            WHERE E.Role='Receptionist' ORDER BY B.BookingSlot;\"\"\"\n",
    "cursor.execute(query4)\n",
    "columns = cursor.column_names\n",
    "results = cursor.fetchall()\n",
    "print(columns)\n",
    "for item in results:\n",
    "    print(item)"
   ]
  },
  {
   "cell_type": "markdown",
   "id": "e91a1e7d",
   "metadata": {},
   "source": [
    "# Task 4"
   ]
  },
  {
   "cell_type": "code",
   "execution_count": 8,
   "id": "26b51c50",
   "metadata": {},
   "outputs": [
    {
     "name": "stdout",
     "output_type": "stream",
     "text": [
      "('TotalSale', 'AverageSale', 'MinimumBillPaid', 'MaximumBillPaid')\n",
      "(Decimal('243'), Decimal('48.6000'), 37, 86)\n"
     ]
    }
   ],
   "source": [
    "query5 = \"\"\"SELECT SUM(BillAmount) AS TotalSale,AVG(BillAmount) AS AverageSale,MIN(BillAmount) AS MinimumBillPaid,MAX(BillAmount) AS MaximumBillPaid FROM Orders \"\"\"\n",
    "cursor.execute(query5)\n",
    "columns = cursor.column_names\n",
    "results = cursor.fetchall()\n",
    "print(columns)\n",
    "for item in results:\n",
    "    print(item)"
   ]
  },
  {
   "cell_type": "markdown",
   "id": "d3bffdb1",
   "metadata": {},
   "source": [
    "# Task 5"
   ]
  },
  {
   "cell_type": "code",
   "execution_count": 9,
   "id": "38946ddf",
   "metadata": {},
   "outputs": [
    {
     "name": "stdout",
     "output_type": "stream",
     "text": [
      "[15:00:00]\n",
      "[Vanessa McCarthy]\n",
      "[Assigned to: Giorgos Dioudis [Head Chef]]\n",
      "[17:30:00]\n",
      "[Marcos Romero]\n",
      "[Assigned to: Fatma Kaya [Assistant Chef]]\n",
      "[18:00:00]\n",
      "[Anees Java]\n",
      "[Assigned to: John Millar [Receptionist]]\n"
     ]
    }
   ],
   "source": [
    "connection = pool.get_connection()\n",
    "cursor = connection.cursor(buffered=True)\n",
    "query6 = \"\"\"SELECT B.BookingSlot,CONCAT(B.GuestFirstName,' ',B.GuestLastName) AS FullName,E.Name,E.Role FROM bookings B JOIN employees E ON B.EmployeeID = E.EmployeeID\n",
    "            ORDER BY B.BookingSlot ASC LIMIT 3;\"\"\"\n",
    "cursor.execute(query6)\n",
    "\n",
    "data = cursor.fetchall()\n",
    "for item in data:\n",
    "    print(\"[{}]\".format(item[0]))\n",
    "    print(\"[{}]\".format(item[1]))\n",
    "    print(\"[Assigned to: {} [{}]]\".format(item[2],item[3]))\n"
   ]
  },
  {
   "cell_type": "code",
   "execution_count": null,
   "id": "61cbbe34",
   "metadata": {},
   "outputs": [],
   "source": []
  }
 ],
 "metadata": {
  "kernelspec": {
   "display_name": "Python 3 (ipykernel)",
   "language": "python",
   "name": "python3"
  },
  "language_info": {
   "codemirror_mode": {
    "name": "ipython",
    "version": 3
   },
   "file_extension": ".py",
   "mimetype": "text/x-python",
   "name": "python",
   "nbconvert_exporter": "python",
   "pygments_lexer": "ipython3",
   "version": "3.11.0"
  }
 },
 "nbformat": 4,
 "nbformat_minor": 5
}
