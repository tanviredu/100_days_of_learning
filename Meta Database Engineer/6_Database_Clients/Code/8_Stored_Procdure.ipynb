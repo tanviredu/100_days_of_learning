{
 "cells": [
  {
   "cell_type": "code",
   "execution_count": 1,
   "id": "7dd60cf0",
   "metadata": {},
   "outputs": [],
   "source": [
    "import datetime as dt\n",
    "import mysql.connector as connector"
   ]
  },
  {
   "cell_type": "code",
   "execution_count": 2,
   "id": "d61d2fc2",
   "metadata": {},
   "outputs": [],
   "source": [
    "connnection = connector.connect(user=\"root\",password=\"\")"
   ]
  },
  {
   "cell_type": "code",
   "execution_count": null,
   "id": "ec08ef5c",
   "metadata": {},
   "outputs": [],
   "source": []
  }
 ],
 "metadata": {
  "kernelspec": {
   "display_name": "Python 3 (ipykernel)",
   "language": "python",
   "name": "python3"
  },
  "language_info": {
   "codemirror_mode": {
    "name": "ipython",
    "version": 3
   },
   "file_extension": ".py",
   "mimetype": "text/x-python",
   "name": "python",
   "nbconvert_exporter": "python",
   "pygments_lexer": "ipython3",
   "version": "3.11.0"
  }
 },
 "nbformat": 4,
 "nbformat_minor": 5
}
